{
 "cells": [
  {
   "cell_type": "code",
   "execution_count": 1,
   "metadata": {},
   "outputs": [],
   "source": [
    "# mnist_softmax\n",
    "# MNIST(Modified National Institute of Standard Technology) Dataset\n",
    "# label : 0 ~ 9 , 손글씨체 이미지  28*28(784 byte) , gray scale\n",
    "# batch : 큰 데이터를 쪼개어 1회에 작은 단위로 가져다가 학습, next_batch()\n",
    "# epoch : batch를 반복하여 전체 데이터가 모두 소진되었을 때를 1 epoch\n",
    "# Vanishing Gradient  : 신경망이 깊어 질수록 입력신호가 사라진다(줄어든다), sigmoid 사용시\n",
    "# Relu  : Rectified Linear Unit, DNN(deep neural net) 구현시 sigmoid 대신 사용됨\n",
    "# dropout : 전체 신경망의 일부를 사용하지 않고 학습, 예측시는 전체를 사용\n",
    "\n",
    "import tensorflow as tf\n",
    "import numpy as np\n",
    "import matplotlib.pyplot as plt\n",
    "tf.random.set_seed(5)"
   ]
  },
  {
   "cell_type": "code",
   "execution_count": 2,
   "metadata": {},
   "outputs": [
    {
     "data": {
      "text/plain": [
       "(60000, 28, 28)"
      ]
     },
     "execution_count": 2,
     "metadata": {},
     "output_type": "execute_result"
    }
   ],
   "source": [
    "# mnist 데이터 가져오기\n",
    "mnist = tf.keras.datasets.mnist\n",
    "(x_train,y_train), (x_test,y_test) = mnist.load_data()\n",
    "x_train.shape"
   ]
  },
  {
   "cell_type": "code",
   "execution_count": 3,
   "metadata": {},
   "outputs": [
    {
     "name": "stdout",
     "output_type": "stream",
     "text": [
      "<class 'numpy.ndarray'> (60000, 28, 28)\n",
      "<class 'numpy.ndarray'> (10000, 28, 28)\n",
      "<class 'numpy.ndarray'> (60000,)\n",
      "<class 'numpy.ndarray'> (10000,)\n",
      "5\n"
     ]
    },
    {
     "data": {
      "image/png": "[encoded data removed]",
      "text/plain": [
       "<Figure size 432x288 with 1 Axes>"
      ]
     },
     "metadata": {
      "needs_background": "light"
     },
     "output_type": "display_data"
    }
   ],
   "source": [
    "# 이미지로 출력\n",
    "def show_one_image(n):\n",
    "    print(type(x_train),x_train.shape)  # (60000, 28, 28)\n",
    "    print(type(x_test),x_test.shape)    # (10000, 28, 28)\n",
    "    print(type(y_train),y_train.shape)  # (60000,)\n",
    "    print(type(y_test),y_test.shape)    # (10000,)\n",
    "    \n",
    "    image = x_train[n]\n",
    "    print(y_train[n])  # 5\n",
    "    \n",
    "    plt.imshow(image,cmap='Greys')\n",
    "    plt.show()\n",
    "    \n",
    "show_one_image(0)    # 0 ~ 59999 , 6만 개의 손글씨체 이미지(train)    "
   ]
  },
  {
   "cell_type": "code",
   "execution_count": 4,
   "metadata": {},
   "outputs": [
    {
     "name": "stdout",
     "output_type": "stream",
     "text": [
      "(60000, 10)\n",
      "(60000, 784) <dtype: 'float32'>\n",
      "(10000, 784) <dtype: 'float32'>\n"
     ]
    }
   ],
   "source": [
    "# one-hot 인코딩\n",
    "nb_classes = 10     # 분류 class의 갯수(0 ~ 9)\n",
    "Y_one_hot = tf.one_hot(y_train,nb_classes) # (60000, 10)\n",
    "print(Y_one_hot.shape)                     # (60000, 10) , 2차원\n",
    "\n",
    "# X값의 shape을 2차원으로 변환\n",
    "x_train = x_train.reshape(-1,28*28)\n",
    "x_test = x_test.reshape(-1,28*28)\n",
    "\n",
    "# X값의 타입을 float형으로 변환\n",
    "x_train = tf.cast(x_train,dtype=tf.float32)\n",
    "print(x_train.shape,x_train.dtype)  # 'float32'\n",
    "\n",
    "x_test = tf.cast(x_test,dtype=tf.float32)\n",
    "print(x_test.shape,x_test.dtype)  # 'float32'"
   ]
  },
  {
   "cell_type": "code",
   "execution_count": 5,
   "metadata": {},
   "outputs": [],
   "source": [
    "# 변수 초기화 : weight, bias\n",
    "# (60000,784) * (784,10)  = (60000,10)\n",
    "\n",
    "W = tf.Variable(tf.random.normal([784,nb_classes]), name ='weight')\n",
    "b = tf.Variable(tf.random.normal([nb_classes]), name = 'bias')"
   ]
  },
  {
   "cell_type": "code",
   "execution_count": 6,
   "metadata": {},
   "outputs": [],
   "source": [
    "# hypothesis 예측 함수 : H(X) = softmax(W*X + b)\n",
    "def logits(X):\n",
    "    return tf.matmul(X,W) + b\n",
    "\n",
    "def hypothesis(X):\n",
    "    return   tf.nn.softmax(logits(X))  "
   ]
  },
  {
   "cell_type": "code",
   "execution_count": 7,
   "metadata": {},
   "outputs": [],
   "source": [
    "# 비용 함수 구현 방법  : tf.nn.softmax_cross_entropy_with_logits() 함수 사용\n",
    "def cost_func():\n",
    "    cost_i = tf.nn.softmax_cross_entropy_with_logits(logits=logits(x_train),\n",
    "                                                     labels=Y_one_hot) # Y값 주의!!\n",
    "    cost = tf.reduce_mean(cost_i)\n",
    "    return cost"
   ]
  },
  {
   "cell_type": "code",
   "execution_count": 8,
   "metadata": {},
   "outputs": [],
   "source": [
    "# 경사 하강법\n",
    "# learning_rate(학습율) 을 0.01로 설정하여 optimizer 객체를 생성\n",
    "optimizer = tf.keras.optimizers.Adam(lr=0.01)"
   ]
  },
  {
   "cell_type": "code",
   "execution_count": 9,
   "metadata": {},
   "outputs": [],
   "source": [
    "# # 방법 1. 전체 데이터를 한번에 학습, 비효율적이며 학습에 장시간 소요\n",
    "# # 학습 시작\n",
    "# print('***** Start Learning!!')\n",
    "# for step in range(2001):\n",
    "#     # cost를 minimize한다\n",
    "#     optimizer.minimize(cost_func,var_list=[W,b])\n",
    "    \n",
    "#     if step % 100 == 0:\n",
    "#         print('%04d'%step,'cost: [',cost_func().numpy(),']')\n",
    "\n",
    "# print('***** Learning Finished')"
   ]
  },
  {
   "cell_type": "code",
   "execution_count": 10,
   "metadata": {},
   "outputs": [
    {
     "name": "stdout",
     "output_type": "stream",
     "text": [
      "Weight : [[-0.18030666 -0.95028627 -0.03964049 ... -0.08899953  2.4488697\n",
      "   0.762508  ]\n",
      " [ 1.2659615   0.9801489   1.5293121  ...  1.260746   -0.6830498\n",
      "   0.02615766]\n",
      " [ 0.22328745  0.95914024 -0.37048063 ... -1.3800851  -0.47065532\n",
      "   1.1383884 ]\n",
      " ...\n",
      " [ 1.0963665  -0.24865687  0.6223928  ...  1.5508499   0.4234103\n",
      "   0.02520746]\n",
      " [-0.3527738   0.49265584  1.340357   ...  0.8335461  -0.7139727\n",
      "  -0.36949137]\n",
      " [ 1.047035   -1.6678632  -0.931739   ...  0.5334487   0.9340817\n",
      "   1.7896466 ]]\n",
      "Bias: [ 0.22652863  0.8106553   0.7466094   0.7749703   0.72448725  1.4217405\n",
      " -0.08917825  1.3464464  -1.0210733   0.00945171]\n"
     ]
    }
   ],
   "source": [
    "# 회귀 계수 : weight과 bias출력\n",
    "print('Weight :',W.numpy())\n",
    "print('Bias:',b.numpy())"
   ]
  },
  {
   "cell_type": "code",
   "execution_count": 11,
   "metadata": {},
   "outputs": [
    {
     "name": "stdout",
     "output_type": "stream",
     "text": [
      "(10000, 10)\n",
      "Accuracy: 0.1722\n",
      "***** Predict\n",
      "[5 2 2 ... 5 0 0] [7 2 1 ... 4 5 6]\n"
     ]
    }
   ],
   "source": [
    "# 정확도 측정, Accuracy Computation\n",
    "# y_test 값의 one-hot 인코딩\n",
    "Y_one_hot = tf.one_hot(y_test,nb_classes)  # (10000,10)\n",
    "print(Y_one_hot.shape)                     # 2차원\n",
    "\n",
    "def predict(X):\n",
    "    return tf.argmax(hypothesis(X),1) \n",
    "\n",
    "correct_predict = tf.equal(predict(x_test),tf.argmax(Y_one_hot,1))\n",
    "\n",
    "accuracy = tf.reduce_mean(tf.cast(correct_predict, dtype = tf.float32))\n",
    "\n",
    "print(\"Accuracy:\",accuracy.numpy()) # Accuracy: 0.8877\n",
    "\n",
    "print('***** Predict')\n",
    "pred = predict(x_test).numpy()\n",
    "print(pred,y_test)"
   ]
  },
  {
   "cell_type": "code",
   "execution_count": 12,
   "metadata": {},
   "outputs": [
    {
     "name": "stdout",
     "output_type": "stream",
     "text": [
      "***** Start Learning!!\n",
      "Epoch: 0001 cost: 679.831721802\n",
      "Epoch: 0002 cost: 204.055833588\n",
      "Epoch: 0003 cost: 148.442460022\n",
      "Epoch: 0004 cost: 121.082789116\n",
      "Epoch: 0005 cost: 103.981336861\n",
      "Epoch: 0006 cost: 91.995034866\n",
      "Epoch: 0007 cost: 82.962849426\n",
      "Epoch: 0008 cost: 75.600071487\n",
      "Epoch: 0009 cost: 69.110813885\n",
      "Epoch: 0010 cost: 63.939318447\n",
      "Epoch: 0011 cost: 59.385780792\n",
      "Epoch: 0012 cost: 55.339124718\n",
      "Epoch: 0013 cost: 51.886596985\n",
      "Epoch: 0014 cost: 48.720244255\n",
      "Epoch: 0015 cost: 46.162903271\n",
      "Epoch: 0016 cost: 43.617414646\n",
      "Epoch: 0017 cost: 41.158525677\n",
      "Epoch: 0018 cost: 39.149295692\n",
      "Epoch: 0019 cost: 37.364985123\n",
      "Epoch: 0020 cost: 35.704376373\n",
      "Epoch: 0021 cost: 34.020390587\n",
      "Epoch: 0022 cost: 32.822016287\n",
      "Epoch: 0023 cost: 31.132872305\n",
      "Epoch: 0024 cost: 30.278787022\n",
      "Epoch: 0025 cost: 28.750059214\n",
      "***** Learning Finished\n"
     ]
    }
   ],
   "source": [
    "# 방법 2. batch 사이즈로 나누어 학습, 효율적 이며 학습 시간 단축\n",
    "# 학습 시작\n",
    "\n",
    "training_epochs = 25\n",
    "batch_size = 600\n",
    "\n",
    "# 경사 하강법\n",
    "# learning_rate(학습율) 을 0.01로 설정하여 optimizer 객체를 생성\n",
    "optimizer = tf.keras.optimizers.Adam(lr=0.01)\n",
    "\n",
    "Y_one_hot = tf.one_hot(y_train,nb_classes)  # (60000,10)\n",
    "\n",
    "print('***** Start Learning!!')\n",
    "for epoch in range(training_epochs):  # 25\n",
    "    \n",
    "    avg_cost = 0\n",
    "    \n",
    "    # 100 = 60000/600\n",
    "    total_batch = int(x_train.shape[0]/batch_size)\n",
    "    for k in range(total_batch):  # 100 \n",
    "        batch_xs = x_train[0+k*batch_size:batch_size + k*batch_size]\n",
    "        batch_ys = Y_one_hot[0+k*batch_size:batch_size + k*batch_size]\n",
    "        \n",
    "        # 비용함수\n",
    "        def cost_func_batch():\n",
    "            cost_i = tf.nn.softmax_cross_entropy_with_logits(logits=logits(batch_xs),\n",
    "                                                     labels=batch_ys) \n",
    "            cost = tf.reduce_mean(cost_i)\n",
    "            return cost    \n",
    "        \n",
    "        # cost를 minimize한다\n",
    "        optimizer.minimize(cost_func_batch,var_list=[W,b])\n",
    "        avg_cost += cost_func_batch().numpy()/total_batch\n",
    "    \n",
    "    print('Epoch:','%04d'%(epoch + 1),'cost:','{:.9f}'.format(avg_cost))\n",
    "          \n",
    "print('***** Learning Finished')"
   ]
  },
  {
   "cell_type": "code",
   "execution_count": 13,
   "metadata": {},
   "outputs": [
    {
     "name": "stdout",
     "output_type": "stream",
     "text": [
      "Weight = [[-0.18030666 -0.95028627 -0.03964049 ... -0.08899953  2.4488697\n",
      "   0.762508  ]\n",
      " [ 1.2659615   0.9801489   1.5293121  ...  1.260746   -0.6830498\n",
      "   0.02615766]\n",
      " [ 0.22328745  0.95914024 -0.37048063 ... -1.3800851  -0.47065532\n",
      "   1.1383884 ]\n",
      " ...\n",
      " [ 1.0963665  -0.24865687  0.6223928  ...  1.5508499   0.4234103\n",
      "   0.02520746]\n",
      " [-0.3527738   0.49265584  1.340357   ...  0.8335461  -0.7139727\n",
      "  -0.36949137]\n",
      " [ 1.047035   -1.6678632  -0.931739   ...  0.5334487   0.9340817\n",
      "   1.7896466 ]]\n",
      "Bias = [-1.4179924   2.569362    1.6995136  -0.35616645  1.3780442   7.1171045\n",
      " -1.6065992   3.4458313  -4.8376307  -1.1791999 ]\n"
     ]
    }
   ],
   "source": [
    "# 회귀 계수 출력\n",
    "print('Weight =', W.numpy())\n",
    "print('Bias =', b.numpy())"
   ]
  },
  {
   "cell_type": "code",
   "execution_count": 14,
   "metadata": {},
   "outputs": [
    {
     "name": "stdout",
     "output_type": "stream",
     "text": [
      "***** Predict\n",
      "[7 2 1 ... 4 5 6] [7 2 1 ... 4 5 6]\n",
      "Accuracy: 0.8871\n"
     ]
    }
   ],
   "source": [
    "# 예측  , accuracy computation\n",
    "\n",
    "def predict(X):\n",
    "    return tf.argmax(hypothesis(X),1) \n",
    "\n",
    "Y_one_hot = tf.one_hot(y_test,nb_classes)  # (10000, 10)\n",
    "# print(Y_one_hot.shape)\n",
    "\n",
    "# print(x_test.dtype,x_test.shape)\n",
    "\n",
    "correct_predict = tf.equal(predict(x_test),tf.argmax(Y_one_hot,1))\n",
    "accuracy = tf.reduce_mean(tf.cast(correct_predict, dtype = tf.float32))\n",
    "\n",
    "print('***** Predict')\n",
    "\n",
    "pred = predict(x_test).numpy()\n",
    "print(pred,y_test)\n",
    "print(\"Accuracy:\",accuracy.numpy()) # Accuracy:  0.8871"
   ]
  },
  {
   "cell_type": "code",
   "execution_count": 15,
   "metadata": {},
   "outputs": [
    {
     "name": "stdout",
     "output_type": "stream",
     "text": [
      "random = 579  Label: 7\n",
      "Prediction : [7]\n"
     ]
    },
    {
     "data": {
      "image/png": "[encoded data removed]",
      "text/plain": [
       "<Figure size 432x288 with 1 Axes>"
      ]
     },
     "metadata": {
      "needs_background": "light"
     },
     "output_type": "display_data"
    }
   ],
   "source": [
    "# 임의의 test 데이터로 예측한 값 시각화하기\n",
    "r = np.random.randint(0,x_test.shape[0] - 1) # 0 to 9999 random int number\n",
    "Y_one_hot = tf.one_hot(y_test,nb_classes)\n",
    "print(\"random =\",r,\" Label:\", y_test[r])\n",
    "print(\"Prediction :\", predict(x_test[r:r+1]).numpy())\n",
    "\n",
    "image = tf.reshape(x_test[r],(28,28))\n",
    "plt.imshow(image,cmap='Greys')  \n",
    "plt.show()"
   ]
  },
  {
   "cell_type": "code",
   "execution_count": null,
   "metadata": {},
   "outputs": [],
   "source": []
  }
 ],
 "metadata": {
  "kernelspec": {
   "display_name": "Python 3",
   "language": "python",
   "name": "python3"
  },
  "language_info": {
   "codemirror_mode": {
    "name": "ipython",
    "version": 3
   },
   "file_extension": ".py",
   "mimetype": "text/x-python",
   "name": "python",
   "nbconvert_exporter": "python",
   "pygments_lexer": "ipython3",
   "version": "3.7.7"
  }
 },
 "nbformat": 4,
 "nbformat_minor": 4
}
