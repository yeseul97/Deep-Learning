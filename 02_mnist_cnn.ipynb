{
 "cells": [
  {
   "cell_type": "code",
   "execution_count": 1,
   "metadata": {
    "colab": {},
    "colab_type": "code",
    "executionInfo": {
     "elapsed": 2080,
     "status": "ok",
     "timestamp": 1598491599231,
     "user": {
      "displayName": "고병화",
      "photoUrl": "https://lh3.googleusercontent.com/a-/AOh14GgLZcAZyPt33HiIqtXjHiL8D4PIcVPdfLgODP1QBA=s64",
      "userId": "12645007744594631320"
     },
     "user_tz": -540
    },
    "id": "t3teP3pGg4Wn"
   },
   "outputs": [],
   "source": [
    "# mnist_cnn\n",
    "# MNIST and Convolutional Neural Network\n",
    "\n",
    "import tensorflow as tf\n",
    "import numpy as np\n",
    "import matplotlib.pyplot as plt\n",
    "tf.random.set_seed(5)\n"
   ]
  },
  {
   "cell_type": "code",
   "execution_count": 2,
   "metadata": {
    "colab": {
     "base_uri": "https://localhost:8080/",
     "height": 69
    },
    "colab_type": "code",
    "executionInfo": {
     "elapsed": 2342,
     "status": "ok",
     "timestamp": 1598491599521,
     "user": {
      "displayName": "고병화",
      "photoUrl": "https://lh3.googleusercontent.com/a-/AOh14GgLZcAZyPt33HiIqtXjHiL8D4PIcVPdfLgODP1QBA=s64",
      "userId": "12645007744594631320"
     },
     "user_tz": -540
    },
    "id": "yKIUePLsg4Wt",
    "outputId": "3efca99a-c041-42b1-e710-1e52448eaad2"
   },
   "outputs": [
    {
     "name": "stdout",
     "output_type": "stream",
     "text": [
      "Downloading data from https://storage.googleapis.com/tensorflow/tf-keras-datasets/mnist.npz\n",
      "11493376/11490434 [==============================] - 0s 0us/step\n",
      "(60000, 28, 28)\n"
     ]
    }
   ],
   "source": [
    "# mnist 데이터 가져오기\n",
    "mnist = tf.keras.datasets.mnist\n",
    "(x_train,y_train), (x_test,y_test) = mnist.load_data()\n",
    "print(x_train.shape)"
   ]
  },
  {
   "cell_type": "code",
   "execution_count": 3,
   "metadata": {
    "colab": {
     "base_uri": "https://localhost:8080/",
     "height": 69
    },
    "colab_type": "code",
    "executionInfo": {
     "elapsed": 7916,
     "status": "ok",
     "timestamp": 1598491605108,
     "user": {
      "displayName": "고병화",
      "photoUrl": "https://lh3.googleusercontent.com/a-/AOh14GgLZcAZyPt33HiIqtXjHiL8D4PIcVPdfLgODP1QBA=s64",
      "userId": "12645007744594631320"
     },
     "user_tz": -540
    },
    "id": "Qm0oP6WAg4Wz",
    "outputId": "5e301340-b5a0-4552-e9f4-9b7749ee724c"
   },
   "outputs": [
    {
     "name": "stdout",
     "output_type": "stream",
     "text": [
      "(60000, 10)\n",
      "(60000, 28, 28) <dtype: 'float32'>\n",
      "(10000, 28, 28) <dtype: 'float32'>\n"
     ]
    }
   ],
   "source": [
    "# one-hot 인코딩\n",
    "nb_classes = 10     # 분류 class의 갯수(0 ~ 9)\n",
    "Y_one_hot = tf.one_hot(y_train,nb_classes) # (60000, 10)\n",
    "print(Y_one_hot.shape)                     # (60000, 10) , 2차원\n",
    "\n",
    "\n",
    "# X값의 타입을 float형으로 변환\n",
    "x_train = tf.cast(x_train,dtype=tf.float32)\n",
    "print(x_train.shape,x_train.dtype)  # 'float32'\n",
    "\n",
    "x_test = tf.cast(x_test,dtype=tf.float32)\n",
    "print(x_test.shape,x_test.dtype)  # 'float32\n"
   ]
  },
  {
   "cell_type": "code",
   "execution_count": 4,
   "metadata": {
    "colab": {
     "base_uri": "https://localhost:8080/",
     "height": 34
    },
    "colab_type": "code",
    "executionInfo": {
     "elapsed": 7910,
     "status": "ok",
     "timestamp": 1598491605110,
     "user": {
      "displayName": "고병화",
      "photoUrl": "https://lh3.googleusercontent.com/a-/AOh14GgLZcAZyPt33HiIqtXjHiL8D4PIcVPdfLgODP1QBA=s64",
      "userId": "12645007744594631320"
     },
     "user_tz": -540
    },
    "id": "4Q7cCUEtg4W3",
    "outputId": "6fc1d5e8-96cf-4475-ca72-d92186c5bbc4"
   },
   "outputs": [
    {
     "name": "stdout",
     "output_type": "stream",
     "text": [
      "(60000, 28, 28, 1)\n"
     ]
    }
   ],
   "source": [
    "# X값의 shape을 4차원으로 변환\n",
    "X_img = tf.reshape(x_train,[-1,28,28,1])\n",
    "print(X_img.shape)"
   ]
  },
  {
   "cell_type": "code",
   "execution_count": 5,
   "metadata": {
    "colab": {},
    "colab_type": "code",
    "executionInfo": {
     "elapsed": 7909,
     "status": "ok",
     "timestamp": 1598491605112,
     "user": {
      "displayName": "고병화",
      "photoUrl": "https://lh3.googleusercontent.com/a-/AOh14GgLZcAZyPt33HiIqtXjHiL8D4PIcVPdfLgODP1QBA=s64",
      "userId": "12645007744594631320"
     },
     "user_tz": -540
    },
    "id": "edTTckKxg4W6"
   },
   "outputs": [],
   "source": [
    "# Layer 1  : conv2d - relu - max_pool\n",
    "# (?,28,28,1) ---> (?,14,14,32)\n",
    "\n",
    "# <1> conv2d\n",
    "# L1 image shape : (?,28,28,1)\n",
    "# filter : (3,3,1,32) , 필터 32개\n",
    "# strides : (1,1,1,1), padding ='SAME'\n",
    "# 출력 이미지 : (28+2 - 3)/1 + 1 = 28,   --> (?,28,28,32)\n",
    "W1 = tf.Variable(tf.random.normal([3,3,1,32]),name='weight1')  # filter\n",
    "def L1_conv2d(X):\n",
    "    return tf.nn.conv2d(X,W1,strides=[1,1,1,1],padding='SAME')\n",
    "\n",
    "# <2> relu\n",
    "def L1_relu(X):\n",
    "    return tf.nn.relu(L1_conv2d(X))   # shape 변화가 없다\n",
    "\n",
    "# <3> max_pool\n",
    "# input image : (?,28,28,32)\n",
    "# kernel size : (1,2,2,1), strides : (1,2,2,1), padding ='SAME'\n",
    "# 출력 이미지 : (28+1 - 2)/2 + 1 = 14  ---> (?,14,14,32)\n",
    "def L1_MaxPool(X):\n",
    "    return tf.nn.max_pool(L1_relu(X),ksize=[1,2,2,1],strides=[1,2,2,1],padding='SAME')    "
   ]
  },
  {
   "cell_type": "code",
   "execution_count": 6,
   "metadata": {
    "colab": {},
    "colab_type": "code",
    "executionInfo": {
     "elapsed": 7905,
     "status": "ok",
     "timestamp": 1598491605113,
     "user": {
      "displayName": "고병화",
      "photoUrl": "https://lh3.googleusercontent.com/a-/AOh14GgLZcAZyPt33HiIqtXjHiL8D4PIcVPdfLgODP1QBA=s64",
      "userId": "12645007744594631320"
     },
     "user_tz": -540
    },
    "id": "IXxe4UNEg4W9"
   },
   "outputs": [],
   "source": [
    "# Layer2  : conv2d - relu - max_pool\n",
    "# (?,14,14,32) --> (?,14,14,64) --> (?,7,7,64) --> (?,7*7*64) \n",
    "\n",
    "# <1> conv2d\n",
    "# L2 image shape : (?,14,14,32)\n",
    "# filter : (3,3,32,64) , 필터 64개\n",
    "# strides : (1,1,1,1), padding ='SAME'\n",
    "# 출력 이미지 : (14+2 - 3)/1 + 1 = 14,   --> (?,14,14,64)\n",
    "W2 = tf.Variable(tf.random.normal([3,3,32,64]),name='weight2')  # filter\n",
    "def L2_conv2d(X):\n",
    "    return tf.nn.conv2d(L1_MaxPool(X),W2,strides=[1,1,1,1],padding='SAME')\n",
    "\n",
    "# <2> relu\n",
    "def L2_relu(X):\n",
    "    return tf.nn.relu(L2_conv2d(X))   # shape 변화가 없다\n",
    "\n",
    "# <3> max_pool\n",
    "# input image : (?,14,14,64)\n",
    "# kernel size : (1,2,2,1), strides : (1,2,2,1), padding ='SAME'\n",
    "# 출력 이미지 : (14+1 - 2)/2 + 1 = 7  ---> (?,7,7,64)\n",
    "def L2_MaxPool(X):\n",
    "    return tf.nn.max_pool(L2_relu(X),ksize=[1,2,2,1],strides=[1,2,2,1],padding='SAME') \n",
    "\n",
    "# <4> flatten layer  : 다차원 배열을 2차원으로 변환하여 FC layer에 전달한다\n",
    "def L2_flat(X):\n",
    "    return tf.reshape(L2_MaxPool(X),[-1,7*7*64])"
   ]
  },
  {
   "cell_type": "code",
   "execution_count": 7,
   "metadata": {
    "colab": {},
    "colab_type": "code",
    "executionInfo": {
     "elapsed": 7902,
     "status": "ok",
     "timestamp": 1598491605114,
     "user": {
      "displayName": "고병화",
      "photoUrl": "https://lh3.googleusercontent.com/a-/AOh14GgLZcAZyPt33HiIqtXjHiL8D4PIcVPdfLgODP1QBA=s64",
      "userId": "12645007744594631320"
     },
     "user_tz": -540
    },
    "id": "Rx2a7vltg4XA"
   },
   "outputs": [],
   "source": [
    "# Layer 3 : FC(Fully Connected Layer)\n",
    "# (?,7*7*64) * (7*7*64,10 ) --> (?,10)\n",
    "nb_classes = 10\n",
    "W3 = tf.Variable(tf.random.normal([7*7*64,nb_classes]), name ='weight3')\n",
    "b = tf.Variable(tf.random.normal([nb_classes]), name = 'bias')"
   ]
  },
  {
   "cell_type": "code",
   "execution_count": 8,
   "metadata": {
    "colab": {},
    "colab_type": "code",
    "executionInfo": {
     "elapsed": 7895,
     "status": "ok",
     "timestamp": 1598491605115,
     "user": {
      "displayName": "고병화",
      "photoUrl": "https://lh3.googleusercontent.com/a-/AOh14GgLZcAZyPt33HiIqtXjHiL8D4PIcVPdfLgODP1QBA=s64",
      "userId": "12645007744594631320"
     },
     "user_tz": -540
    },
    "id": "Z_ncXVdmg4XD"
   },
   "outputs": [],
   "source": [
    "# hypothesis 예측 함수 : H(X) = softmax(W*X + b)\n",
    "def logits(X):\n",
    "    return tf.matmul(L2_flat(X),W3) + b\n",
    "\n",
    "def hypothesis(X):\n",
    "    return   tf.nn.softmax(logits(X))  "
   ]
  },
  {
   "cell_type": "code",
   "execution_count": 9,
   "metadata": {
    "colab": {
     "base_uri": "https://localhost:8080/",
     "height": 916
    },
    "colab_type": "code",
    "executionInfo": {
     "elapsed": 106925,
     "status": "ok",
     "timestamp": 1598491704155,
     "user": {
      "displayName": "고병화",
      "photoUrl": "https://lh3.googleusercontent.com/a-/AOh14GgLZcAZyPt33HiIqtXjHiL8D4PIcVPdfLgODP1QBA=s64",
      "userId": "12645007744594631320"
     },
     "user_tz": -540
    },
    "id": "ChTfvBHsg4XK",
    "outputId": "3d21fa03-c2b1-4975-ce6c-0ab01246035c"
   },
   "outputs": [
    {
     "name": "stdout",
     "output_type": "stream",
     "text": [
      "***** Start Learning!!\n",
      "Epoch: 0001 cost: 16359.360611572\n",
      "Epoch: 0002 cost: 2609.244541016\n",
      "Epoch: 0003 cost: 1503.309845581\n",
      "Epoch: 0004 cost: 1013.575948486\n",
      "Epoch: 0005 cost: 746.071317902\n",
      "Epoch: 0006 cost: 577.549841995\n",
      "Epoch: 0007 cost: 453.436385994\n",
      "Epoch: 0008 cost: 364.561368103\n",
      "Epoch: 0009 cost: 308.943035088\n",
      "Epoch: 0010 cost: 253.859949150\n",
      "Epoch: 0011 cost: 215.736172752\n",
      "Epoch: 0012 cost: 189.695848408\n",
      "Epoch: 0013 cost: 151.001017895\n",
      "Epoch: 0014 cost: 123.021624918\n",
      "Epoch: 0015 cost: 95.155155702\n",
      "Epoch: 0016 cost: 85.175316920\n",
      "Epoch: 0017 cost: 63.144783616\n",
      "Epoch: 0018 cost: 64.453414921\n",
      "Epoch: 0019 cost: 51.621211880\n",
      "Epoch: 0020 cost: 52.028042244\n",
      "Epoch: 0021 cost: 50.492375683\n",
      "Epoch: 0022 cost: 47.242263544\n",
      "Epoch: 0023 cost: 37.381401564\n",
      "Epoch: 0024 cost: 35.557780277\n",
      "Epoch: 0025 cost: 23.786104871\n",
      "Epoch: 0026 cost: 17.212622674\n",
      "Epoch: 0027 cost: 13.829266647\n",
      "Epoch: 0028 cost: 9.983195732\n",
      "Epoch: 0029 cost: 10.512800937\n",
      "Epoch: 0030 cost: 8.796221958\n",
      "Epoch: 0031 cost: 6.889642160\n",
      "Epoch: 0032 cost: 5.929364509\n",
      "Epoch: 0033 cost: 5.079646092\n",
      "Epoch: 0034 cost: 5.630362494\n",
      "Epoch: 0035 cost: 5.190646087\n",
      "Epoch: 0036 cost: 6.080535848\n",
      "Epoch: 0037 cost: 5.191870258\n",
      "Epoch: 0038 cost: 5.490811431\n",
      "Epoch: 0039 cost: 5.557327998\n",
      "Epoch: 0040 cost: 6.234442651\n",
      "Epoch: 0041 cost: 3.797243302\n",
      "Epoch: 0042 cost: 5.544452024\n",
      "Epoch: 0043 cost: 3.036620911\n",
      "Epoch: 0044 cost: 7.497984942\n",
      "Epoch: 0045 cost: 13.685598598\n",
      "Epoch: 0046 cost: 6.966176639\n",
      "Epoch: 0047 cost: 10.161147854\n",
      "Epoch: 0048 cost: 7.459231922\n",
      "Epoch: 0049 cost: 5.776079315\n",
      "Epoch: 0050 cost: 9.728244583\n",
      "***** Learning Finished\n"
     ]
    }
   ],
   "source": [
    "# 방법 2. batch 사이즈로 나누어 학습, 효율적 이며 학습 시간 단축\n",
    "# 학습 시작\n",
    "\n",
    "training_epochs = 50\n",
    "batch_size = 600\n",
    "\n",
    "# 경사 하강법\n",
    "# learning_rate(학습율) 을 0.01로 설정하여 optimizer 객체를 생성\n",
    "optimizer = tf.keras.optimizers.Adam(lr=0.01)\n",
    "\n",
    "Y_one_hot = tf.one_hot(y_train,nb_classes)  # (60000,10)\n",
    "\n",
    "print('***** Start Learning!!')\n",
    "for epoch in range(training_epochs):  # 50\n",
    "    \n",
    "    avg_cost = 0\n",
    "    \n",
    "    # 100 = 60000/600\n",
    "    total_batch = int(x_train.shape[0]/batch_size)\n",
    "    for k in range(total_batch):  # 100 \n",
    "        batch_xs = x_train[0+k*batch_size:batch_size + k*batch_size]\n",
    "        batch_ys = Y_one_hot[0+k*batch_size:batch_size + k*batch_size]\n",
    "        \n",
    "        # X값의 shape을 4차원으로 변환 코드 추가\n",
    "        X_img = tf.reshape(batch_xs,[-1,28,28,1])\n",
    "        \n",
    "        # 비용함수\n",
    "        def cost_func_batch():\n",
    "            cost_i = tf.nn.softmax_cross_entropy_with_logits(logits=logits(X_img),\n",
    "                                                     labels=batch_ys) \n",
    "            cost = tf.reduce_mean(cost_i)\n",
    "            return cost    \n",
    "        \n",
    "        # cost를 minimize한다\n",
    "        optimizer.minimize(cost_func_batch,var_list=[W1,W2,W3,b])\n",
    "        avg_cost += cost_func_batch().numpy()/total_batch\n",
    "    \n",
    "    print('Epoch:','%04d'%(epoch + 1),'cost:','{:.9f}'.format(avg_cost))\n",
    "          \n",
    "print('***** Learning Finished')"
   ]
  },
  {
   "cell_type": "code",
   "execution_count": 10,
   "metadata": {
    "colab": {
     "base_uri": "https://localhost:8080/",
     "height": 69
    },
    "colab_type": "code",
    "executionInfo": {
     "elapsed": 107649,
     "status": "ok",
     "timestamp": 1598491704886,
     "user": {
      "displayName": "고병화",
      "photoUrl": "https://lh3.googleusercontent.com/a-/AOh14GgLZcAZyPt33HiIqtXjHiL8D4PIcVPdfLgODP1QBA=s64",
      "userId": "12645007744594631320"
     },
     "user_tz": -540
    },
    "id": "Ql4uPAQig4XP",
    "outputId": "fad14956-6853-419b-b42d-36f3b01a4d63"
   },
   "outputs": [
    {
     "name": "stdout",
     "output_type": "stream",
     "text": [
      "***** Predict\n",
      "[7 2 1 ... 4 5 6] [7 2 1 ... 4 5 6]\n",
      "Accuracy: 0.981\n"
     ]
    }
   ],
   "source": [
    "# 예측  , accuracy computation\n",
    "\n",
    "def predict(X):\n",
    "    return tf.argmax(hypothesis(X),1) \n",
    "\n",
    "Y_one_hot = tf.one_hot(y_test,nb_classes)  # (10000, 10)\n",
    "# print(Y_one_hot.shape)\n",
    "\n",
    "# X값의 shape을 4차원으로 변환 코드 추가\n",
    "X_img = tf.reshape(x_test,[-1,28,28,1])\n",
    "\n",
    "correct_predict = tf.equal(predict(X_img),tf.argmax(Y_one_hot,1))\n",
    "accuracy = tf.reduce_mean(tf.cast(correct_predict, dtype = tf.float32))\n",
    "\n",
    "print('***** Predict')\n",
    "\n",
    "pred = predict(X_img).numpy()\n",
    "print(pred,y_test)\n",
    "print(\"Accuracy:\",accuracy.numpy()) # Accuracy: 0.981"
   ]
  },
  {
   "cell_type": "code",
   "execution_count": 11,
   "metadata": {
    "colab": {},
    "colab_type": "code",
    "executionInfo": {
     "elapsed": 107647,
     "status": "ok",
     "timestamp": 1598491704887,
     "user": {
      "displayName": "고병화",
      "photoUrl": "https://lh3.googleusercontent.com/a-/AOh14GgLZcAZyPt33HiIqtXjHiL8D4PIcVPdfLgODP1QBA=s64",
      "userId": "12645007744594631320"
     },
     "user_tz": -540
    },
    "id": "Lbn9r-9cg4XS"
   },
   "outputs": [],
   "source": [
    "# 정확도 비교\n",
    "\n",
    "# [1] softmax 사용\n",
    "# 1 layers              -------> Accuracy  : 0.8871\n",
    "# 4 layers  sigmoid     -------> Accuracy  : 0.9033\n",
    "# 4 layers  relu        -------> Accuracy  : 0.9534  \n",
    "\n",
    "# [2] CNN 사용\n",
    "# 3 layers              -------> Accuracy  : 0.981\n",
    "# 5 layers              -------> Accuracy  : \n",
    "\n",
    "# [3] Keras에서 CNN 사용\n",
    "#\n",
    "# VGGNet"
   ]
  }
 ],
 "metadata": {
  "accelerator": "GPU",
  "colab": {
   "collapsed_sections": [],
   "name": "02_mnist_cnn.ipynb",
   "provenance": []
  },
  "kernelspec": {
   "display_name": "Python 3",
   "language": "python",
   "name": "python3"
  },
  "language_info": {
   "codemirror_mode": {
    "name": "ipython",
    "version": 3
   },
   "file_extension": ".py",
   "mimetype": "text/x-python",
   "name": "python",
   "nbconvert_exporter": "python",
   "pygments_lexer": "ipython3",
   "version": "3.7.6"
  }
 },
 "nbformat": 4,
 "nbformat_minor": 1
}
