{
 "cells": [
  {
   "cell_type": "markdown",
   "metadata": {},
   "source": [
    "## RNN(Recurrent Neural Network) : 순환 신경망\n",
    "#### 순서가 있는 시퀀스 데이터, time series data(시계열 데이터)를 입력하여 예측"
   ]
  },
  {
   "cell_type": "code",
   "execution_count": 1,
   "metadata": {},
   "outputs": [],
   "source": [
    "# rnn_basic\n",
    "import numpy as np\n",
    "import tensorflow as tf"
   ]
  },
  {
   "cell_type": "markdown",
   "metadata": {},
   "source": [
    "### One cell: 4 (input_dim) in 2 (hidden_size)"
   ]
  },
  {
   "cell_type": "markdown",
   "metadata": {},
   "source": [
    "![image](https://cloud.githubusercontent.com/assets/901975/23348727/cc981856-fce7-11e6-83ea-4b187473466b.png)"
   ]
  },
  {
   "cell_type": "code",
   "execution_count": 2,
   "metadata": {},
   "outputs": [],
   "source": [
    "# One hot encoding for each char in 'hello'\n",
    "h = [1, 0, 0, 0]\n",
    "e = [0, 1, 0, 0]\n",
    "l = [0, 0, 1, 0]\n",
    "o = [0, 0, 0, 1]"
   ]
  },
  {
   "cell_type": "code",
   "execution_count": 3,
   "metadata": {},
   "outputs": [
    {
     "name": "stdout",
     "output_type": "stream",
     "text": [
      "x_data: [[[1. 0. 0. 0.]]], shape: (1, 1, 4)\n",
      "outputs: [[[-0.4360823  0.4310668]]], shape: (1, 1, 2)\n",
      "states: [[-0.4360823  0.4310668]], shape: (1, 2)\n"
     ]
    }
   ],
   "source": [
    "# One cell RNN input_dim (4) -> output_dim (2)\n",
    "x_data = np.array([[h]], dtype=np.float32)\n",
    "\n",
    "hidden_size = 2\n",
    "cell = tf.keras.layers.SimpleRNNCell(units=hidden_size) \n",
    "rnn = tf.keras.layers.RNN(cell, return_sequences=True, return_state=True) \n",
    "                               # return_sequences=True : 출력으로 시퀀스 전체를 출력할지 여부를 설정\n",
    "outputs, states = rnn(x_data)\n",
    "\n",
    "print('x_data: {}, shape: {}'.format(x_data, x_data.shape))\n",
    "print('outputs: {}, shape: {}'.format(outputs, outputs.shape))\n",
    "print('states: {}, shape: {}'.format(states, states.shape))"
   ]
  },
  {
   "cell_type": "code",
   "execution_count": 4,
   "metadata": {},
   "outputs": [
    {
     "name": "stdout",
     "output_type": "stream",
     "text": [
      "x_data: [[[1. 0. 0. 0.]]], shape: (1, 1, 4)\n",
      "outputs: [[[ 0.6507336  -0.68834627]]], shape: (1, 1, 2)\n",
      "states: [[ 0.6507336  -0.68834627]], shape: (1, 2)\n"
     ]
    }
   ],
   "source": [
    "# 위 코드와  동일한 결과\n",
    "rnn = tf.keras.layers.SimpleRNN(units=hidden_size, return_sequences=True,\n",
    "                       return_state=True) \n",
    "\n",
    "outputs, states = rnn(x_data)\n",
    "\n",
    "print('x_data: {}, shape: {}'.format(x_data, x_data.shape))\n",
    "print('outputs: {}, shape: {}'.format(outputs, outputs.shape))\n",
    "print('states: {}, shape: {}'.format(states, states.shape))"
   ]
  },
  {
   "cell_type": "markdown",
   "metadata": {},
   "source": [
    "### Unfolding to n sequences"
   ]
  },
  {
   "cell_type": "markdown",
   "metadata": {},
   "source": [
    "![image](https://cloud.githubusercontent.com/assets/901975/23383634/649efd0a-fd82-11e6-925d-8041242743b0.png)"
   ]
  },
  {
   "cell_type": "code",
   "execution_count": 5,
   "metadata": {},
   "outputs": [
    {
     "name": "stdout",
     "output_type": "stream",
     "text": [
      "x_data: [[[1. 0. 0. 0.]\n",
      "  [0. 1. 0. 0.]\n",
      "  [0. 0. 1. 0.]\n",
      "  [0. 0. 1. 0.]\n",
      "  [0. 0. 0. 1.]]], shape: (1, 5, 4) \n",
      "\n",
      "outputs: [[[-0.6814219  -0.511346  ]\n",
      "  [-0.01621173  0.1252823 ]\n",
      "  [-0.62091553  0.07423609]\n",
      "  [-0.24643683 -0.29448262]\n",
      "  [ 0.14834651 -0.60786676]]], shape: (1, 5, 2) \n",
      "\n",
      "states: [[ 0.14834651 -0.60786676]], shape: (1, 2)\n"
     ]
    }
   ],
   "source": [
    "# One cell RNN input_dim (4) -> output_dim (2). sequence: 5\n",
    "x_data = np.array([[h, e, l, l, o]], dtype=np.float32)\n",
    "\n",
    "hidden_size = 2\n",
    "rnn = tf.keras.layers.SimpleRNN(units=2, return_sequences=True, return_state=True)    \n",
    "outputs, states = rnn(x_data)\n",
    "\n",
    "print('x_data: {}, shape: {} \\n'.format(x_data, x_data.shape))\n",
    "print('outputs: {}, shape: {} \\n'.format(outputs, outputs.shape))\n",
    "print('states: {}, shape: {}'.format(states, states.shape))"
   ]
  },
  {
   "cell_type": "markdown",
   "metadata": {},
   "source": [
    "### Batching input"
   ]
  },
  {
   "cell_type": "markdown",
   "metadata": {},
   "source": [
    "![image](https://cloud.githubusercontent.com/assets/901975/23383681/9943a9fc-fd82-11e6-8121-bd187994e249.png)"
   ]
  },
  {
   "cell_type": "code",
   "execution_count": 6,
   "metadata": {},
   "outputs": [
    {
     "name": "stdout",
     "output_type": "stream",
     "text": [
      "x_data: [[[1. 0. 0. 0.]\n",
      "  [0. 1. 0. 0.]\n",
      "  [0. 0. 1. 0.]\n",
      "  [0. 0. 1. 0.]\n",
      "  [0. 0. 0. 1.]]\n",
      "\n",
      " [[0. 1. 0. 0.]\n",
      "  [0. 0. 0. 1.]\n",
      "  [0. 0. 1. 0.]\n",
      "  [0. 0. 1. 0.]\n",
      "  [0. 0. 1. 0.]]\n",
      "\n",
      " [[0. 0. 1. 0.]\n",
      "  [0. 0. 1. 0.]\n",
      "  [0. 1. 0. 0.]\n",
      "  [0. 1. 0. 0.]\n",
      "  [0. 0. 1. 0.]]], shape: (3, 5, 4) \n",
      "\n",
      "outputs: [[[ 0.08819446  0.38960198]\n",
      "  [-0.54972345 -0.25454485]\n",
      "  [-0.62916857 -0.90192676]\n",
      "  [-0.10827651 -0.92834145]\n",
      "  [ 0.5384187   0.50896376]]\n",
      "\n",
      " [[-0.23865207 -0.37898633]\n",
      "  [ 0.04018344  0.4654518 ]\n",
      "  [-0.88012123 -0.6657547 ]\n",
      "  [-0.35904893 -0.9530476 ]\n",
      "  [-0.0225377  -0.8821077 ]]\n",
      "\n",
      " [[-0.72597563 -0.7182675 ]\n",
      "  [-0.29450056 -0.93763316]\n",
      "  [ 0.5699696  -0.6717871 ]\n",
      "  [ 0.46014357  0.07775088]\n",
      "  [-0.7337473  -0.41172546]]], shape: (3, 5, 2) \n",
      "\n",
      "states: [[ 0.5384187   0.50896376]\n",
      " [-0.0225377  -0.8821077 ]\n",
      " [-0.7337473  -0.41172546]], shape: (3, 2)\n"
     ]
    }
   ],
   "source": [
    "# One cell RNN input_dim (4) -> output_dim (2). sequence: 5, batch 3\n",
    "# 3 batches 'hello', 'eolll', 'lleel'\n",
    "x_data = np.array([[h, e, l, l, o],\n",
    "                   [e, o, l, l, l],\n",
    "                   [l, l, e, e, l]], dtype=np.float32)\n",
    "\n",
    "hidden_size = 2\n",
    "rnn = tf.keras.layers.SimpleRNN(units=2, return_sequences=True, return_state=True)    \n",
    "outputs, states = rnn(x_data)\n",
    "\n",
    "print('x_data: {}, shape: {} \\n'.format(x_data, x_data.shape))\n",
    "print('outputs: {}, shape: {} \\n'.format(outputs, outputs.shape))\n",
    "print('states: {}, shape: {}'.format(states, states.shape))"
   ]
  }
 ],
 "metadata": {
  "kernelspec": {
   "display_name": "Python 3",
   "language": "python",
   "name": "python3"
  },
  "language_info": {
   "codemirror_mode": {
    "name": "ipython",
    "version": 3
   },
   "file_extension": ".py",
   "mimetype": "text/x-python",
   "name": "python",
   "nbconvert_exporter": "python",
   "pygments_lexer": "ipython3",
   "version": "3.7.6"
  }
 },
 "nbformat": 4,
 "nbformat_minor": 1
}
