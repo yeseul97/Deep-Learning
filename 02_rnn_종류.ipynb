{
 "cells": [
  {
   "cell_type": "markdown",
   "metadata": {
    "colab_type": "text",
    "id": "WMWAnXMhlM1u"
   },
   "source": [
    "### * RNN 주요 레이어 종류\n",
    "#### (1) SimpleRNN :가장 간단한 형태의 RNN레이어, 활성화 함수로 tanh가 사용됨(tanh: -1 ~ 1 사이의 값을 반환)\n",
    "#### (2) LSTM(Long short Term Memory) : 입력 데이터와 출력 사이의 거리가 멀어질수로 연관 관계가 적어진다(Long Term Dependency,장기의존성 문제), LSTM은 장기 의존성 문제를 해결하기 위해 출력값외에 셀상태(cell state)값을 출력함, 활 함수로 tanh외에 sigmoid가 사용됨\n",
    "#### (3) GRU(Gated Recurent Unit) : 뉴욕대 조경현 교수 등이 제안, LSTM보다 구조가 간단하고 성능이 우수함"
   ]
  },
  {
   "cell_type": "code",
   "execution_count": 1,
   "metadata": {
    "colab": {},
    "colab_type": "code",
    "id": "5wDCfmYflM1z"
   },
   "outputs": [],
   "source": [
    "# rnn_basic\n",
    "\n",
    "import tensorflow as tf\n",
    "import numpy as np\n"
   ]
  },
  {
   "cell_type": "code",
   "execution_count": 2,
   "metadata": {
    "colab": {
     "base_uri": "https://localhost:8080/",
     "height": 34
    },
    "colab_type": "code",
    "executionInfo": {
     "elapsed": 8252,
     "status": "ok",
     "timestamp": 1592285044940,
     "user": {
      "displayName": "유정아빠",
      "photoUrl": "https://lh3.googleusercontent.com/a-/AOh14GgLZcAZyPt33HiIqtXjHiL8D4PIcVPdfLgODP1QBA=s64",
      "userId": "12645007744594631320"
     },
     "user_tz": -540
    },
    "id": "IDoLid4QlM2K",
    "outputId": "c9f24672-b77d-4316-d436-d395a02f6553"
   },
   "outputs": [
    {
     "name": "stdout",
     "output_type": "stream",
     "text": [
      "(6, 4, 1) (6,)\n"
     ]
    },
    {
     "data": {
      "text/plain": [
       "<tf.Tensor: id=2, shape=(6, 4, 1), dtype=float32, numpy=\n",
       "array([[[0.],\n",
       "        [1.],\n",
       "        [2.],\n",
       "        [3.]],\n",
       "\n",
       "       [[1.],\n",
       "        [2.],\n",
       "        [3.],\n",
       "        [4.]],\n",
       "\n",
       "       [[2.],\n",
       "        [3.],\n",
       "        [4.],\n",
       "        [5.]],\n",
       "\n",
       "       [[3.],\n",
       "        [4.],\n",
       "        [5.],\n",
       "        [6.]],\n",
       "\n",
       "       [[4.],\n",
       "        [5.],\n",
       "        [6.],\n",
       "        [7.]],\n",
       "\n",
       "       [[5.],\n",
       "        [6.],\n",
       "        [7.],\n",
       "        [8.]]], dtype=float32)>"
      ]
     },
     "execution_count": 2,
     "metadata": {},
     "output_type": "execute_result"
    }
   ],
   "source": [
    "# Sequence data\n",
    "X = np.array([[0,1,2,3],\n",
    "              [1,2,3,4],\n",
    "              [2,3,4,5],\n",
    "              [3,4,5,6],\n",
    "              [4,5,6,7],\n",
    "              [5,6,7,8]],dtype=np.float32)\n",
    "\n",
    "x_data = tf.reshape(X,(-1,4,1))  # (6,4,1)\n",
    "\n",
    "y_data = np.array([4,5,6,7,8,9],dtype=np.float32)\n",
    "\n",
    "print(x_data.shape,y_data.shape)\n",
    "# print(type(x_data),type(y_data))\n",
    "x_data"
   ]
  },
  {
   "cell_type": "markdown",
   "metadata": {
    "colab_type": "text",
    "id": "GopAjxoelM2t"
   },
   "source": [
    "### [1] SimpleRNN\n",
    "#### 가장 간단한 형태의 RNN "
   ]
  },
  {
   "cell_type": "code",
   "execution_count": 3,
   "metadata": {
    "colab": {
     "base_uri": "https://localhost:8080/",
     "height": 255
    },
    "colab_type": "code",
    "executionInfo": {
     "elapsed": 5588,
     "status": "ok",
     "timestamp": 1592285044942,
     "user": {
      "displayName": "유정아빠",
      "photoUrl": "https://lh3.googleusercontent.com/a-/AOh14GgLZcAZyPt33HiIqtXjHiL8D4PIcVPdfLgODP1QBA=s64",
      "userId": "12645007744594631320"
     },
     "user_tz": -540
    },
    "id": "yEkjjL5llM2v",
    "outputId": "aeaefb27-6be7-4213-ab5f-de3307f7cfdd"
   },
   "outputs": [
    {
     "name": "stdout",
     "output_type": "stream",
     "text": [
      "Model: \"sequential\"\n",
      "_________________________________________________________________\n",
      "Layer (type)                 Output Shape              Param #   \n",
      "=================================================================\n",
      "simple_rnn (SimpleRNN)       (None, 4, 300)            90600     \n",
      "_________________________________________________________________\n",
      "simple_rnn_1 (SimpleRNN)     (None, 300)               180300    \n",
      "_________________________________________________________________\n",
      "dense (Dense)                (None, 1)                 301       \n",
      "=================================================================\n",
      "Total params: 271,201\n",
      "Trainable params: 271,201\n",
      "Non-trainable params: 0\n",
      "_________________________________________________________________\n"
     ]
    }
   ],
   "source": [
    "# RNN 순환 신경망 구현  : SimpleRNN\n",
    "model = tf.keras.Sequential([\n",
    "    tf.keras.layers.SimpleRNN(units=300, return_sequences=True, input_shape=[4,1]),\n",
    "    tf.keras.layers.SimpleRNN(units=300),\n",
    "    tf.keras.layers.Dense(1)\n",
    "])\n",
    "\n",
    "model.compile(optimizer='adam', loss='mse')\n",
    "model.summary()"
   ]
  },
  {
   "cell_type": "code",
   "execution_count": 4,
   "metadata": {
    "colab": {
     "base_uri": "https://localhost:8080/",
     "height": 1000
    },
    "colab_type": "code",
    "executionInfo": {
     "elapsed": 6718,
     "status": "ok",
     "timestamp": 1592285056066,
     "user": {
      "displayName": "유정아빠",
      "photoUrl": "https://lh3.googleusercontent.com/a-/AOh14GgLZcAZyPt33HiIqtXjHiL8D4PIcVPdfLgODP1QBA=s64",
      "userId": "12645007744594631320"
     },
     "user_tz": -540
    },
    "id": "1MijQOfylM27",
    "outputId": "c3043474-6e3d-4406-fadd-63a31a609eba"
   },
   "outputs": [
    {
     "name": "stdout",
     "output_type": "stream",
     "text": [
      "Train on 6 samples\n",
      "Epoch 1/100\n",
      "6/6 [==============================] - 1s 209ms/sample - loss: 44.9459\n",
      "Epoch 2/100\n",
      "6/6 [==============================] - 0s 665us/sample - loss: 1.1576\n",
      "Epoch 3/100\n",
      "6/6 [==============================] - 0s 831us/sample - loss: 5.6705\n",
      "Epoch 4/100\n",
      "6/6 [==============================] - 0s 1ms/sample - loss: 6.8891\n",
      "Epoch 5/100\n",
      "6/6 [==============================] - 0s 833us/sample - loss: 3.2733\n",
      "Epoch 6/100\n",
      "6/6 [==============================] - 0s 824us/sample - loss: 1.2980\n",
      "Epoch 7/100\n",
      "6/6 [==============================] - 0s 830us/sample - loss: 2.8860\n",
      "Epoch 8/100\n",
      "6/6 [==============================] - 0s 665us/sample - loss: 3.6655\n",
      "Epoch 9/100\n",
      "6/6 [==============================] - 0s 831us/sample - loss: 2.4104\n",
      "Epoch 10/100\n",
      "6/6 [==============================] - 0s 824us/sample - loss: 1.1509\n",
      "Epoch 11/100\n",
      "6/6 [==============================] - 0s 665us/sample - loss: 0.8247\n",
      "Epoch 12/100\n",
      "6/6 [==============================] - 0s 836us/sample - loss: 1.0713\n",
      "Epoch 13/100\n",
      "6/6 [==============================] - 0s 831us/sample - loss: 1.3501\n",
      "Epoch 14/100\n",
      "6/6 [==============================] - 0s 665us/sample - loss: 1.3747\n",
      "Epoch 15/100\n",
      "6/6 [==============================] - 0s 665us/sample - loss: 1.1349\n",
      "Epoch 16/100\n",
      "6/6 [==============================] - 0s 831us/sample - loss: 0.7999\n",
      "Epoch 17/100\n",
      "6/6 [==============================] - 0s 839us/sample - loss: 0.5927\n",
      "Epoch 18/100\n",
      "6/6 [==============================] - 0s 665us/sample - loss: 0.6385\n",
      "Epoch 19/100\n",
      "6/6 [==============================] - 0s 831us/sample - loss: 0.8180\n",
      "Epoch 20/100\n",
      "6/6 [==============================] - 0s 997us/sample - loss: 0.8647\n",
      "Epoch 21/100\n",
      "6/6 [==============================] - 0s 665us/sample - loss: 0.6967\n",
      "Epoch 22/100\n",
      "6/6 [==============================] - 0s 831us/sample - loss: 0.4845\n",
      "Epoch 23/100\n",
      "6/6 [==============================] - 0s 665us/sample - loss: 0.4036\n",
      "Epoch 24/100\n",
      "6/6 [==============================] - 0s 665us/sample - loss: 0.4586\n",
      "Epoch 25/100\n",
      "6/6 [==============================] - 0s 822us/sample - loss: 0.5393\n",
      "Epoch 26/100\n",
      "6/6 [==============================] - 0s 665us/sample - loss: 0.5465\n",
      "Epoch 27/100\n",
      "6/6 [==============================] - 0s 665us/sample - loss: 0.4633\n",
      "Epoch 28/100\n",
      "6/6 [==============================] - 0s 831us/sample - loss: 0.3530\n",
      "Epoch 29/100\n",
      "6/6 [==============================] - 0s 831us/sample - loss: 0.3018\n",
      "Epoch 30/100\n",
      "6/6 [==============================] - 0s 665us/sample - loss: 0.3351\n",
      "Epoch 31/100\n",
      "6/6 [==============================] - 0s 831us/sample - loss: 0.3757\n",
      "Epoch 32/100\n",
      "6/6 [==============================] - 0s 665us/sample - loss: 0.3353\n",
      "Epoch 33/100\n",
      "6/6 [==============================] - 0s 665us/sample - loss: 0.2387\n",
      "Epoch 34/100\n",
      "6/6 [==============================] - 0s 665us/sample - loss: 0.1761\n",
      "Epoch 35/100\n",
      "6/6 [==============================] - 0s 831us/sample - loss: 0.1790\n",
      "Epoch 36/100\n",
      "6/6 [==============================] - 0s 665us/sample - loss: 0.1995\n",
      "Epoch 37/100\n",
      "6/6 [==============================] - 0s 831us/sample - loss: 0.1832\n",
      "Epoch 38/100\n",
      "6/6 [==============================] - 0s 665us/sample - loss: 0.1300\n",
      "Epoch 39/100\n",
      "6/6 [==============================] - 0s 831us/sample - loss: 0.0890\n",
      "Epoch 40/100\n",
      "6/6 [==============================] - 0s 831us/sample - loss: 0.0963\n",
      "Epoch 41/100\n",
      "6/6 [==============================] - 0s 665us/sample - loss: 0.1202\n",
      "Epoch 42/100\n",
      "6/6 [==============================] - 0s 665us/sample - loss: 0.1055\n",
      "Epoch 43/100\n",
      "6/6 [==============================] - 0s 832us/sample - loss: 0.0653\n",
      "Epoch 44/100\n",
      "6/6 [==============================] - 0s 665us/sample - loss: 0.0521\n",
      "Epoch 45/100\n",
      "6/6 [==============================] - 0s 665us/sample - loss: 0.0681\n",
      "Epoch 46/100\n",
      "6/6 [==============================] - 0s 665us/sample - loss: 0.0718\n",
      "Epoch 47/100\n",
      "6/6 [==============================] - 0s 665us/sample - loss: 0.0483\n",
      "Epoch 48/100\n",
      "6/6 [==============================] - 0s 665us/sample - loss: 0.0303\n",
      "Epoch 49/100\n",
      "6/6 [==============================] - 0s 665us/sample - loss: 0.0405\n",
      "Epoch 50/100\n",
      "6/6 [==============================] - 0s 665us/sample - loss: 0.0499\n",
      "Epoch 51/100\n",
      "6/6 [==============================] - 0s 831us/sample - loss: 0.0345\n",
      "Epoch 52/100\n",
      "6/6 [==============================] - 0s 665us/sample - loss: 0.0230\n",
      "Epoch 53/100\n",
      "6/6 [==============================] - 0s 831us/sample - loss: 0.0331\n",
      "Epoch 54/100\n",
      "6/6 [==============================] - 0s 831us/sample - loss: 0.0395\n",
      "Epoch 55/100\n",
      "6/6 [==============================] - 0s 665us/sample - loss: 0.0293\n",
      "Epoch 56/100\n",
      "6/6 [==============================] - 0s 831us/sample - loss: 0.0240\n",
      "Epoch 57/100\n",
      "6/6 [==============================] - 0s 831us/sample - loss: 0.0332\n",
      "Epoch 58/100\n",
      "6/6 [==============================] - 0s 831us/sample - loss: 0.0345\n",
      "Epoch 59/100\n",
      "6/6 [==============================] - 0s 831us/sample - loss: 0.0253\n",
      "Epoch 60/100\n",
      "6/6 [==============================] - 0s 665us/sample - loss: 0.0255\n",
      "Epoch 61/100\n",
      "6/6 [==============================] - 0s 665us/sample - loss: 0.0310\n",
      "Epoch 62/100\n",
      "6/6 [==============================] - 0s 831us/sample - loss: 0.0270\n",
      "Epoch 63/100\n",
      "6/6 [==============================] - 0s 831us/sample - loss: 0.0212\n",
      "Epoch 64/100\n",
      "6/6 [==============================] - 0s 831us/sample - loss: 0.0241\n",
      "Epoch 65/100\n",
      "6/6 [==============================] - 0s 665us/sample - loss: 0.0253\n",
      "Epoch 66/100\n",
      "6/6 [==============================] - 0s 831us/sample - loss: 0.0199\n",
      "Epoch 67/100\n",
      "6/6 [==============================] - 0s 664us/sample - loss: 0.0190\n",
      "Epoch 68/100\n",
      "6/6 [==============================] - 0s 831us/sample - loss: 0.0215\n",
      "Epoch 69/100\n",
      "6/6 [==============================] - 0s 665us/sample - loss: 0.0190\n",
      "Epoch 70/100\n",
      "6/6 [==============================] - 0s 665us/sample - loss: 0.0160\n",
      "Epoch 71/100\n",
      "6/6 [==============================] - 0s 831us/sample - loss: 0.0174\n",
      "Epoch 72/100\n",
      "6/6 [==============================] - 0s 665us/sample - loss: 0.0171\n",
      "Epoch 73/100\n",
      "6/6 [==============================] - 0s 831us/sample - loss: 0.0140\n",
      "Epoch 74/100\n",
      "6/6 [==============================] - 0s 831us/sample - loss: 0.0139\n",
      "Epoch 75/100\n",
      "6/6 [==============================] - 0s 831us/sample - loss: 0.0145\n",
      "Epoch 76/100\n",
      "6/6 [==============================] - 0s 831us/sample - loss: 0.0125\n",
      "Epoch 77/100\n",
      "6/6 [==============================] - 0s 831us/sample - loss: 0.0114\n",
      "Epoch 78/100\n",
      "6/6 [==============================] - 0s 831us/sample - loss: 0.0122\n",
      "Epoch 79/100\n",
      "6/6 [==============================] - 0s 665us/sample - loss: 0.0113\n",
      "Epoch 80/100\n",
      "6/6 [==============================] - 0s 831us/sample - loss: 0.0101\n",
      "Epoch 81/100\n",
      "6/6 [==============================] - 0s 665us/sample - loss: 0.0106\n",
      "Epoch 82/100\n",
      "6/6 [==============================] - 0s 665us/sample - loss: 0.0104\n",
      "Epoch 83/100\n",
      "6/6 [==============================] - 0s 665us/sample - loss: 0.0093\n",
      "Epoch 84/100\n",
      "6/6 [==============================] - 0s 997us/sample - loss: 0.0094\n",
      "Epoch 85/100\n",
      "6/6 [==============================] - 0s 831us/sample - loss: 0.0095\n",
      "Epoch 86/100\n",
      "6/6 [==============================] - 0s 831us/sample - loss: 0.0085\n",
      "Epoch 87/100\n",
      "6/6 [==============================] - 0s 665us/sample - loss: 0.0084\n",
      "Epoch 88/100\n",
      "6/6 [==============================] - 0s 665us/sample - loss: 0.0085\n",
      "Epoch 89/100\n",
      "6/6 [==============================] - 0s 665us/sample - loss: 0.0077\n",
      "Epoch 90/100\n",
      "6/6 [==============================] - 0s 666us/sample - loss: 0.0075\n",
      "Epoch 91/100\n",
      "6/6 [==============================] - 0s 831us/sample - loss: 0.0076\n",
      "Epoch 92/100\n",
      "6/6 [==============================] - 0s 831us/sample - loss: 0.0070\n",
      "Epoch 93/100\n",
      "6/6 [==============================] - 0s 831us/sample - loss: 0.0067\n",
      "Epoch 94/100\n",
      "6/6 [==============================] - 0s 831us/sample - loss: 0.0067\n",
      "Epoch 95/100\n",
      "6/6 [==============================] - 0s 665us/sample - loss: 0.0063\n",
      "Epoch 96/100\n",
      "6/6 [==============================] - 0s 831us/sample - loss: 0.0060\n",
      "Epoch 97/100\n",
      "6/6 [==============================] - 0s 665us/sample - loss: 0.0059\n",
      "Epoch 98/100\n",
      "6/6 [==============================] - 0s 831us/sample - loss: 0.0055\n",
      "Epoch 99/100\n",
      "6/6 [==============================] - 0s 831us/sample - loss: 0.0053\n"
     ]
    },
    {
     "name": "stdout",
     "output_type": "stream",
     "text": [
      "Epoch 100/100\n",
      "6/6 [==============================] - 0s 831us/sample - loss: 0.0052\n",
      "[[4.0171146]\n",
      " [4.9585853]\n",
      " [5.9892755]\n",
      " [7.0860286]\n",
      " [8.078407 ]\n",
      " [8.883277 ]]\n"
     ]
    }
   ],
   "source": [
    "# 학습 및 예측\n",
    "model.fit(x_data, y_data, epochs=100, verbose=1)\n",
    "print(model.predict(x_data))"
   ]
  },
  {
   "cell_type": "code",
   "execution_count": 5,
   "metadata": {
    "colab": {
     "base_uri": "https://localhost:8080/",
     "height": 51
    },
    "colab_type": "code",
    "executionInfo": {
     "elapsed": 910,
     "status": "ok",
     "timestamp": 1592285060754,
     "user": {
      "displayName": "유정아빠",
      "photoUrl": "https://lh3.googleusercontent.com/a-/AOh14GgLZcAZyPt33HiIqtXjHiL8D4PIcVPdfLgODP1QBA=s64",
      "userId": "12645007744594631320"
     },
     "user_tz": -540
    },
    "id": "vecuoGZUlM3Q",
    "outputId": "09fa6c0a-b2ac-4de7-902c-028eea5558db"
   },
   "outputs": [
    {
     "name": "stdout",
     "output_type": "stream",
     "text": [
      "[[9.489812]]\n",
      "[[1.1841613]]\n"
     ]
    }
   ],
   "source": [
    "# 학습되지 않은 입력 데이터에 대한 예측 결과\n",
    "print(model.predict(np.array([[[6.],[7.],[8.],[9.]]])))\n",
    "print(model.predict(np.array([[[-1.],[0.],[1.],[2.]]])))"
   ]
  },
  {
   "cell_type": "code",
   "execution_count": 6,
   "metadata": {},
   "outputs": [
    {
     "name": "stdout",
     "output_type": "stream",
     "text": [
      "\r",
      "6/1 [====================================================================================================================================================================================] - 0s 28ms/sample - loss: 0.0049\n"
     ]
    },
    {
     "data": {
      "text/plain": [
       "0.004882666748017073"
      ]
     },
     "execution_count": 6,
     "metadata": {},
     "output_type": "execute_result"
    }
   ],
   "source": [
    "model.evaluate(x_data, y_data)"
   ]
  },
  {
   "cell_type": "markdown",
   "metadata": {
    "colab_type": "text",
    "id": "NjpDVy3OlM3y"
   },
   "source": [
    "### [2] LSTM(Long short Term Memory)\n",
    "#### 입력 데이터와 출력 사이의 거리가 멀어질수로 연관 관계가 적어진다(Long Term Dependency,장기의존성 문제)\n",
    "#### LSTM은 장기 의존성 문제를 해결하기 위해 출력값외에 셀상태(cell state)값을 출력함"
   ]
  },
  {
   "cell_type": "code",
   "execution_count": 7,
   "metadata": {
    "colab": {
     "base_uri": "https://localhost:8080/",
     "height": 255
    },
    "colab_type": "code",
    "executionInfo": {
     "elapsed": 1389,
     "status": "ok",
     "timestamp": 1592285066295,
     "user": {
      "displayName": "유정아빠",
      "photoUrl": "https://lh3.googleusercontent.com/a-/AOh14GgLZcAZyPt33HiIqtXjHiL8D4PIcVPdfLgODP1QBA=s64",
      "userId": "12645007744594631320"
     },
     "user_tz": -540
    },
    "id": "_796PGyvlM30",
    "outputId": "518d1296-5aeb-4ec5-ced3-ba86601e6876"
   },
   "outputs": [
    {
     "name": "stdout",
     "output_type": "stream",
     "text": [
      "Model: \"sequential_1\"\n",
      "_________________________________________________________________\n",
      "Layer (type)                 Output Shape              Param #   \n",
      "=================================================================\n",
      "lstm (LSTM)                  (None, 4, 300)            362400    \n",
      "_________________________________________________________________\n",
      "lstm_1 (LSTM)                (None, 300)               721200    \n",
      "_________________________________________________________________\n",
      "dense_1 (Dense)              (None, 1)                 301       \n",
      "=================================================================\n",
      "Total params: 1,083,901\n",
      "Trainable params: 1,083,901\n",
      "Non-trainable params: 0\n",
      "_________________________________________________________________\n"
     ]
    }
   ],
   "source": [
    "# RNN 순환 신경망 구현  : LSTM\n",
    "model = tf.keras.Sequential([\n",
    "    tf.keras.layers.LSTM(units=300, return_sequences=True, input_shape=[4,1]),\n",
    "    tf.keras.layers.LSTM(units=300),\n",
    "    tf.keras.layers.Dense(1)\n",
    "])\n",
    "\n",
    "model.compile(optimizer='adam', loss='mse')\n",
    "model.summary()"
   ]
  },
  {
   "cell_type": "code",
   "execution_count": 8,
   "metadata": {
    "colab": {
     "base_uri": "https://localhost:8080/",
     "height": 119
    },
    "colab_type": "code",
    "executionInfo": {
     "elapsed": 9568,
     "status": "ok",
     "timestamp": 1592285077049,
     "user": {
      "displayName": "유정아빠",
      "photoUrl": "https://lh3.googleusercontent.com/a-/AOh14GgLZcAZyPt33HiIqtXjHiL8D4PIcVPdfLgODP1QBA=s64",
      "userId": "12645007744594631320"
     },
     "user_tz": -540
    },
    "id": "Xbh_cdZllM4D",
    "outputId": "840e8ecf-d46f-4328-819c-159404903123"
   },
   "outputs": [
    {
     "name": "stdout",
     "output_type": "stream",
     "text": [
      "[[3.36867  ]\n",
      " [5.084898 ]\n",
      " [6.3646984]\n",
      " [7.3020678]\n",
      " [7.9971433]\n",
      " [8.522389 ]]\n"
     ]
    }
   ],
   "source": [
    "# 학습 및 예측\n",
    "model.fit(x_data, y_data, epochs=100, verbose=0)\n",
    "print(model.predict(x_data))"
   ]
  },
  {
   "cell_type": "code",
   "execution_count": 9,
   "metadata": {
    "colab": {
     "base_uri": "https://localhost:8080/",
     "height": 51
    },
    "colab_type": "code",
    "executionInfo": {
     "elapsed": 2739,
     "status": "ok",
     "timestamp": 1592285077053,
     "user": {
      "displayName": "유정아빠",
      "photoUrl": "https://lh3.googleusercontent.com/a-/AOh14GgLZcAZyPt33HiIqtXjHiL8D4PIcVPdfLgODP1QBA=s64",
      "userId": "12645007744594631320"
     },
     "user_tz": -540
    },
    "id": "24fD17FvlM4q",
    "outputId": "80430186-9fad-430c-eae7-76c4ad814b04"
   },
   "outputs": [
    {
     "name": "stdout",
     "output_type": "stream",
     "text": [
      "[[8.926542]]\n",
      "[[1.2625331]]\n"
     ]
    }
   ],
   "source": [
    "# 학습되지 않은 입력 데이터에 대한 예측 결과\n",
    "print(model.predict(np.array([[[6.],[7.],[8.],[9.]]])))\n",
    "print(model.predict(np.array([[[-1.],[0.],[1.],[2.]]])))"
   ]
  },
  {
   "cell_type": "markdown",
   "metadata": {
    "colab_type": "text",
    "id": "PWBJSSF4lM48"
   },
   "source": [
    "### [3] GRU(Gated Recurent Unit)\n",
    "#### 뉴욕대 조경현 교수 등이 제안, LSTM보다 구조가 간단하고 성능이 우수"
   ]
  },
  {
   "cell_type": "code",
   "execution_count": 10,
   "metadata": {
    "colab": {
     "base_uri": "https://localhost:8080/",
     "height": 255
    },
    "colab_type": "code",
    "executionInfo": {
     "elapsed": 1657,
     "status": "ok",
     "timestamp": 1592285083333,
     "user": {
      "displayName": "유정아빠",
      "photoUrl": "https://lh3.googleusercontent.com/a-/AOh14GgLZcAZyPt33HiIqtXjHiL8D4PIcVPdfLgODP1QBA=s64",
      "userId": "12645007744594631320"
     },
     "user_tz": -540
    },
    "id": "eZovHLy7lM4_",
    "outputId": "2b8e3632-1bf2-4484-b52a-3bdba8d097ea"
   },
   "outputs": [
    {
     "name": "stdout",
     "output_type": "stream",
     "text": [
      "Model: \"sequential_2\"\n",
      "_________________________________________________________________\n",
      "Layer (type)                 Output Shape              Param #   \n",
      "=================================================================\n",
      "gru (GRU)                    (None, 4, 300)            272700    \n",
      "_________________________________________________________________\n",
      "gru_1 (GRU)                  (None, 300)               541800    \n",
      "_________________________________________________________________\n",
      "dense_2 (Dense)              (None, 1)                 301       \n",
      "=================================================================\n",
      "Total params: 814,801\n",
      "Trainable params: 814,801\n",
      "Non-trainable params: 0\n",
      "_________________________________________________________________\n"
     ]
    }
   ],
   "source": [
    "# RNN 순환 신경망 구현  : GRU\n",
    "model = tf.keras.Sequential([\n",
    "    tf.keras.layers.GRU(units=300, return_sequences=True, input_shape=[4,1]),\n",
    "    tf.keras.layers.GRU(units=300),\n",
    "    tf.keras.layers.Dense(1)\n",
    "])\n",
    "\n",
    "model.compile(optimizer='adam', loss='mse')\n",
    "model.summary()"
   ]
  },
  {
   "cell_type": "code",
   "execution_count": 11,
   "metadata": {
    "colab": {
     "base_uri": "https://localhost:8080/",
     "height": 119
    },
    "colab_type": "code",
    "executionInfo": {
     "elapsed": 5552,
     "status": "ok",
     "timestamp": 1592285090501,
     "user": {
      "displayName": "유정아빠",
      "photoUrl": "https://lh3.googleusercontent.com/a-/AOh14GgLZcAZyPt33HiIqtXjHiL8D4PIcVPdfLgODP1QBA=s64",
      "userId": "12645007744594631320"
     },
     "user_tz": -540
    },
    "id": "6Pw8RWzUlM5T",
    "outputId": "7fd5dabe-a407-4570-fa6d-bb1cc6c60a6a"
   },
   "outputs": [
    {
     "name": "stdout",
     "output_type": "stream",
     "text": [
      "[[3.6361449]\n",
      " [5.0235453]\n",
      " [6.21258  ]\n",
      " [7.208928 ]\n",
      " [8.031518 ]\n",
      " [8.704548 ]]\n"
     ]
    }
   ],
   "source": [
    "# 학습 및 예측\n",
    "model.fit(x_data, y_data, epochs=100, verbose=0)\n",
    "print(model.predict(x_data))"
   ]
  },
  {
   "cell_type": "code",
   "execution_count": 12,
   "metadata": {
    "colab": {
     "base_uri": "https://localhost:8080/",
     "height": 51
    },
    "colab_type": "code",
    "executionInfo": {
     "elapsed": 4637,
     "status": "ok",
     "timestamp": 1592285090505,
     "user": {
      "displayName": "유정아빠",
      "photoUrl": "https://lh3.googleusercontent.com/a-/AOh14GgLZcAZyPt33HiIqtXjHiL8D4PIcVPdfLgODP1QBA=s64",
      "userId": "12645007744594631320"
     },
     "user_tz": -540
    },
    "id": "j6VXy-14lM5g",
    "outputId": "8bf70c25-a734-4bb2-900a-4517bed85924"
   },
   "outputs": [
    {
     "name": "stdout",
     "output_type": "stream",
     "text": [
      "[[9.252574]]\n",
      "[[2.0685813]]\n"
     ]
    }
   ],
   "source": [
    "# 학습되지 않은 입력 데이터에 대한 예측 결과\n",
    "print(model.predict(np.array([[[6.],[7.],[8.],[9.]]])))\n",
    "print(model.predict(np.array([[[-1.],[0.],[1.],[2.]]])))"
   ]
  },
  {
   "cell_type": "code",
   "execution_count": 13,
   "metadata": {
    "colab": {},
    "colab_type": "code",
    "id": "hCBFSS8AlM5z"
   },
   "outputs": [],
   "source": [
    "# RNN 사용 단어 학습 예측"
   ]
  },
  {
   "cell_type": "code",
   "execution_count": 14,
   "metadata": {
    "colab": {
     "base_uri": "https://localhost:8080/",
     "height": 153
    },
    "colab_type": "code",
    "executionInfo": {
     "elapsed": 950,
     "status": "ok",
     "timestamp": 1592285096530,
     "user": {
      "displayName": "유정아빠",
      "photoUrl": "https://lh3.googleusercontent.com/a-/AOh14GgLZcAZyPt33HiIqtXjHiL8D4PIcVPdfLgODP1QBA=s64",
      "userId": "12645007744594631320"
     },
     "user_tz": -540
    },
    "id": "WkkZmadKlM56",
    "outputId": "0d8a0d7c-2122-45f7-da46-6fea8558159c"
   },
   "outputs": [
    {
     "name": "stdout",
     "output_type": "stream",
     "text": [
      "(1, 6, 6)\n",
      "tf.Tensor(\n",
      "[[[1. 0. 0. 0. 0. 0.]\n",
      "  [0. 1. 0. 0. 0. 0.]\n",
      "  [0. 0. 1. 0. 0. 0.]\n",
      "  [0. 0. 0. 1. 0. 0.]\n",
      "  [0. 0. 0. 0. 1. 0.]\n",
      "  [0. 0. 0. 0. 0. 1.]]], shape=(1, 6, 6), dtype=float32)\n"
     ]
    }
   ],
   "source": [
    "# idx2char = ['h','i','e','l','o'] # 문자를 인덱스로 접근 가능\n",
    "idx2char = ['a','b','c','d','e','f','g'] # 문자를 인덱스로 접근 가능\n",
    "\n",
    "# x_data = np.array([0,1,0,2,3,3]) # 'hihell', (6,)\n",
    "# y_data = np.array([1,0,2,3,3,4]) # 'ihello'  (6,)\n",
    "\n",
    "x_data = np.array([[0,1,2,3,4,5]]) # 'abcdef', (1,6)\n",
    "y_data = np.array([[1,2,3,4,5,6]]) # 'bcdefg'  (1,6)\n",
    "\n",
    "x_one_hot = tf.one_hot(x_data,6)  # (6,6)\n",
    "x_data = tf.reshape(x_one_hot,(-1,6,6))  # (1,6,6)\n",
    "print(x_data.shape)\n",
    "print(x_data)"
   ]
  },
  {
   "cell_type": "code",
   "execution_count": 15,
   "metadata": {
    "colab": {
     "base_uri": "https://localhost:8080/",
     "height": 561
    },
    "colab_type": "code",
    "executionInfo": {
     "elapsed": 5076,
     "status": "ok",
     "timestamp": 1592285932493,
     "user": {
      "displayName": "유정아빠",
      "photoUrl": "https://lh3.googleusercontent.com/a-/AOh14GgLZcAZyPt33HiIqtXjHiL8D4PIcVPdfLgODP1QBA=s64",
      "userId": "12645007744594631320"
     },
     "user_tz": -540
    },
    "id": "eNs1G1oblM6N",
    "outputId": "22d31d99-dc50-4a1e-d896-a1129e132f5d"
   },
   "outputs": [
    {
     "name": "stdout",
     "output_type": "stream",
     "text": [
      "Model: \"sequential_3\"\n",
      "_________________________________________________________________\n",
      "Layer (type)                 Output Shape              Param #   \n",
      "=================================================================\n",
      "lstm_2 (LSTM)                (None, 6, 1024)           4222976   \n",
      "_________________________________________________________________\n",
      "lstm_3 (LSTM)                (None, 6, 512)            3147776   \n",
      "_________________________________________________________________\n",
      "lstm_4 (LSTM)                (None, 6, 512)            2099200   \n",
      "_________________________________________________________________\n",
      "lstm_5 (LSTM)                (None, 6, 256)            787456    \n",
      "_________________________________________________________________\n",
      "lstm_6 (LSTM)                (None, 6, 256)            525312    \n",
      "_________________________________________________________________\n",
      "lstm_7 (LSTM)                (None, 6, 128)            197120    \n",
      "_________________________________________________________________\n",
      "lstm_8 (LSTM)                (None, 6, 128)            131584    \n",
      "_________________________________________________________________\n",
      "lstm_9 (LSTM)                (None, 6, 64)             49408     \n",
      "_________________________________________________________________\n",
      "lstm_10 (LSTM)               (None, 6, 64)             33024     \n",
      "_________________________________________________________________\n",
      "lstm_11 (LSTM)               (None, 6, 32)             12416     \n",
      "_________________________________________________________________\n",
      "lstm_12 (LSTM)               (None, 32)                8320      \n",
      "_________________________________________________________________\n",
      "dense_3 (Dense)              (None, 6)                 198       \n",
      "=================================================================\n",
      "Total params: 11,214,790\n",
      "Trainable params: 11,214,790\n",
      "Non-trainable params: 0\n",
      "_________________________________________________________________\n"
     ]
    }
   ],
   "source": [
    "model = tf.keras.Sequential([\n",
    "#     tf.keras.layers.SimpleRNN(units=30, return_sequences=True, input_shape=[5,1]),\n",
    "#     tf.keras.layers.SimpleRNN(units=30),\n",
    "#     tf.keras.layers.LSTM(units=30, return_sequences=True, input_shape=[5,1]),\n",
    "#     tf.keras.layers.LSTM(units=30),\n",
    "    tf.keras.layers.LSTM(units=1024, return_sequences=True, input_shape=[6,6]),\n",
    "    tf.keras.layers.LSTM(units=512, return_sequences=True),\n",
    "    tf.keras.layers.LSTM(units=512, return_sequences=True),\n",
    "    tf.keras.layers.LSTM(units=256, return_sequences=True),\n",
    "    tf.keras.layers.LSTM(units=256, return_sequences=True),\n",
    "    tf.keras.layers.LSTM(units=128, return_sequences=True),\n",
    "    tf.keras.layers.LSTM(units=128, return_sequences=True),\n",
    "    tf.keras.layers.LSTM(units=64, return_sequences=True),\n",
    "    tf.keras.layers.LSTM(units=64, return_sequences=True),\n",
    "    tf.keras.layers.LSTM(units=32, return_sequences=True),\n",
    "    tf.keras.layers.LSTM(units=32),\n",
    "    tf.keras.layers.Dense(6)\n",
    "])\n",
    "\n",
    "model.compile(optimizer='adam', loss='mse',metrics=['accuracy'])\n",
    "model.summary()"
   ]
  },
  {
   "cell_type": "code",
   "execution_count": 16,
   "metadata": {
    "colab": {
     "base_uri": "https://localhost:8080/",
     "height": 34
    },
    "colab_type": "code",
    "executionInfo": {
     "elapsed": 24668,
     "status": "ok",
     "timestamp": 1592285952799,
     "user": {
      "displayName": "유정아빠",
      "photoUrl": "https://lh3.googleusercontent.com/a-/AOh14GgLZcAZyPt33HiIqtXjHiL8D4PIcVPdfLgODP1QBA=s64",
      "userId": "12645007744594631320"
     },
     "user_tz": -540
    },
    "id": "C5D-ZS5_lM6T",
    "outputId": "483d5949-bafc-4c83-808e-5bc484e1b4e6"
   },
   "outputs": [
    {
     "data": {
      "text/plain": [
       "<tensorflow.python.keras.callbacks.History at 0x1eac6ddfcc8>"
      ]
     },
     "execution_count": 16,
     "metadata": {},
     "output_type": "execute_result"
    }
   ],
   "source": [
    "# 학습 및 예측\n",
    "model.fit(x_data, y_data, epochs=100, verbose=0)"
   ]
  },
  {
   "cell_type": "code",
   "execution_count": 17,
   "metadata": {
    "colab": {
     "base_uri": "https://localhost:8080/",
     "height": 34
    },
    "colab_type": "code",
    "executionInfo": {
     "elapsed": 26759,
     "status": "ok",
     "timestamp": 1592285956351,
     "user": {
      "displayName": "유정아빠",
      "photoUrl": "https://lh3.googleusercontent.com/a-/AOh14GgLZcAZyPt33HiIqtXjHiL8D4PIcVPdfLgODP1QBA=s64",
      "userId": "12645007744594631320"
     },
     "user_tz": -540
    },
    "id": "One4-9z-lM6k",
    "outputId": "61d46b8c-7c5f-4d9e-fa4b-4ff04da1e81e"
   },
   "outputs": [
    {
     "name": "stdout",
     "output_type": "stream",
     "text": [
      "[[1 2 2 4 4 5]]\n"
     ]
    }
   ],
   "source": [
    "pred = model.predict(x_data).astype(np.int32)\n",
    "print(pred)"
   ]
  },
  {
   "cell_type": "code",
   "execution_count": 18,
   "metadata": {
    "colab": {
     "base_uri": "https://localhost:8080/",
     "height": 153
    },
    "colab_type": "code",
    "executionInfo": {
     "elapsed": 924,
     "status": "ok",
     "timestamp": 1592285411032,
     "user": {
      "displayName": "유정아빠",
      "photoUrl": "https://lh3.googleusercontent.com/a-/AOh14GgLZcAZyPt33HiIqtXjHiL8D4PIcVPdfLgODP1QBA=s64",
      "userId": "12645007744594631320"
     },
     "user_tz": -540
    },
    "id": "Qis25pi3lM6p",
    "outputId": "9f905ab1-49c2-4070-fe41-4e7444b7b476"
   },
   "outputs": [
    {
     "data": {
      "text/plain": [
       "(<tf.Tensor: id=19355, shape=(1, 6, 6), dtype=float32, numpy=\n",
       " array([[[1., 0., 0., 0., 0., 0.],\n",
       "         [0., 1., 0., 0., 0., 0.],\n",
       "         [0., 0., 1., 0., 0., 0.],\n",
       "         [0., 0., 0., 1., 0., 0.],\n",
       "         [0., 0., 0., 0., 1., 0.],\n",
       "         [0., 0., 0., 0., 0., 1.]]], dtype=float32)>,\n",
       " array([[1, 2, 3, 4, 5, 6]]))"
      ]
     },
     "execution_count": 18,
     "metadata": {},
     "output_type": "execute_result"
    }
   ],
   "source": [
    "x_data,y_data"
   ]
  },
  {
   "cell_type": "code",
   "execution_count": null,
   "metadata": {
    "colab": {},
    "colab_type": "code",
    "id": "qBXyTDUYlM7M"
   },
   "outputs": [],
   "source": []
  }
 ],
 "metadata": {
  "accelerator": "GPU",
  "colab": {
   "collapsed_sections": [],
   "name": "rnn_basic.ipynb",
   "provenance": []
  },
  "kernelspec": {
   "display_name": "Python 3",
   "language": "python",
   "name": "python3"
  },
  "language_info": {
   "codemirror_mode": {
    "name": "ipython",
    "version": 3
   },
   "file_extension": ".py",
   "mimetype": "text/x-python",
   "name": "python",
   "nbconvert_exporter": "python",
   "pygments_lexer": "ipython3",
   "version": "3.7.6"
  }
 },
 "nbformat": 4,
 "nbformat_minor": 1
}
