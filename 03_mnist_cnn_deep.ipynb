{
 "cells": [
  {
   "cell_type": "code",
   "execution_count": 1,
   "metadata": {
    "colab": {},
    "colab_type": "code",
    "executionInfo": {
     "elapsed": 2245,
     "status": "ok",
     "timestamp": 1598494178779,
     "user": {
      "displayName": "고병화",
      "photoUrl": "https://lh3.googleusercontent.com/a-/AOh14GgLZcAZyPt33HiIqtXjHiL8D4PIcVPdfLgODP1QBA=s64",
      "userId": "12645007744594631320"
     },
     "user_tz": -540
    },
    "id": "t3teP3pGg4Wn"
   },
   "outputs": [],
   "source": [
    "# mnist_cnn_deep\n",
    "# MNIST and Convolutional Neural Network\n",
    "# Conv,Maxpool : L1,L2,L3\n",
    "# Fully Connected layer : L4,l5\n",
    "\n",
    "import tensorflow as tf\n",
    "import numpy as np\n",
    "import matplotlib.pyplot as plt\n",
    "tf.random.set_seed(5)"
   ]
  },
  {
   "cell_type": "code",
   "execution_count": 2,
   "metadata": {
    "colab": {
     "base_uri": "https://localhost:8080/",
     "height": 34
    },
    "colab_type": "code",
    "executionInfo": {
     "elapsed": 2216,
     "status": "ok",
     "timestamp": 1598494178782,
     "user": {
      "displayName": "고병화",
      "photoUrl": "https://lh3.googleusercontent.com/a-/AOh14GgLZcAZyPt33HiIqtXjHiL8D4PIcVPdfLgODP1QBA=s64",
      "userId": "12645007744594631320"
     },
     "user_tz": -540
    },
    "id": "yKIUePLsg4Wt",
    "outputId": "c4419346-49cf-475d-c014-2cd5078b2cdb"
   },
   "outputs": [
    {
     "name": "stdout",
     "output_type": "stream",
     "text": [
      "(60000, 28, 28)\n"
     ]
    }
   ],
   "source": [
    "# mnist 데이터 가져오기\n",
    "mnist = tf.keras.datasets.mnist\n",
    "(x_train,y_train), (x_test,y_test) = mnist.load_data()\n",
    "print(x_train.shape)"
   ]
  },
  {
   "cell_type": "code",
   "execution_count": 3,
   "metadata": {
    "colab": {
     "base_uri": "https://localhost:8080/",
     "height": 69
    },
    "colab_type": "code",
    "executionInfo": {
     "elapsed": 3287,
     "status": "ok",
     "timestamp": 1598494179870,
     "user": {
      "displayName": "고병화",
      "photoUrl": "https://lh3.googleusercontent.com/a-/AOh14GgLZcAZyPt33HiIqtXjHiL8D4PIcVPdfLgODP1QBA=s64",
      "userId": "12645007744594631320"
     },
     "user_tz": -540
    },
    "id": "Qm0oP6WAg4Wz",
    "outputId": "e6b6d5a8-0715-4765-8286-11049e0537ef"
   },
   "outputs": [
    {
     "name": "stdout",
     "output_type": "stream",
     "text": [
      "(60000, 10)\n",
      "(60000, 28, 28) <dtype: 'float32'>\n",
      "(10000, 28, 28) <dtype: 'float32'>\n"
     ]
    }
   ],
   "source": [
    "# one-hot 인코딩\n",
    "nb_classes = 10     # 분류 class의 갯수(0 ~ 9)\n",
    "Y_one_hot = tf.one_hot(y_train,nb_classes) # (60000, 10)\n",
    "print(Y_one_hot.shape)                     # (60000, 10) , 2차원\n",
    "\n",
    "\n",
    "# X값의 타입을 float형으로 변환\n",
    "x_train = tf.cast(x_train,dtype=tf.float32)\n",
    "print(x_train.shape,x_train.dtype)  # 'float32'\n",
    "\n",
    "x_test = tf.cast(x_test,dtype=tf.float32)\n",
    "print(x_test.shape,x_test.dtype)  # 'float32\n"
   ]
  },
  {
   "cell_type": "code",
   "execution_count": 4,
   "metadata": {
    "colab": {
     "base_uri": "https://localhost:8080/",
     "height": 34
    },
    "colab_type": "code",
    "executionInfo": {
     "elapsed": 3275,
     "status": "ok",
     "timestamp": 1598494179871,
     "user": {
      "displayName": "고병화",
      "photoUrl": "https://lh3.googleusercontent.com/a-/AOh14GgLZcAZyPt33HiIqtXjHiL8D4PIcVPdfLgODP1QBA=s64",
      "userId": "12645007744594631320"
     },
     "user_tz": -540
    },
    "id": "4Q7cCUEtg4W3",
    "outputId": "72cc0854-12be-453e-e21d-49e5a4c2bfc6"
   },
   "outputs": [
    {
     "name": "stdout",
     "output_type": "stream",
     "text": [
      "(60000, 28, 28, 1)\n"
     ]
    }
   ],
   "source": [
    "# X값의 shape을 4차원으로 변환\n",
    "X_img = tf.reshape(x_train,[-1,28,28,1])\n",
    "print(X_img.shape)"
   ]
  },
  {
   "cell_type": "code",
   "execution_count": 5,
   "metadata": {
    "colab": {},
    "colab_type": "code",
    "executionInfo": {
     "elapsed": 3262,
     "status": "ok",
     "timestamp": 1598494179873,
     "user": {
      "displayName": "고병화",
      "photoUrl": "https://lh3.googleusercontent.com/a-/AOh14GgLZcAZyPt33HiIqtXjHiL8D4PIcVPdfLgODP1QBA=s64",
      "userId": "12645007744594631320"
     },
     "user_tz": -540
    },
    "id": "edTTckKxg4W6"
   },
   "outputs": [],
   "source": [
    "# Layer 1  : conv2d - relu - max_pool\n",
    "# (?,28,28,1) ---> (?,14,14,32)\n",
    "\n",
    "# <1> conv2d\n",
    "# L1 image shape : (?,28,28,1)\n",
    "# filter : (3,3,1,32) , 필터 32개\n",
    "# strides : (1,1,1,1), padding ='SAME'\n",
    "# 출력 이미지 : (28+2 - 3)/1 + 1 = 28,   --> (?,28,28,32)\n",
    "W1 = tf.Variable(tf.random.normal([3,3,1,32]),name='weight1')  # filter\n",
    "def L1_conv2d(X):\n",
    "    return tf.nn.conv2d(X,W1,strides=[1,1,1,1],padding='SAME')\n",
    "\n",
    "# <2> relu\n",
    "def L1_relu(X):\n",
    "    return tf.nn.relu(L1_conv2d(X))   # shape 변화가 없다\n",
    "\n",
    "# <3> max_pool\n",
    "# input image : (?,28,28,32)\n",
    "# kernel size : (1,2,2,1), strides : (1,2,2,1), padding ='SAME'\n",
    "# 출력 이미지 : (28+1 - 2)/2 + 1 = 14  ---> (?,14,14,32)\n",
    "def L1_MaxPool(X):\n",
    "    return tf.nn.max_pool(L1_relu(X),ksize=[1,2,2,1],strides=[1,2,2,1],padding='SAME')    "
   ]
  },
  {
   "cell_type": "code",
   "execution_count": 6,
   "metadata": {
    "colab": {},
    "colab_type": "code",
    "executionInfo": {
     "elapsed": 3252,
     "status": "ok",
     "timestamp": 1598494179874,
     "user": {
      "displayName": "고병화",
      "photoUrl": "https://lh3.googleusercontent.com/a-/AOh14GgLZcAZyPt33HiIqtXjHiL8D4PIcVPdfLgODP1QBA=s64",
      "userId": "12645007744594631320"
     },
     "user_tz": -540
    },
    "id": "IXxe4UNEg4W9"
   },
   "outputs": [],
   "source": [
    "# Layer2  : conv2d - relu - max_pool\n",
    "# (?,14,14,32) --> (?,14,14,64) --> (?,7,7,64)\n",
    "\n",
    "# <1> conv2d\n",
    "# L2 image shape : (?,14,14,32)\n",
    "# filter : (3,3,32,64) , 필터 64개\n",
    "# strides : (1,1,1,1), padding ='SAME'\n",
    "# 출력 이미지 : (14+2 - 3)/1 + 1 = 14,   --> (?,14,14,64)\n",
    "W2 = tf.Variable(tf.random.normal([3,3,32,64]),name='weight2')  # filter\n",
    "def L2_conv2d(X):\n",
    "    return tf.nn.conv2d(L1_MaxPool(X),W2,strides=[1,1,1,1],padding='SAME')\n",
    "\n",
    "# <2> relu\n",
    "def L2_relu(X):\n",
    "    return tf.nn.relu(L2_conv2d(X))   # shape 변화가 없다\n",
    "\n",
    "# <3> max_pool\n",
    "# input image : (?,14,14,64)\n",
    "# kernel size : (1,2,2,1), strides : (1,2,2,1), padding ='SAME'\n",
    "# 출력 이미지 : (14+1 - 2)/2 + 1 = 7  ---> (?,7,7,64)\n",
    "def L2_MaxPool(X):\n",
    "    return tf.nn.max_pool(L2_relu(X),ksize=[1,2,2,1],strides=[1,2,2,1],padding='SAME') "
   ]
  },
  {
   "cell_type": "code",
   "execution_count": 7,
   "metadata": {
    "colab": {},
    "colab_type": "code",
    "executionInfo": {
     "elapsed": 3238,
     "status": "ok",
     "timestamp": 1598494179876,
     "user": {
      "displayName": "고병화",
      "photoUrl": "https://lh3.googleusercontent.com/a-/AOh14GgLZcAZyPt33HiIqtXjHiL8D4PIcVPdfLgODP1QBA=s64",
      "userId": "12645007744594631320"
     },
     "user_tz": -540
    },
    "id": "tbBnrqDzqGxZ"
   },
   "outputs": [],
   "source": [
    "# Layer 3  : conv2d - relu - max_pool\n",
    "# (?,7,7,64) --> (?,4*4*128)\n",
    "\n",
    "# <1> conv2d\n",
    "# L3 image shape : (?,7,7,64)\n",
    "# filter : (3,3,64,128) , 필터 128개\n",
    "# strides : (1,1,1,1), padding ='SAME'\n",
    "# 출력 이미지 : (7+2 - 3)/1 + 1 = 7,   --> (?,7,7,128)\n",
    "W3 = tf.Variable(tf.random.normal([3,3,64,128]),name='weight3')  # filter\n",
    "def L3_conv2d(X):\n",
    "    return tf.nn.conv2d(L2_MaxPool(X),W3,strides=[1,1,1,1],padding='SAME')\n",
    "\n",
    "# <2> relu\n",
    "def L3_relu(X):\n",
    "    return tf.nn.relu(L3_conv2d(X))   # shape 변화가 없다\n",
    "\n",
    "# <3> max_pool\n",
    "# input image : (?,7,7,128)\n",
    "# kernel size : (1,2,2,1), strides : (1,2,2,1), padding ='SAME'\n",
    "# 출력 이미지 : (7+1 - 2)/2 + 1 = 4  ---> (?,4,4,128)\n",
    "def L3_MaxPool(X):\n",
    "    return tf.nn.max_pool(L3_relu(X),ksize=[1,2,2,1],strides=[1,2,2,1],padding='SAME') \n",
    "\n",
    "# <4> flatten layer  : 다차원 배열을 2차원으로 변환하여 FC layer에 전달한다\n",
    "def L3_flat(X):\n",
    "    return tf.reshape(L3_MaxPool(X),[-1,4*4*128])"
   ]
  },
  {
   "cell_type": "code",
   "execution_count": 8,
   "metadata": {
    "colab": {},
    "colab_type": "code",
    "executionInfo": {
     "elapsed": 3230,
     "status": "ok",
     "timestamp": 1598494179878,
     "user": {
      "displayName": "고병화",
      "photoUrl": "https://lh3.googleusercontent.com/a-/AOh14GgLZcAZyPt33HiIqtXjHiL8D4PIcVPdfLgODP1QBA=s64",
      "userId": "12645007744594631320"
     },
     "user_tz": -540
    },
    "id": "Rx2a7vltg4XA"
   },
   "outputs": [],
   "source": [
    "# Layer 4 : FC(Fully Connected Layer)\n",
    "# (?,4*4*128) * (4*4*128,512 ) --> (?,512)\n",
    "\n",
    "W4 = tf.Variable(tf.random.normal([4*4*128,512]), name ='weight4')\n",
    "b4 = tf.Variable(tf.random.normal([512]), name = 'bias4')\n",
    "\n",
    "def L4_relu(X):\n",
    "    return  tf.nn.relu(tf.matmul(L3_flat(X),W4) + b4 ) "
   ]
  },
  {
   "cell_type": "code",
   "execution_count": 9,
   "metadata": {
    "colab": {},
    "colab_type": "code",
    "executionInfo": {
     "elapsed": 3215,
     "status": "ok",
     "timestamp": 1598494179879,
     "user": {
      "displayName": "고병화",
      "photoUrl": "https://lh3.googleusercontent.com/a-/AOh14GgLZcAZyPt33HiIqtXjHiL8D4PIcVPdfLgODP1QBA=s64",
      "userId": "12645007744594631320"
     },
     "user_tz": -540
    },
    "id": "AxtrvAn-qGxl"
   },
   "outputs": [],
   "source": [
    "# Layer 5 : FC(Fully Connected Layer)  \n",
    "# L5 input shape : (?,512)\n",
    "# (?,512) * (512,10) = (?,10)\n",
    "nb_classes = 10\n",
    "W5 = tf.Variable(tf.random.normal([512,nb_classes]), name ='weight5')\n",
    "b5 = tf.Variable(tf.random.normal([nb_classes]), name = 'bias5')"
   ]
  },
  {
   "cell_type": "code",
   "execution_count": 10,
   "metadata": {
    "colab": {},
    "colab_type": "code",
    "executionInfo": {
     "elapsed": 3200,
     "status": "ok",
     "timestamp": 1598494179879,
     "user": {
      "displayName": "고병화",
      "photoUrl": "https://lh3.googleusercontent.com/a-/AOh14GgLZcAZyPt33HiIqtXjHiL8D4PIcVPdfLgODP1QBA=s64",
      "userId": "12645007744594631320"
     },
     "user_tz": -540
    },
    "id": "Z_ncXVdmg4XD"
   },
   "outputs": [],
   "source": [
    "# hypothesis 예측 함수 : H(X) = softmax(W*X + b)\n",
    "def logits(X):\n",
    "    return tf.matmul(L4_relu(X),W5) + b5\n",
    "\n",
    "def hypothesis(X):\n",
    "    return   tf.nn.softmax(logits(X))  "
   ]
  },
  {
   "cell_type": "code",
   "execution_count": 11,
   "metadata": {
    "colab": {
     "base_uri": "https://localhost:8080/",
     "height": 1000
    },
    "colab_type": "code",
    "executionInfo": {
     "elapsed": 270859,
     "status": "ok",
     "timestamp": 1598494447550,
     "user": {
      "displayName": "고병화",
      "photoUrl": "https://lh3.googleusercontent.com/a-/AOh14GgLZcAZyPt33HiIqtXjHiL8D4PIcVPdfLgODP1QBA=s64",
      "userId": "12645007744594631320"
     },
     "user_tz": -540
    },
    "id": "ChTfvBHsg4XK",
    "outputId": "b20b8f31-fadd-414b-d386-52fc911d597f"
   },
   "outputs": [
    {
     "name": "stdout",
     "output_type": "stream",
     "text": [
      "***** Start Learning!!\n",
      "Epoch: 0001 cost: 8717259.210312504\n",
      "Epoch: 0002 cost: 229342.782148438\n",
      "Epoch: 0003 cost: 124947.293085937\n",
      "Epoch: 0004 cost: 76540.512119141\n",
      "Epoch: 0005 cost: 52328.077875977\n",
      "Epoch: 0006 cost: 35919.844736328\n",
      "Epoch: 0007 cost: 25831.185454102\n",
      "Epoch: 0008 cost: 20733.304230957\n",
      "Epoch: 0009 cost: 16005.655946045\n",
      "Epoch: 0010 cost: 13545.319007874\n",
      "Epoch: 0011 cost: 11384.554515381\n",
      "Epoch: 0012 cost: 8411.253893738\n",
      "Epoch: 0013 cost: 6418.011741486\n",
      "Epoch: 0014 cost: 4675.876184311\n",
      "Epoch: 0015 cost: 3222.776914749\n",
      "Epoch: 0016 cost: 2383.005056820\n",
      "Epoch: 0017 cost: 2279.271544552\n",
      "Epoch: 0018 cost: 1741.251465359\n",
      "Epoch: 0019 cost: 982.688126769\n",
      "Epoch: 0020 cost: 824.609064655\n",
      "Epoch: 0021 cost: 1004.096433010\n",
      "Epoch: 0022 cost: 531.598345668\n",
      "Epoch: 0023 cost: 566.485647054\n",
      "Epoch: 0024 cost: 588.316315575\n",
      "Epoch: 0025 cost: 305.248266883\n",
      "Epoch: 0026 cost: 281.842600479\n",
      "Epoch: 0027 cost: 753.519858210\n",
      "Epoch: 0028 cost: 336.408789978\n",
      "Epoch: 0029 cost: 350.148099365\n",
      "Epoch: 0030 cost: 312.368527868\n",
      "Epoch: 0031 cost: 349.197114964\n",
      "Epoch: 0032 cost: 1145.004248228\n",
      "Epoch: 0033 cost: 1642.929451714\n",
      "Epoch: 0034 cost: 2868.592986183\n",
      "Epoch: 0035 cost: 1292.204388413\n",
      "Epoch: 0036 cost: 1062.974401932\n",
      "Epoch: 0037 cost: 1488.720246119\n",
      "Epoch: 0038 cost: 868.272760220\n",
      "Epoch: 0039 cost: 1672.622305565\n",
      "Epoch: 0040 cost: 839.276482048\n",
      "Epoch: 0041 cost: 585.544326839\n",
      "Epoch: 0042 cost: 828.451140966\n",
      "Epoch: 0043 cost: 844.856694565\n",
      "Epoch: 0044 cost: 987.131376743\n",
      "Epoch: 0045 cost: 1017.808248315\n",
      "Epoch: 0046 cost: 1123.089907150\n",
      "Epoch: 0047 cost: 740.685381622\n",
      "Epoch: 0048 cost: 595.819526973\n",
      "Epoch: 0049 cost: 1145.139882991\n",
      "Epoch: 0050 cost: 655.098370714\n",
      "Epoch: 0051 cost: 820.072424927\n",
      "Epoch: 0052 cost: 654.039042522\n",
      "Epoch: 0053 cost: 1072.683161736\n",
      "Epoch: 0054 cost: 1677.716584625\n",
      "Epoch: 0055 cost: 553.640541301\n",
      "Epoch: 0056 cost: 516.275262108\n",
      "Epoch: 0057 cost: 518.015301933\n",
      "Epoch: 0058 cost: 498.660222607\n",
      "Epoch: 0059 cost: 720.281157147\n",
      "Epoch: 0060 cost: 457.117844353\n",
      "Epoch: 0061 cost: 1032.871523056\n",
      "Epoch: 0062 cost: 1916.103160934\n",
      "Epoch: 0063 cost: 445.684258995\n",
      "Epoch: 0064 cost: 792.480730438\n",
      "Epoch: 0065 cost: 461.452429504\n",
      "Epoch: 0066 cost: 531.369842548\n",
      "Epoch: 0067 cost: 271.014232531\n",
      "Epoch: 0068 cost: 650.939279938\n",
      "Epoch: 0069 cost: 641.879932592\n",
      "Epoch: 0070 cost: 555.224266567\n",
      "Epoch: 0071 cost: 870.235844879\n",
      "Epoch: 0072 cost: 325.634414482\n",
      "Epoch: 0073 cost: 268.120016537\n",
      "Epoch: 0074 cost: 466.873406219\n",
      "Epoch: 0075 cost: 443.817432022\n",
      "Epoch: 0076 cost: 342.646991768\n",
      "Epoch: 0077 cost: 506.958525658\n",
      "Epoch: 0078 cost: 497.289840546\n",
      "Epoch: 0079 cost: 226.701692696\n",
      "Epoch: 0080 cost: 531.526261597\n",
      "Epoch: 0081 cost: 589.062340393\n",
      "Epoch: 0082 cost: 168.101906568\n",
      "Epoch: 0083 cost: 813.880869370\n",
      "Epoch: 0084 cost: 738.757640686\n",
      "Epoch: 0085 cost: 371.870326538\n",
      "Epoch: 0086 cost: 726.648398304\n",
      "Epoch: 0087 cost: 755.176777563\n",
      "Epoch: 0088 cost: 134.760957642\n",
      "Epoch: 0089 cost: 29.163742104\n",
      "Epoch: 0090 cost: 213.633515062\n",
      "Epoch: 0091 cost: 444.908551731\n",
      "Epoch: 0092 cost: 251.461200695\n",
      "Epoch: 0093 cost: 211.563517342\n",
      "Epoch: 0094 cost: 245.179077415\n",
      "Epoch: 0095 cost: 236.858040695\n",
      "Epoch: 0096 cost: 211.562362995\n",
      "Epoch: 0097 cost: 324.343660164\n",
      "Epoch: 0098 cost: 402.370509720\n",
      "Epoch: 0099 cost: 363.506146073\n",
      "Epoch: 0100 cost: 198.646111755\n",
      "***** Learning Finished\n"
     ]
    }
   ],
   "source": [
    "# 방법 2. batch 사이즈로 나누어 학습, 효율적 이며 학습 시간 단축\n",
    "# 학습 시작\n",
    "\n",
    "training_epochs = 100\n",
    "batch_size = 600\n",
    "\n",
    "# 경사 하강법\n",
    "# learning_rate(학습율) 을 0.01로 설정하여 optimizer 객체를 생성\n",
    "optimizer = tf.keras.optimizers.Adam(lr=0.01)\n",
    "\n",
    "Y_one_hot = tf.one_hot(y_train,nb_classes)  # (60000,10)\n",
    "\n",
    "print('***** Start Learning!!')\n",
    "for epoch in range(training_epochs):  # 100\n",
    "    \n",
    "    avg_cost = 0\n",
    "    \n",
    "    # 100 = 60000/600\n",
    "    total_batch = int(x_train.shape[0]/batch_size)\n",
    "    for k in range(total_batch):  # 100 \n",
    "        batch_xs = x_train[0+k*batch_size:batch_size + k*batch_size]\n",
    "        batch_ys = Y_one_hot[0+k*batch_size:batch_size + k*batch_size]\n",
    "        \n",
    "        # X값의 shape을 4차원으로 변환 코드 추가\n",
    "        X_img = tf.reshape(batch_xs,[-1,28,28,1])\n",
    "        \n",
    "        # 비용함수\n",
    "        def cost_func_batch():\n",
    "            cost_i = tf.nn.softmax_cross_entropy_with_logits(logits=logits(X_img),\n",
    "                                                     labels=batch_ys) \n",
    "            cost = tf.reduce_mean(cost_i)\n",
    "            return cost    \n",
    "        \n",
    "        # cost를 minimize한다\n",
    "        optimizer.minimize(cost_func_batch,var_list=[W1,W2,W3,W4,b4,W5,b5])\n",
    "        avg_cost += cost_func_batch().numpy()/total_batch\n",
    "    \n",
    "    print('Epoch:','%04d'%(epoch + 1),'cost:','{:.9f}'.format(avg_cost))\n",
    "          \n",
    "print('***** Learning Finished')"
   ]
  },
  {
   "cell_type": "code",
   "execution_count": 12,
   "metadata": {
    "colab": {
     "base_uri": "https://localhost:8080/",
     "height": 69
    },
    "colab_type": "code",
    "executionInfo": {
     "elapsed": 271445,
     "status": "ok",
     "timestamp": 1598494448161,
     "user": {
      "displayName": "고병화",
      "photoUrl": "https://lh3.googleusercontent.com/a-/AOh14GgLZcAZyPt33HiIqtXjHiL8D4PIcVPdfLgODP1QBA=s64",
      "userId": "12645007744594631320"
     },
     "user_tz": -540
    },
    "id": "Ql4uPAQig4XP",
    "outputId": "fff7cf47-5f2d-4a8f-c1c6-77d4a915ab11"
   },
   "outputs": [
    {
     "name": "stdout",
     "output_type": "stream",
     "text": [
      "***** Predict\n",
      "[7 2 1 ... 4 5 6] [7 2 1 ... 4 5 6]\n",
      "Accuracy: 0.9873\n"
     ]
    }
   ],
   "source": [
    "# 예측  , accuracy computation\n",
    "\n",
    "def predict(X):\n",
    "    return tf.argmax(hypothesis(X),1) \n",
    "\n",
    "Y_one_hot = tf.one_hot(y_test,nb_classes)  # (10000, 10)\n",
    "# print(Y_one_hot.shape)\n",
    "\n",
    "# X값의 shape을 4차원으로 변환 코드 추가\n",
    "X_img = tf.reshape(x_test,[-1,28,28,1])\n",
    "\n",
    "correct_predict = tf.equal(predict(X_img),tf.argmax(Y_one_hot,1))\n",
    "accuracy = tf.reduce_mean(tf.cast(correct_predict, dtype = tf.float32))\n",
    "\n",
    "print('***** Predict')\n",
    "\n",
    "pred = predict(X_img).numpy()\n",
    "print(pred,y_test)\n",
    "print(\"Accuracy:\",accuracy.numpy()) # Accuracy: 0.981"
   ]
  },
  {
   "cell_type": "code",
   "execution_count": 13,
   "metadata": {
    "colab": {},
    "colab_type": "code",
    "executionInfo": {
     "elapsed": 271420,
     "status": "ok",
     "timestamp": 1598494448163,
     "user": {
      "displayName": "고병화",
      "photoUrl": "https://lh3.googleusercontent.com/a-/AOh14GgLZcAZyPt33HiIqtXjHiL8D4PIcVPdfLgODP1QBA=s64",
      "userId": "12645007744594631320"
     },
     "user_tz": -540
    },
    "id": "Lbn9r-9cg4XS"
   },
   "outputs": [],
   "source": [
    "# 정확도 비교\n",
    "\n",
    "# [1] softmax 사용\n",
    "# 1 layers              -------> Accuracy  : 0.8871\n",
    "# 4 layers  sigmoid     -------> Accuracy  : 0.9033\n",
    "# 4 layers  relu        -------> Accuracy  : 0.9534  \n",
    "\n",
    "# [2] CNN 사용\n",
    "# 3 layers              -------> Accuracy  : 0.981\n",
    "# 5 layers              -------> Accuracy  : 0.9824 (epoch=50)\n",
    "# 5 layers              -------> Accuracy  : 0.9873 (epoch=100)\n",
    "\n",
    "# [3] Keras에서 CNN 사용\n",
    "#\n",
    "# VGGNet"
   ]
  }
 ],
 "metadata": {
  "accelerator": "GPU",
  "colab": {
   "collapsed_sections": [],
   "name": "03_mnist_cnn_deep.ipynb",
   "provenance": []
  },
  "kernelspec": {
   "display_name": "Python 3",
   "language": "python",
   "name": "python3"
  },
  "language_info": {
   "codemirror_mode": {
    "name": "ipython",
    "version": 3
   },
   "file_extension": ".py",
   "mimetype": "text/x-python",
   "name": "python",
   "nbconvert_exporter": "python",
   "pygments_lexer": "ipython3",
   "version": "3.7.6"
  }
 },
 "nbformat": 4,
 "nbformat_minor": 1
}
