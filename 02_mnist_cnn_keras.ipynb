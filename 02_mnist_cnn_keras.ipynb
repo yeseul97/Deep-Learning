{
 "cells": [
  {
   "cell_type": "code",
   "execution_count": 1,
   "metadata": {
    "colab": {
     "base_uri": "https://localhost:8080/",
     "height": 52
    },
    "colab_type": "code",
    "executionInfo": {
     "elapsed": 2337,
     "status": "ok",
     "timestamp": 1598578566177,
     "user": {
      "displayName": "고병화",
      "photoUrl": "https://lh3.googleusercontent.com/a-/AOh14GgLZcAZyPt33HiIqtXjHiL8D4PIcVPdfLgODP1QBA=s64",
      "userId": "12645007744594631320"
     },
     "user_tz": -540
    },
    "id": "0qhCfe5is3M-",
    "outputId": "e0a7b775-d3de-4c3d-8346-46a2f1823a9c"
   },
   "outputs": [
    {
     "name": "stdout",
     "output_type": "stream",
     "text": [
      "2.3.0\n",
      "2.4.0\n"
     ]
    }
   ],
   "source": [
    "# mnist_cnn_keras\n",
    "\n",
    "import tensorflow as tf\n",
    "import numpy as np\n",
    "import matplotlib.pyplot as plt\n",
    "tf.random.set_seed(5)\n",
    "\n",
    "print(tf.__version__)\n",
    "print(tf.keras.__version__)"
   ]
  },
  {
   "cell_type": "code",
   "execution_count": 2,
   "metadata": {
    "colab": {
     "base_uri": "https://localhost:8080/",
     "height": 86
    },
    "colab_type": "code",
    "executionInfo": {
     "elapsed": 8256,
     "status": "ok",
     "timestamp": 1598578572105,
     "user": {
      "displayName": "고병화",
      "photoUrl": "https://lh3.googleusercontent.com/a-/AOh14GgLZcAZyPt33HiIqtXjHiL8D4PIcVPdfLgODP1QBA=s64",
      "userId": "12645007744594631320"
     },
     "user_tz": -540
    },
    "id": "nWdYjcvgs3ND",
    "outputId": "a8b28b8e-dc2c-4f27-8290-ee0fc5b4be44"
   },
   "outputs": [
    {
     "name": "stdout",
     "output_type": "stream",
     "text": [
      "Downloading data from https://storage.googleapis.com/tensorflow/tf-keras-datasets/mnist.npz\n",
      "11493376/11490434 [==============================] - 0s 0us/step\n",
      "(60000, 28, 28, 1) (10000, 28, 28, 1)\n",
      "(60000,) (10000,)\n"
     ]
    }
   ],
   "source": [
    "# MNIST Data Set\n",
    "mnist = tf.keras.datasets.mnist\n",
    "(x_train,y_train), (x_test,y_test) = mnist.load_data()\n",
    "\n",
    "# X값의 타입을 float형으로 변환\n",
    "x_train = tf.cast(x_train,dtype=tf.float32)\n",
    "x_test = tf.cast(x_test,dtype=tf.float32)\n",
    "\n",
    "# X값의 shape을 4차원으로 변환\n",
    "x_train = tf.reshape(x_train,[-1,28,28,1])\n",
    "x_test = tf.reshape(x_test,[-1,28,28,1])\n",
    "\n",
    "print(x_train.shape, x_test.shape)\n",
    "print(y_train.shape, y_test.shape)"
   ]
  },
  {
   "cell_type": "code",
   "execution_count": 3,
   "metadata": {
    "colab": {
     "base_uri": "https://localhost:8080/",
     "height": 536
    },
    "colab_type": "code",
    "executionInfo": {
     "elapsed": 8244,
     "status": "ok",
     "timestamp": 1598578572106,
     "user": {
      "displayName": "고병화",
      "photoUrl": "https://lh3.googleusercontent.com/a-/AOh14GgLZcAZyPt33HiIqtXjHiL8D4PIcVPdfLgODP1QBA=s64",
      "userId": "12645007744594631320"
     },
     "user_tz": -540
    },
    "id": "TBU6TUr6s3NH",
    "outputId": "015924dd-915a-453f-eae4-ff0d56125513"
   },
   "outputs": [
    {
     "name": "stdout",
     "output_type": "stream",
     "text": [
      "Model: \"sequential\"\n",
      "_________________________________________________________________\n",
      "Layer (type)                 Output Shape              Param #   \n",
      "=================================================================\n",
      "conv2d (Conv2D)              (None, 28, 28, 32)        320       \n",
      "_________________________________________________________________\n",
      "dense (Dense)                (None, 28, 28, 10)        330       \n",
      "_________________________________________________________________\n",
      "max_pooling2d (MaxPooling2D) (None, 14, 14, 10)        0         \n",
      "_________________________________________________________________\n",
      "conv2d_1 (Conv2D)            (None, 14, 14, 64)        5824      \n",
      "_________________________________________________________________\n",
      "dense_1 (Dense)              (None, 14, 14, 10)        650       \n",
      "_________________________________________________________________\n",
      "max_pooling2d_1 (MaxPooling2 (None, 7, 7, 10)          0         \n",
      "_________________________________________________________________\n",
      "conv2d_2 (Conv2D)            (None, 7, 7, 1284)        116844    \n",
      "_________________________________________________________________\n",
      "dense_2 (Dense)              (None, 7, 7, 10)          12850     \n",
      "_________________________________________________________________\n",
      "max_pooling2d_2 (MaxPooling2 (None, 4, 4, 10)          0         \n",
      "_________________________________________________________________\n",
      "flatten (Flatten)            (None, 160)               0         \n",
      "_________________________________________________________________\n",
      "dense_3 (Dense)              (None, 10)                1610      \n",
      "=================================================================\n",
      "Total params: 138,428\n",
      "Trainable params: 138,428\n",
      "Non-trainable params: 0\n",
      "_________________________________________________________________\n"
     ]
    }
   ],
   "source": [
    "# MNIST 분류 CNN keras 모델 구현\n",
    "model = tf.keras.Sequential([\n",
    "    tf.keras.layers.Conv2D(input_shape=(28, 28, 1),kernel_size=(3,3),filters=32,padding='same'),\n",
    "    tf.keras.layers.Dense(units=10,activation='relu'),\n",
    "    tf.keras.layers.MaxPool2D(pool_size=(2,2),strides=(2,2),padding='same'),\n",
    "    \n",
    "    tf.keras.layers.Conv2D(input_shape=(14,14,1), kernel_size=(3,3), padding='same',filters=64),\n",
    "    tf.keras.layers.Dense(units=10, activation='relu'),\n",
    "    tf.keras.layers.MaxPool2D(pool_size=(2,2), strides=(2,2),padding='same'),\n",
    "\n",
    "    tf.keras.layers.Conv2D(input_shape=(7,7,1), kernel_size=(3,3), padding='same',filters=1284),\n",
    "    tf.keras.layers.Dense(units=10, activation='relu'),\n",
    "    tf.keras.layers.MaxPool2D(pool_size=(2,2), strides=(2,2),padding='same'),\n",
    "\n",
    "    tf.keras.layers.Flatten(),\n",
    "    tf.keras.layers.Dense(units=10, activation='softmax')\n",
    "])\n",
    "\n",
    "model.compile(optimizer=tf.keras.optimizers.Adam(),\n",
    "             loss= 'sparse_categorical_crossentropy',\n",
    "             metrics=['accuracy'])\n",
    "\n",
    "model.summary()\n",
    "\n",
    "# https://www.tensorflow.org/api_docs/python/tf/keras/layers/Conv2D\n",
    "# tf.keras.layers.Conv2D(\n",
    "#     filters, kernel_size, strides=(1, 1), padding='valid', data_format=None,\n",
    "#     dilation_rate=(1, 1), groups=1, activation=None, use_bias=True,\n",
    "#     kernel_initializer='glorot_uniform', bias_initializer='zeros',\n",
    "#     kernel_regularizer=None, bias_regularizer=None, activity_regularizer=None,\n",
    "#     kernel_constraint=None, bias_constraint=None, **kwargs\n",
    "# )\n",
    "\n",
    "\n",
    "# https://yeomko.tistory.com/40\n",
    "# Xavier Glorot Initialization\n",
    "\n",
    "# loss 종류\n",
    "# mean_squared_error : 평균제곱 오차\n",
    "# binary_crossentropy : 이진분류 오차\n",
    "# categorical_crossentropy : 다중 분류 오차. one-hot encoding 클래스, [0.2, 0.3, 0.5] 와 같은 출력값과 실측값의 오차값을 계산한다.\n",
    "# sparse_categorical_crossentropy: 다중 분류 오차. 위와 동일하지만 , integer type 클래스라는 것이 다르다."
   ]
  },
  {
   "cell_type": "code",
   "execution_count": 4,
   "metadata": {
    "colab": {
     "base_uri": "https://localhost:8080/",
     "height": 898
    },
    "colab_type": "code",
    "executionInfo": {
     "elapsed": 222066,
     "status": "ok",
     "timestamp": 1598578785950,
     "user": {
      "displayName": "고병화",
      "photoUrl": "https://lh3.googleusercontent.com/a-/AOh14GgLZcAZyPt33HiIqtXjHiL8D4PIcVPdfLgODP1QBA=s64",
      "userId": "12645007744594631320"
     },
     "user_tz": -540
    },
    "id": "Xv2MOMeRs3NJ",
    "outputId": "0574177b-a513-448c-ad3c-6ff630e532f7"
   },
   "outputs": [
    {
     "name": "stdout",
     "output_type": "stream",
     "text": [
      "Epoch 1/25\n",
      "1407/1407 [==============================] - 9s 6ms/step - loss: 0.3495 - accuracy: 0.8891 - val_loss: 0.1389 - val_accuracy: 0.9556\n",
      "Epoch 2/25\n",
      "1407/1407 [==============================] - 8s 6ms/step - loss: 0.1446 - accuracy: 0.9555 - val_loss: 0.1199 - val_accuracy: 0.9635\n",
      "Epoch 3/25\n",
      "1407/1407 [==============================] - 8s 6ms/step - loss: 0.1335 - accuracy: 0.9587 - val_loss: 0.1217 - val_accuracy: 0.9626\n",
      "Epoch 4/25\n",
      "1407/1407 [==============================] - 9s 6ms/step - loss: 0.1229 - accuracy: 0.9622 - val_loss: 0.1457 - val_accuracy: 0.9617\n",
      "Epoch 5/25\n",
      "1407/1407 [==============================] - 8s 6ms/step - loss: 0.1091 - accuracy: 0.9666 - val_loss: 0.0936 - val_accuracy: 0.9711\n",
      "Epoch 6/25\n",
      "1407/1407 [==============================] - 8s 6ms/step - loss: 0.1016 - accuracy: 0.9687 - val_loss: 0.1129 - val_accuracy: 0.9666\n",
      "Epoch 7/25\n",
      "1407/1407 [==============================] - 8s 6ms/step - loss: 0.0946 - accuracy: 0.9706 - val_loss: 0.0809 - val_accuracy: 0.9750\n",
      "Epoch 8/25\n",
      "1407/1407 [==============================] - 8s 6ms/step - loss: 0.0872 - accuracy: 0.9725 - val_loss: 0.0867 - val_accuracy: 0.9746\n",
      "Epoch 9/25\n",
      "1407/1407 [==============================] - 8s 6ms/step - loss: 0.0852 - accuracy: 0.9734 - val_loss: 0.0974 - val_accuracy: 0.9700\n",
      "Epoch 10/25\n",
      "1407/1407 [==============================] - 8s 6ms/step - loss: 0.0795 - accuracy: 0.9758 - val_loss: 0.0762 - val_accuracy: 0.9759\n",
      "Epoch 11/25\n",
      "1407/1407 [==============================] - 8s 6ms/step - loss: 0.0767 - accuracy: 0.9758 - val_loss: 0.1042 - val_accuracy: 0.9687\n",
      "Epoch 12/25\n",
      "1407/1407 [==============================] - 8s 6ms/step - loss: 0.0729 - accuracy: 0.9769 - val_loss: 0.0889 - val_accuracy: 0.9741\n",
      "Epoch 13/25\n",
      "1407/1407 [==============================] - 8s 6ms/step - loss: 0.0696 - accuracy: 0.9774 - val_loss: 0.0738 - val_accuracy: 0.9768\n",
      "Epoch 14/25\n",
      "1407/1407 [==============================] - 8s 6ms/step - loss: 0.0665 - accuracy: 0.9780 - val_loss: 0.0977 - val_accuracy: 0.9710\n",
      "Epoch 15/25\n",
      "1407/1407 [==============================] - 8s 6ms/step - loss: 0.0666 - accuracy: 0.9788 - val_loss: 0.0684 - val_accuracy: 0.9787\n",
      "Epoch 16/25\n",
      "1407/1407 [==============================] - 8s 6ms/step - loss: 0.0649 - accuracy: 0.9797 - val_loss: 0.0715 - val_accuracy: 0.9767\n",
      "Epoch 17/25\n",
      "1407/1407 [==============================] - 8s 6ms/step - loss: 0.0640 - accuracy: 0.9795 - val_loss: 0.0796 - val_accuracy: 0.9758\n",
      "Epoch 18/25\n",
      "1407/1407 [==============================] - 8s 6ms/step - loss: 0.0587 - accuracy: 0.9807 - val_loss: 0.0765 - val_accuracy: 0.9749\n",
      "Epoch 19/25\n",
      "1407/1407 [==============================] - 8s 6ms/step - loss: 0.0605 - accuracy: 0.9809 - val_loss: 0.0707 - val_accuracy: 0.9766\n",
      "Epoch 20/25\n",
      "1407/1407 [==============================] - 8s 6ms/step - loss: 0.0580 - accuracy: 0.9816 - val_loss: 0.0637 - val_accuracy: 0.9809\n",
      "Epoch 21/25\n",
      "1407/1407 [==============================] - 8s 6ms/step - loss: 0.0580 - accuracy: 0.9812 - val_loss: 0.0761 - val_accuracy: 0.9753\n",
      "Epoch 22/25\n",
      "1407/1407 [==============================] - 8s 6ms/step - loss: 0.0552 - accuracy: 0.9822 - val_loss: 0.0693 - val_accuracy: 0.9797\n",
      "Epoch 23/25\n",
      "1407/1407 [==============================] - 8s 6ms/step - loss: 0.0550 - accuracy: 0.9824 - val_loss: 0.0680 - val_accuracy: 0.9805\n",
      "Epoch 24/25\n",
      "1407/1407 [==============================] - 8s 6ms/step - loss: 0.0550 - accuracy: 0.9816 - val_loss: 0.0717 - val_accuracy: 0.9795\n",
      "Epoch 25/25\n",
      "1407/1407 [==============================] - 8s 6ms/step - loss: 0.0532 - accuracy: 0.9818 - val_loss: 0.0717 - val_accuracy: 0.9789\n"
     ]
    },
    {
     "data": {
      "text/plain": [
       "<tensorflow.python.keras.callbacks.History at 0x7f8a60160dd8>"
      ]
     },
     "execution_count": 4,
     "metadata": {
      "tags": []
     },
     "output_type": "execute_result"
    }
   ],
   "source": [
    "model.fit(x_train,y_train,epochs=25,validation_split=0.25)"
   ]
  },
  {
   "cell_type": "code",
   "execution_count": 5,
   "metadata": {
    "colab": {
     "base_uri": "https://localhost:8080/",
     "height": 34
    },
    "colab_type": "code",
    "executionInfo": {
     "elapsed": 223341,
     "status": "ok",
     "timestamp": 1598578787234,
     "user": {
      "displayName": "고병화",
      "photoUrl": "https://lh3.googleusercontent.com/a-/AOh14GgLZcAZyPt33HiIqtXjHiL8D4PIcVPdfLgODP1QBA=s64",
      "userId": "12645007744594631320"
     },
     "user_tz": -540
    },
    "id": "UpCe8Od-s3NL",
    "outputId": "f33a86ab-d6ff-4a2e-836f-1278636e0ac8"
   },
   "outputs": [
    {
     "data": {
      "text/plain": [
       "[0.05747390165925026, 0.9819999933242798]"
      ]
     },
     "execution_count": 5,
     "metadata": {
      "tags": []
     },
     "output_type": "execute_result"
    }
   ],
   "source": [
    "model.evaluate(x_test,y_test,verbose=0)\n",
    "# [0.05747390165925026, 0.9819999933242798]"
   ]
  },
  {
   "cell_type": "code",
   "execution_count": 6,
   "metadata": {
    "colab": {
     "base_uri": "https://localhost:8080/",
     "height": 639
    },
    "colab_type": "code",
    "executionInfo": {
     "elapsed": 952,
     "status": "ok",
     "timestamp": 1598579080054,
     "user": {
      "displayName": "고병화",
      "photoUrl": "https://lh3.googleusercontent.com/a-/AOh14GgLZcAZyPt33HiIqtXjHiL8D4PIcVPdfLgODP1QBA=s64",
      "userId": "12645007744594631320"
     },
     "user_tz": -540
    },
    "id": "ugI98YmEtifM",
    "outputId": "ba2a8e49-a403-4ee4-faf5-eb5c0f88e399"
   },
   "outputs": [
    {
     "name": "stdout",
     "output_type": "stream",
     "text": [
      "Model: \"sequential_1\"\n",
      "_________________________________________________________________\n",
      "Layer (type)                 Output Shape              Param #   \n",
      "=================================================================\n",
      "conv2d_3 (Conv2D)            (None, 28, 28, 32)        320       \n",
      "_________________________________________________________________\n",
      "conv2d_4 (Conv2D)            (None, 28, 28, 64)        18496     \n",
      "_________________________________________________________________\n",
      "max_pooling2d_3 (MaxPooling2 (None, 14, 14, 64)        0         \n",
      "_________________________________________________________________\n",
      "dropout (Dropout)            (None, 14, 14, 64)        0         \n",
      "_________________________________________________________________\n",
      "conv2d_5 (Conv2D)            (None, 14, 14, 128)       73856     \n",
      "_________________________________________________________________\n",
      "conv2d_6 (Conv2D)            (None, 12, 12, 256)       295168    \n",
      "_________________________________________________________________\n",
      "max_pooling2d_4 (MaxPooling2 (None, 6, 6, 256)         0         \n",
      "_________________________________________________________________\n",
      "dropout_1 (Dropout)          (None, 6, 6, 256)         0         \n",
      "_________________________________________________________________\n",
      "flatten_1 (Flatten)          (None, 9216)              0         \n",
      "_________________________________________________________________\n",
      "dense_4 (Dense)              (None, 512)               4719104   \n",
      "_________________________________________________________________\n",
      "dropout_2 (Dropout)          (None, 512)               0         \n",
      "_________________________________________________________________\n",
      "dense_5 (Dense)              (None, 256)               131328    \n",
      "_________________________________________________________________\n",
      "dropout_3 (Dropout)          (None, 256)               0         \n",
      "_________________________________________________________________\n",
      "dense_6 (Dense)              (None, 10)                2570      \n",
      "=================================================================\n",
      "Total params: 5,240,842\n",
      "Trainable params: 5,240,842\n",
      "Non-trainable params: 0\n",
      "_________________________________________________________________\n"
     ]
    }
   ],
   "source": [
    "# VGGNet (VGG-19) 스타일의 MNIST 분류 CNN 모델 \n",
    "#--------------------------------------------\n",
    "# ( Conv2D * 2개  --> MaxPool2D ) * 2회 : 4층\n",
    "# ( Conv2D * 4개  --> MaxPool2D ) * 3회 : 12층\n",
    "# Dense * 3개                           : 3층\n",
    "#--------------------------------------------\n",
    "#                                     총 19층\n",
    "#--------------------------------------------\n",
    "# 각 네트워크마다 필터의 수를 2배로 증가 시킨다 : 32-->64-->128-->256-->512\n",
    "\n",
    "model = tf.keras.Sequential([\n",
    "    tf.keras.layers.Conv2D(input_shape=(28,28,1), kernel_size=(3,3), filters=32, padding='same', activation='relu'),\n",
    "    tf.keras.layers.Conv2D(kernel_size=(3,3), filters=64, padding='same', activation='relu'),\n",
    "    tf.keras.layers.MaxPool2D(pool_size=(2,2)),\n",
    "    tf.keras.layers.Dropout(rate=0.5),\n",
    "    tf.keras.layers.Conv2D(kernel_size=(3,3), filters=128, padding='same', activation='relu'),\n",
    "    tf.keras.layers.Conv2D(kernel_size=(3,3), filters=256, padding='valid', activation='relu'),\n",
    "    tf.keras.layers.MaxPool2D(pool_size=(2,2)),\n",
    "    tf.keras.layers.Dropout(rate=0.5),\n",
    "    tf.keras.layers.Flatten(),\n",
    "    tf.keras.layers.Dense(units=512, activation='relu'),\n",
    "    tf.keras.layers.Dropout(rate=0.5),\n",
    "    tf.keras.layers.Dense(units=256, activation='relu'),\n",
    "    tf.keras.layers.Dropout(rate=0.5),\n",
    "    tf.keras.layers.Dense(units=10, activation='softmax')\n",
    "])\n",
    "\n",
    "model.compile(optimizer=tf.keras.optimizers.Adam(), \n",
    "              loss='sparse_categorical_crossentropy', \n",
    "              metrics=['accuracy'])\n",
    "\n",
    "model.summary()"
   ]
  },
  {
   "cell_type": "code",
   "execution_count": 7,
   "metadata": {
    "colab": {
     "base_uri": "https://localhost:8080/",
     "height": 898
    },
    "colab_type": "code",
    "executionInfo": {
     "elapsed": 264273,
     "status": "ok",
     "timestamp": 1598579360345,
     "user": {
      "displayName": "고병화",
      "photoUrl": "https://lh3.googleusercontent.com/a-/AOh14GgLZcAZyPt33HiIqtXjHiL8D4PIcVPdfLgODP1QBA=s64",
      "userId": "12645007744594631320"
     },
     "user_tz": -540
    },
    "id": "O9ePvqltvPdh",
    "outputId": "1ffbb83c-6eab-4624-b81f-1f82ec8dba84"
   },
   "outputs": [
    {
     "name": "stdout",
     "output_type": "stream",
     "text": [
      "Epoch 1/25\n",
      "1407/1407 [==============================] - 11s 8ms/step - loss: 0.6628 - accuracy: 0.8380 - val_loss: 0.0833 - val_accuracy: 0.9765\n",
      "Epoch 2/25\n",
      "1407/1407 [==============================] - 10s 7ms/step - loss: 0.1739 - accuracy: 0.9508 - val_loss: 0.0664 - val_accuracy: 0.9792\n",
      "Epoch 3/25\n",
      "1407/1407 [==============================] - 10s 7ms/step - loss: 0.1418 - accuracy: 0.9601 - val_loss: 0.0623 - val_accuracy: 0.9835\n",
      "Epoch 4/25\n",
      "1407/1407 [==============================] - 10s 7ms/step - loss: 0.1253 - accuracy: 0.9654 - val_loss: 0.0499 - val_accuracy: 0.9863\n",
      "Epoch 5/25\n",
      "1407/1407 [==============================] - 10s 7ms/step - loss: 0.1163 - accuracy: 0.9700 - val_loss: 0.0488 - val_accuracy: 0.9871\n",
      "Epoch 6/25\n",
      "1407/1407 [==============================] - 10s 7ms/step - loss: 0.1058 - accuracy: 0.9724 - val_loss: 0.0572 - val_accuracy: 0.9835\n",
      "Epoch 7/25\n",
      "1407/1407 [==============================] - 11s 8ms/step - loss: 0.1013 - accuracy: 0.9739 - val_loss: 0.0421 - val_accuracy: 0.9877\n",
      "Epoch 8/25\n",
      "1407/1407 [==============================] - 10s 7ms/step - loss: 0.0961 - accuracy: 0.9748 - val_loss: 0.0446 - val_accuracy: 0.9865\n",
      "Epoch 9/25\n",
      "1407/1407 [==============================] - 10s 7ms/step - loss: 0.0921 - accuracy: 0.9755 - val_loss: 0.0389 - val_accuracy: 0.9896\n",
      "Epoch 10/25\n",
      "1407/1407 [==============================] - 10s 7ms/step - loss: 0.0847 - accuracy: 0.9789 - val_loss: 0.0404 - val_accuracy: 0.9892\n",
      "Epoch 11/25\n",
      "1407/1407 [==============================] - 10s 7ms/step - loss: 0.0859 - accuracy: 0.9788 - val_loss: 0.0418 - val_accuracy: 0.9899\n",
      "Epoch 12/25\n",
      "1407/1407 [==============================] - 11s 8ms/step - loss: 0.0864 - accuracy: 0.9776 - val_loss: 0.0438 - val_accuracy: 0.9876\n",
      "Epoch 13/25\n",
      "1407/1407 [==============================] - 10s 7ms/step - loss: 0.0815 - accuracy: 0.9782 - val_loss: 0.0401 - val_accuracy: 0.9887\n",
      "Epoch 14/25\n",
      "1407/1407 [==============================] - 10s 7ms/step - loss: 0.0778 - accuracy: 0.9794 - val_loss: 0.0428 - val_accuracy: 0.9896\n",
      "Epoch 15/25\n",
      "1407/1407 [==============================] - 10s 7ms/step - loss: 0.0836 - accuracy: 0.9787 - val_loss: 0.0450 - val_accuracy: 0.9871\n",
      "Epoch 16/25\n",
      "1407/1407 [==============================] - 10s 7ms/step - loss: 0.0855 - accuracy: 0.9776 - val_loss: 0.0357 - val_accuracy: 0.9907\n",
      "Epoch 17/25\n",
      "1407/1407 [==============================] - 11s 7ms/step - loss: 0.0764 - accuracy: 0.9802 - val_loss: 0.0393 - val_accuracy: 0.9889\n",
      "Epoch 18/25\n",
      "1407/1407 [==============================] - 10s 7ms/step - loss: 0.0842 - accuracy: 0.9791 - val_loss: 0.0350 - val_accuracy: 0.9911\n",
      "Epoch 19/25\n",
      "1407/1407 [==============================] - 10s 7ms/step - loss: 0.0897 - accuracy: 0.9781 - val_loss: 0.0362 - val_accuracy: 0.9899\n",
      "Epoch 20/25\n",
      "1407/1407 [==============================] - 10s 7ms/step - loss: 0.0793 - accuracy: 0.9801 - val_loss: 0.0355 - val_accuracy: 0.9905\n",
      "Epoch 21/25\n",
      "1407/1407 [==============================] - 10s 7ms/step - loss: 0.0792 - accuracy: 0.9798 - val_loss: 0.0371 - val_accuracy: 0.9909\n",
      "Epoch 22/25\n",
      "1407/1407 [==============================] - 10s 7ms/step - loss: 0.0740 - accuracy: 0.9813 - val_loss: 0.0382 - val_accuracy: 0.9899\n",
      "Epoch 23/25\n",
      "1407/1407 [==============================] - 10s 7ms/step - loss: 0.0819 - accuracy: 0.9797 - val_loss: 0.0422 - val_accuracy: 0.9874\n",
      "Epoch 24/25\n",
      "1407/1407 [==============================] - 10s 7ms/step - loss: 0.0828 - accuracy: 0.9802 - val_loss: 0.0341 - val_accuracy: 0.9915\n",
      "Epoch 25/25\n",
      "1407/1407 [==============================] - 10s 7ms/step - loss: 0.0796 - accuracy: 0.9799 - val_loss: 0.0367 - val_accuracy: 0.9906\n"
     ]
    },
    {
     "data": {
      "text/plain": [
       "[0.034512970596551895, 0.9904999732971191]"
      ]
     },
     "execution_count": 7,
     "metadata": {
      "tags": []
     },
     "output_type": "execute_result"
    }
   ],
   "source": [
    "model.fit(x_train, y_train , epochs=25, validation_split=0.25)\n",
    "model.evaluate(x_test, y_test, verbose=0)\n",
    "# [0.034512970596551895, 0.9904999732971191]\n",
    "# [0.02834535576403141, 0.9921000003814697]  : 정확도 향상,코랩에서 실행"
   ]
  },
  {
   "cell_type": "code",
   "execution_count": null,
   "metadata": {
    "colab": {},
    "colab_type": "code",
    "id": "OtVg-QiUvTnO"
   },
   "outputs": [],
   "source": []
  }
 ],
 "metadata": {
  "accelerator": "GPU",
  "colab": {
   "collapsed_sections": [],
   "name": "02_mnist_cnn_keras.ipynb",
   "provenance": []
  },
  "kernelspec": {
   "display_name": "Python 3",
   "language": "python",
   "name": "python3"
  },
  "language_info": {
   "codemirror_mode": {
    "name": "ipython",
    "version": 3
   },
   "file_extension": ".py",
   "mimetype": "text/x-python",
   "name": "python",
   "nbconvert_exporter": "python",
   "pygments_lexer": "ipython3",
   "version": "3.7.6"
  }
 },
 "nbformat": 4,
 "nbformat_minor": 1
}
