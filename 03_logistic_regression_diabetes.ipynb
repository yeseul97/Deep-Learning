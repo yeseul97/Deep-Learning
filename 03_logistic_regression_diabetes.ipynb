{
 "cells": [
  {
   "cell_type": "code",
   "execution_count": 1,
   "metadata": {},
   "outputs": [],
   "source": [
    "# 03_logistic_regression_diabetes\n",
    "\n",
    "import tensorflow as tf\n",
    "import numpy as np\n",
    "tf.random.set_seed(5)"
   ]
  },
  {
   "cell_type": "code",
   "execution_count": 2,
   "metadata": {},
   "outputs": [
    {
     "data": {
      "text/plain": [
       "(203, 1)"
      ]
     },
     "execution_count": 2,
     "metadata": {},
     "output_type": "execute_result"
    }
   ],
   "source": [
    "# 데이터셋 가져오기\n",
    "xy = np.loadtxt('data-03-diabetes.csv',delimiter=',',dtype=np.float32)\n",
    "xy.shape   # (759, 9)\n",
    "\n",
    "# 학습 데이터 분리 : 70% \n",
    "x_train = xy[:556,:-1]\n",
    "y_train = xy[:556,[-1]]\n",
    "x_train.shape  # (556, 8)\n",
    "y_train.shape  # (556, 1)\n",
    "\n",
    "# 검증 데이터 분리 : 30%\n",
    "x_test = xy[556:,:-1]\n",
    "y_test = xy[556:,[-1]]\n",
    "x_test.shape  # (203, 8)\n",
    "y_test.shape  # (203, 1)"
   ]
  },
  {
   "cell_type": "code",
   "execution_count": 3,
   "metadata": {},
   "outputs": [],
   "source": [
    "# 변수 초기화 : weight, bias\n",
    "# (m,n) * (n,l)  = (m,l)  , 행렬의 내적 곱셈 공식\n",
    "# (556,8) * (8,1)  = (556,1)\n",
    "\n",
    "W = tf.Variable(tf.random.normal([8,1]), name ='weight')\n",
    "b = tf.Variable(tf.random.normal([1]), name = 'bias')"
   ]
  },
  {
   "cell_type": "code",
   "execution_count": 4,
   "metadata": {},
   "outputs": [],
   "source": [
    "# hypothesis 예측 함수 : H(X) = sigmoid(W*X + b)\n",
    "# tf.sigmoid() : tf.div(1. , 1. + tf.exp(-(tf.matmul(X,W) + b)))\n",
    "def hypothesis(X):\n",
    "    return   tf.sigmoid(tf.matmul(X,W) + b)  # 0 ~ 1 사이의 값을 출력"
   ]
  },
  {
   "cell_type": "code",
   "execution_count": 5,
   "metadata": {},
   "outputs": [],
   "source": [
    "# 비용 함수 : logloss ,2진 분류모델\n",
    "def cost_func():\n",
    "    # cost = tf.reduce_mean(tf.square(hypothesis(x_train) - y_train)) #회귀모델\n",
    "    cost = -tf.reduce_mean(y_train*tf.math.log(hypothesis(x_train)) +\n",
    "                         (1-y_train)*tf.math.log(1-hypothesis(x_train)))\n",
    "    return cost"
   ]
  },
  {
   "cell_type": "code",
   "execution_count": 6,
   "metadata": {},
   "outputs": [],
   "source": [
    "# 경사 하강법\n",
    "# learning_rate(학습율) 을 0.01로 설정하여 optimizer 객체를 생성\n",
    "optimizer = tf.keras.optimizers.Adam(lr=0.01)"
   ]
  },
  {
   "cell_type": "code",
   "execution_count": 7,
   "metadata": {},
   "outputs": [
    {
     "name": "stdout",
     "output_type": "stream",
     "text": [
      "***** Start Learning!!\n",
      "0000 cost: [ 0.80423117 ] W: [[-0.19030644]\n",
      " [-0.9402894 ]\n",
      " [-0.02964122]\n",
      " [-0.7525403 ]\n",
      " [ 1.3131526 ]\n",
      " [-0.6285471 ]\n",
      " [ 0.8440665 ]\n",
      " [-0.09899934]] b: [0.23652852]\n",
      "1000 cost: [ 0.48396263 ] W: [[-0.7941301 ]\n",
      " [-3.3146176 ]\n",
      " [ 0.2550522 ]\n",
      " [-0.5946785 ]\n",
      " [-0.1666643 ]\n",
      " [-2.6123285 ]\n",
      " [-0.85612226]\n",
      " [ 0.10218763]] b: [0.3757753]\n",
      "2000 cost: [ 0.4838197 ] W: [[-0.80596256]\n",
      " [-3.2786446 ]\n",
      " [ 0.3001422 ]\n",
      " [-0.5670278 ]\n",
      " [-0.2191708 ]\n",
      " [-2.6450553 ]\n",
      " [-0.9890654 ]\n",
      " [ 0.08347502]] b: [0.24310307]\n",
      "3000 cost: [ 0.4838197 ] W: [[-0.8061921 ]\n",
      " [-3.2781093 ]\n",
      " [ 0.30098844]\n",
      " [-0.5677529 ]\n",
      " [-0.2194896 ]\n",
      " [-2.6450932 ]\n",
      " [-0.99144965]\n",
      " [ 0.08311543]] b: [0.24059941]\n",
      "4000 cost: [ 0.4838197 ] W: [[-0.8061921 ]\n",
      " [-3.2781086 ]\n",
      " [ 0.30098918]\n",
      " [-0.5677529 ]\n",
      " [-0.21949011]\n",
      " [-2.645095  ]\n",
      " [-0.9914505 ]\n",
      " [ 0.08311494]] b: [0.24059796]\n",
      "5000 cost: [ 0.4838197 ] W: [[-0.80619204]\n",
      " [-3.2781074 ]\n",
      " [ 0.30098864]\n",
      " [-0.5677518 ]\n",
      " [-0.2194908 ]\n",
      " [-2.6450956 ]\n",
      " [-0.99145085]\n",
      " [ 0.08311501]] b: [0.24059772]\n",
      "6000 cost: [ 0.4838197 ] W: [[-0.806192  ]\n",
      " [-3.2781074 ]\n",
      " [ 0.30098918]\n",
      " [-0.56775206]\n",
      " [-0.21949077]\n",
      " [-2.6450963 ]\n",
      " [-0.9914514 ]\n",
      " [ 0.08311478]] b: [0.24059707]\n",
      "7000 cost: [ 0.48381963 ] W: [[-0.8061918 ]\n",
      " [-3.2781074 ]\n",
      " [ 0.3009889 ]\n",
      " [-0.5677519 ]\n",
      " [-0.21949095]\n",
      " [-2.6450968 ]\n",
      " [-0.99145156]\n",
      " [ 0.08311458]] b: [0.24059692]\n",
      "8000 cost: [ 0.48381963 ] W: [[-0.8061917 ]\n",
      " [-3.2781074 ]\n",
      " [ 0.3009891 ]\n",
      " [-0.5677519 ]\n",
      " [-0.21949099]\n",
      " [-2.645097  ]\n",
      " [-0.9914513 ]\n",
      " [ 0.08311448]] b: [0.24059708]\n",
      "9000 cost: [ 0.48381963 ] W: [[-0.8061921 ]\n",
      " [-3.2781072 ]\n",
      " [ 0.30098864]\n",
      " [-0.5677521 ]\n",
      " [-0.21949112]\n",
      " [-2.645097  ]\n",
      " [-0.9914519 ]\n",
      " [ 0.08311472]] b: [0.2405965]\n",
      "10000 cost: [ 0.48381963 ] W: [[-0.806192  ]\n",
      " [-3.2781074 ]\n",
      " [ 0.30098942]\n",
      " [-0.5677526 ]\n",
      " [-0.21949084]\n",
      " [-2.645097  ]\n",
      " [-0.99145204]\n",
      " [ 0.08311433]] b: [0.24059618]\n",
      "***** Learning Finished\n"
     ]
    }
   ],
   "source": [
    "# 학습 시작\n",
    "print('***** Start Learning!!')\n",
    "for step in range(10001):\n",
    "    # cost를 minimize한다\n",
    "    optimizer.minimize(cost_func,var_list=[W,b])\n",
    "    \n",
    "    if step % 1000 == 0:\n",
    "        print('%04d'%step,'cost: [',cost_func().numpy(),']',\n",
    "             'W:',W.numpy(),'b:',b.numpy())\n",
    "\n",
    "print('***** Learning Finished')"
   ]
  },
  {
   "cell_type": "code",
   "execution_count": 8,
   "metadata": {},
   "outputs": [
    {
     "name": "stdout",
     "output_type": "stream",
     "text": [
      "Weight : [[-0.806192  ]\n",
      " [-3.2781074 ]\n",
      " [ 0.30098942]\n",
      " [-0.5677526 ]\n",
      " [-0.21949084]\n",
      " [-2.645097  ]\n",
      " [-0.99145204]\n",
      " [ 0.08311433]]\n",
      "Bias: [0.24059618]\n"
     ]
    }
   ],
   "source": [
    "# 회귀 계수 : weight과 bias출력\n",
    "print('Weight :',W.numpy())\n",
    "print('Bias:',b.numpy())"
   ]
  },
  {
   "cell_type": "code",
   "execution_count": 11,
   "metadata": {},
   "outputs": [
    {
     "name": "stdout",
     "output_type": "stream",
     "text": [
      "Accuracy: 0.7881773\n"
     ]
    }
   ],
   "source": [
    "# 정확도 측정 : accuracy computation\n",
    "# 학습과 검증데이터를 별도로 사용한 경우 (70%:30%)\n",
    "def predict(X):\n",
    "    return tf.cast(hypothesis(X)>0.5,dtype=tf.float32 ) # 타입 변환함수 사용\n",
    "\n",
    "preds = predict(x_test)  \n",
    "accuarcy = tf.reduce_mean(tf.cast(tf.equal(preds,y_test),dtype=tf.float32))\n",
    "\n",
    "print('Accuracy:',accuarcy.numpy())  # Accuracy: 0.7881773\n",
    "# print('Hypothesis:\\n',hypothesis(x_test).numpy())\n",
    "# print('Predict:\\n',preds.numpy())"
   ]
  },
  {
   "cell_type": "code",
   "execution_count": null,
   "metadata": {},
   "outputs": [],
   "source": []
  }
 ],
 "metadata": {
  "kernelspec": {
   "display_name": "Python 3",
   "language": "python",
   "name": "python3"
  },
  "language_info": {
   "codemirror_mode": {
    "name": "ipython",
    "version": 3
   },
   "file_extension": ".py",
   "mimetype": "text/x-python",
   "name": "python",
   "nbconvert_exporter": "python",
   "pygments_lexer": "ipython3",
   "version": "3.7.6"
  }
 },
 "nbformat": 4,
 "nbformat_minor": 4
}
