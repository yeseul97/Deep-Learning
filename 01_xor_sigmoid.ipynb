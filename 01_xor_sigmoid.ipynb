{
 "cells": [
  {
   "cell_type": "code",
   "execution_count": 1,
   "metadata": {},
   "outputs": [],
   "source": [
    "# xor_sigmoid\n",
    "\n",
    "import tensorflow as tf\n",
    "import numpy as np\n",
    "tf.random.set_seed(5)\n",
    "\n",
    "# train data set \n",
    "x_data = [[0,0],\n",
    "          [0,1],\n",
    "          [1,0],\n",
    "          [1,1]]\n",
    "\n",
    "y_data = [[0],\n",
    "          [1],\n",
    "          [1],\n",
    "          [0]]\n",
    "\n",
    "x_train = np.array(x_data,dtype=np.float32)\n",
    "y_train = np.array(y_data,dtype=np.float32)"
   ]
  },
  {
   "cell_type": "code",
   "execution_count": 2,
   "metadata": {},
   "outputs": [],
   "source": [
    "# 변수 초기화 : weight, bias\n",
    "#  (4,2) * (2,1) = (4,1)\n",
    "W = tf.Variable(tf.random.normal([2,1]),name = 'weight')\n",
    "b = tf.Variable(tf.random.normal([1]), name = 'bias')"
   ]
  },
  {
   "cell_type": "code",
   "execution_count": 3,
   "metadata": {},
   "outputs": [],
   "source": [
    "# hypothesis 예측 함수(방정식)  , H(x) = sigmoid(W * X + b)\n",
    "# tf.sigmoid : tf.div(1., 1. + tf.exp(tf.matmul(X,W)))\n",
    "def hypothesis(X):\n",
    "    return  tf.sigmoid(tf.matmul(X,W) + b  )\n",
    "     "
   ]
  },
  {
   "cell_type": "code",
   "execution_count": 4,
   "metadata": {},
   "outputs": [],
   "source": [
    "# 비용함수 : logloss\n",
    "def cost_func():\n",
    "    cost = -tf.reduce_mean(y_train*tf.math.log(hypothesis(x_train)) + (1-y_train)*\n",
    "                       tf.math.log(1-hypothesis(x_train)))\n",
    "    return cost"
   ]
  },
  {
   "cell_type": "code",
   "execution_count": 5,
   "metadata": {},
   "outputs": [],
   "source": [
    "# 경사 하강법\n",
    "# learning rate (학습율) 을 0.01로 설정하여  optimizer객체를 생성\n",
    "# optimizer = tf.compat.v1.train.GradientDescentOptimizer(learning_rate=0.01)\n",
    "optimizer = tf.keras.optimizers.Adam(lr=0.01)"
   ]
  },
  {
   "cell_type": "code",
   "execution_count": 6,
   "metadata": {},
   "outputs": [
    {
     "name": "stdout",
     "output_type": "stream",
     "text": [
      "***** Start Learning!!\n",
      "0000 cost: [ 0.7333479 ]  W:  [[-0.1703073]\n",
      " [-0.9402866]]   b:  [0.23652823]\n",
      "1000 cost: [ 0.6931472 ]  W:  [[-1.1062671e-07]\n",
      " [-4.4950479e-09]]   b:  [-2.3064704e-08]\n",
      "2000 cost: [ 0.6931472 ]  W:  [[-1.1062671e-07]\n",
      " [-4.4950479e-09]]   b:  [-2.3064704e-08]\n",
      "3000 cost: [ 0.6931472 ]  W:  [[-1.1062671e-07]\n",
      " [-4.4950479e-09]]   b:  [-2.3064704e-08]\n",
      "4000 cost: [ 0.6931472 ]  W:  [[-1.1062671e-07]\n",
      " [-4.4950479e-09]]   b:  [-2.3064704e-08]\n",
      "5000 cost: [ 0.6931472 ]  W:  [[-1.1062671e-07]\n",
      " [-4.4950479e-09]]   b:  [-2.3064704e-08]\n",
      "6000 cost: [ 0.6931472 ]  W:  [[-1.1062671e-07]\n",
      " [-4.4950479e-09]]   b:  [-2.3064704e-08]\n",
      "7000 cost: [ 0.6931472 ]  W:  [[-1.1062671e-07]\n",
      " [-4.4950479e-09]]   b:  [-2.3064704e-08]\n",
      "8000 cost: [ 0.6931472 ]  W:  [[-1.1062671e-07]\n",
      " [-4.4950479e-09]]   b:  [-2.3064704e-08]\n",
      "9000 cost: [ 0.6931472 ]  W:  [[-1.1062671e-07]\n",
      " [-4.4950479e-09]]   b:  [-2.3064704e-08]\n",
      "10000 cost: [ 0.6931472 ]  W:  [[-1.1062671e-07]\n",
      " [-4.4950479e-09]]   b:  [-2.3064704e-08]\n",
      "***** Learning Finished!!\n"
     ]
    }
   ],
   "source": [
    "# 학습 시작\n",
    "print('***** Start Learning!!')\n",
    "for step in range(10001):\n",
    "    # cost를 minimize한다\n",
    "    optimizer.minimize(cost_func, var_list=[W,b])\n",
    "    \n",
    "    if step % 1000 == 0:\n",
    "        print('%04d'%step, 'cost: [', cost_func().numpy(), ']  W: ', W.numpy(), '  b: ', b.numpy())\n",
    "        \n",
    "print('***** Learning Finished!!')"
   ]
  },
  {
   "cell_type": "code",
   "execution_count": 7,
   "metadata": {},
   "outputs": [
    {
     "name": "stdout",
     "output_type": "stream",
     "text": [
      "Weight = [[-1.1062671e-07]\n",
      " [-4.4950479e-09]]\n",
      "Bias = [-2.3064704e-08]\n"
     ]
    }
   ],
   "source": [
    "# 회귀 계수 출력\n",
    "print('Weight =', W.numpy())\n",
    "print('Bias =', b.numpy())"
   ]
  },
  {
   "cell_type": "code",
   "execution_count": 8,
   "metadata": {},
   "outputs": [
    {
     "name": "stdout",
     "output_type": "stream",
     "text": [
      "Hypothesis:\n",
      " [[0.5]\n",
      " [0.5]\n",
      " [0.5]\n",
      " [0.5]] \n",
      "Predict:\n",
      " [[0.]\n",
      " [0.]\n",
      " [0.]\n",
      " [0.]] \n",
      "Accuracy: 0.5\n"
     ]
    }
   ],
   "source": [
    "# predict : test model\n",
    "# accuracy computation (정확도 측정)\n",
    "def predict(X):\n",
    "    return tf.cast(hypothesis(X) > 0.5, dtype = tf.float32)\n",
    "\n",
    "accuracy = tf.reduce_mean(tf.cast(tf.equal(predict(x_train),y_train),\n",
    "                                     dtype = tf.float64))\n",
    "print(\"Hypothesis:\\n\",hypothesis(x_train).numpy(), \n",
    "      \"\\nPredict:\\n\",predict(x_train).numpy(),\n",
    "      \"\\nAccuracy:\",accuracy.numpy())   # Accuracy: 0.5"
   ]
  },
  {
   "cell_type": "code",
   "execution_count": null,
   "metadata": {},
   "outputs": [],
   "source": []
  }
 ],
 "metadata": {
  "kernelspec": {
   "display_name": "Python 3",
   "language": "python",
   "name": "python3"
  },
  "language_info": {
   "codemirror_mode": {
    "name": "ipython",
    "version": 3
   },
   "file_extension": ".py",
   "mimetype": "text/x-python",
   "name": "python",
   "nbconvert_exporter": "python",
   "pygments_lexer": "ipython3",
   "version": "3.7.6"
  }
 },
 "nbformat": 4,
 "nbformat_minor": 4
}
