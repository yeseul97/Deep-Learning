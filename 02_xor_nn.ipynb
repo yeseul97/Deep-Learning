{
 "cells": [
  {
   "cell_type": "code",
   "execution_count": 2,
   "metadata": {},
   "outputs": [],
   "source": [
    "# xor_nn\n",
    "# 2진 분류 , sigmoid 사용\n",
    "# two Layers of Neural Network\n",
    "\n",
    "import tensorflow as tf\n",
    "import numpy as np\n",
    "tf.random.set_seed(5)\n",
    "\n",
    "# train data set \n",
    "x_data = [[0,0],\n",
    "          [0,1],\n",
    "          [1,0],\n",
    "          [1,1]]\n",
    "\n",
    "y_data = [[0],\n",
    "          [1],\n",
    "          [1],\n",
    "          [0]]\n",
    "\n",
    "x_train = np.array(x_data,dtype=np.float32)\n",
    "y_train = np.array(y_data,dtype=np.float32)"
   ]
  },
  {
   "cell_type": "code",
   "execution_count": 3,
   "metadata": {},
   "outputs": [],
   "source": [
    "# Layer 1\n",
    "#  (4,2) * (2,2) = (4,2)\n",
    "W1 = tf.Variable(tf.random.normal([2,2]),name = 'weight1')\n",
    "b1 = tf.Variable(tf.random.normal([2]), name = 'bias1')\n",
    "\n",
    "def layer1(X):\n",
    "    return  tf.sigmoid(tf.matmul(X,W1) + b1 )         "
   ]
  },
  {
   "cell_type": "code",
   "execution_count": 4,
   "metadata": {},
   "outputs": [],
   "source": [
    "# Layer 2\n",
    "#  (4,2) * (2,1) = (4,1)\n",
    "W2 = tf.Variable(tf.random.normal([2,1]),name = 'weight2')\n",
    "b2 = tf.Variable(tf.random.normal([1]), name = 'bias2')"
   ]
  },
  {
   "cell_type": "code",
   "execution_count": 5,
   "metadata": {},
   "outputs": [],
   "source": [
    "# hypothesis 예측 함수(방정식)  , H(x) = sigmoid(W * X + b)\n",
    "# tf.sigmoid : tf.div(1., 1. + tf.exp(tf.matmul(X,W)))\n",
    "def hypothesis(X):\n",
    "    return  tf.sigmoid(tf.matmul(layer1(X),W2) + b2 )     "
   ]
  },
  {
   "cell_type": "code",
   "execution_count": 6,
   "metadata": {},
   "outputs": [],
   "source": [
    "# 비용함수 : logloss\n",
    "def cost_func():\n",
    "    cost = -tf.reduce_mean(y_train*tf.math.log(hypothesis(x_train)) + (1-y_train)*\n",
    "                       tf.math.log(1-hypothesis(x_train)))\n",
    "    return cost"
   ]
  },
  {
   "cell_type": "code",
   "execution_count": 7,
   "metadata": {},
   "outputs": [],
   "source": [
    "# 경사 하강법\n",
    "# learning rate (학습율) 을 0.01로 설정하여  optimizer객체를 생성\n",
    "# optimizer = tf.compat.v1.train.GradientDescentOptimizer(learning_rate=0.01)\n",
    "optimizer = tf.keras.optimizers.Adam(lr=0.01)"
   ]
  },
  {
   "cell_type": "code",
   "execution_count": 8,
   "metadata": {},
   "outputs": [
    {
     "name": "stdout",
     "output_type": "stream",
     "text": [
      "***** Start Learning!!\n",
      "0000 cost: [ 0.7040971 ]  W1:  [[-0.19030488 -0.9402918 ]\n",
      " [-0.04963873 -0.73254627]]   b1:  [0.21652977 0.8206513 ]\n",
      "1000 cost: [ 0.02550175 ]  W1:  [[-5.024761  -6.6669364]\n",
      " [-4.994727  -6.5032763]]   b1:  [7.5096507 2.915475 ]\n",
      "2000 cost: [ 0.0068961554 ]  W1:  [[-5.944842 -7.574677]\n",
      " [-5.917539 -7.41493 ]]   b1:  [8.922688 3.408215]\n",
      "3000 cost: [ 0.0029871406 ]  W1:  [[-6.4519587 -8.081456 ]\n",
      " [-6.426093  -7.9230824]]   b1:  [9.694395 3.674915]\n",
      "4000 cost: [ 0.0015255288 ]  W1:  [[-6.8228345 -8.453764 ]\n",
      " [-6.797982  -8.296077 ]]   b1:  [10.256575   3.8682897]\n",
      "5000 cost: [ 0.00084185496 ]  W1:  [[-7.127812  -8.760641 ]\n",
      " [-7.1037564 -8.603351 ]]   b1:  [10.717856   4.0264554]\n",
      "***** Learning Finished!!\n"
     ]
    }
   ],
   "source": [
    "# 학습 시작\n",
    "print('***** Start Learning!!')\n",
    "for step in range(5001):\n",
    "    # cost를 minimize한다\n",
    "    optimizer.minimize(cost_func, var_list=[W1,b1,W2,b2])\n",
    "    \n",
    "    if step % 1000 == 0:\n",
    "        print('%04d'%step, 'cost: [', cost_func().numpy(), ']  W1: ', W1.numpy(), '  b1: ', b1.numpy())\n",
    "        \n",
    "print('***** Learning Finished!!')"
   ]
  },
  {
   "cell_type": "code",
   "execution_count": 9,
   "metadata": {},
   "outputs": [
    {
     "name": "stdout",
     "output_type": "stream",
     "text": [
      "Weight1 = [[-7.127812  -8.760641 ]\n",
      " [-7.1037564 -8.603351 ]]\n",
      "Bias1 = [10.717856   4.0264554]\n",
      "Weight2 = [[ 15.241033]\n",
      " [-14.8807  ]]\n",
      "Bias2 = [-7.569965]\n"
     ]
    }
   ],
   "source": [
    "# 회귀 계수 출력\n",
    "print('Weight1 =', W1.numpy())\n",
    "print('Bias1 =', b1.numpy())\n",
    "print('Weight2 =', W2.numpy())\n",
    "print('Bias2 =', b2.numpy())"
   ]
  },
  {
   "cell_type": "code",
   "execution_count": 10,
   "metadata": {},
   "outputs": [
    {
     "name": "stdout",
     "output_type": "stream",
     "text": [
      "Hypothesis:\n",
      " [[9.5849548e-04]\n",
      " [9.9919170e-01]\n",
      " [9.9920160e-01]\n",
      " [8.0075976e-04]] \n",
      "Predict:\n",
      " [[0.]\n",
      " [1.]\n",
      " [1.]\n",
      " [0.]] \n",
      "Accuracy: 1.0\n"
     ]
    }
   ],
   "source": [
    "# predict : test model\n",
    "# accuracy computation (정확도 측정)\n",
    "def predict(X):\n",
    "    return tf.cast(hypothesis(X) > 0.5, dtype = tf.float32)\n",
    "\n",
    "accuracy = tf.reduce_mean(tf.cast(tf.equal(predict(x_train),y_train),\n",
    "                                     dtype = tf.float64))\n",
    "print(\"Hypothesis:\\n\",hypothesis(x_train).numpy(), \n",
    "      \"\\nPredict:\\n\",predict(x_train).numpy(),\n",
    "      \"\\nAccuracy:\",accuracy.numpy())   # Accuracy: 1.0\n",
    "# 단층 신경망으로는 해결할 수 없던 XOR Problem을 \n",
    "# 다층(2층) 신경망으로 해결함"
   ]
  },
  {
   "cell_type": "code",
   "execution_count": null,
   "metadata": {},
   "outputs": [],
   "source": []
  }
 ],
 "metadata": {
  "kernelspec": {
   "display_name": "Python 3",
   "language": "python",
   "name": "python3"
  },
  "language_info": {
   "codemirror_mode": {
    "name": "ipython",
    "version": 3
   },
   "file_extension": ".py",
   "mimetype": "text/x-python",
   "name": "python",
   "nbconvert_exporter": "python",
   "pygments_lexer": "ipython3",
   "version": "3.7.6"
  }
 },
 "nbformat": 4,
 "nbformat_minor": 4
}
