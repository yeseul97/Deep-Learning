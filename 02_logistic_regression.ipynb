{
 "cells": [
  {
   "cell_type": "markdown",
   "metadata": {},
   "source": [
    "### Logistic Regression : 2진 분류(Binary Classification)\n",
    ": 2진 분류의 활성화 함수로는 sigmoid가 사용됨"
   ]
  },
  {
   "cell_type": "code",
   "execution_count": 1,
   "metadata": {},
   "outputs": [],
   "source": [
    "import tensorflow as tf\n",
    "import numpy as np\n",
    "tf.random.set_seed(5)"
   ]
  },
  {
   "cell_type": "code",
   "execution_count": 2,
   "metadata": {},
   "outputs": [],
   "source": [
    "# 학습용 데이터\n",
    "# x_data : [6,2]\n",
    "x_data = [[1,2],\n",
    "          [2,3],\n",
    "          [3,1],\n",
    "          [4,3],\n",
    "          [5,3],\n",
    "          [6,2]]\n",
    "\n",
    "# y_data : [6,1]\n",
    "y_data = [[0],\n",
    "          [0],\n",
    "          [0],\n",
    "          [1],\n",
    "          [1],\n",
    "          [1]]\n",
    "x_train = np.array(x_data,dtype=np.float32)\n",
    "y_train = np.array(y_data,dtype=np.float32)"
   ]
  },
  {
   "cell_type": "code",
   "execution_count": 3,
   "metadata": {},
   "outputs": [],
   "source": [
    "# 변수 초기화 : weight, bias\n",
    "# (m,n) * (n,l)  = (m,l)  , 행렬의 내적 곱셈 공식\n",
    "# (6,2) * (2,1)  = (6,1)\n",
    "\n",
    "W = tf.Variable(tf.random.normal([2,1]), name ='weight')\n",
    "b = tf.Variable(tf.random.normal([1]), name = 'bias')"
   ]
  },
  {
   "cell_type": "code",
   "execution_count": 4,
   "metadata": {},
   "outputs": [],
   "source": [
    "# hypothesis 예측 함수 : H(X) = sigmoid(W*X + b)\n",
    "# tf.sigmoid() : tf.div(1. , 1. + tf.exp(-(tf.matmul(X,W) + b)))\n",
    "def hypothesis(X):\n",
    "    return   tf.sigmoid(tf.matmul(X,W) + b)  # 0 ~ 1 사이의 값을 출력"
   ]
  },
  {
   "cell_type": "code",
   "execution_count": 5,
   "metadata": {},
   "outputs": [],
   "source": [
    "# 비용 함수 : logloss ,2진 분류모델\n",
    "def cost_func():\n",
    "    # cost = tf.reduce_mean(tf.square(hypothesis(x_train) - y_train)) #회귀모델\n",
    "    cost = -tf.reduce_mean(y_train*tf.math.log(hypothesis(x_train)) +\n",
    "                         (1-y_train)*tf.math.log(1-hypothesis(x_train)))\n",
    "    return cost"
   ]
  },
  {
   "cell_type": "code",
   "execution_count": 6,
   "metadata": {},
   "outputs": [],
   "source": [
    "# 경사 하강법\n",
    "# learning_rate(학습율) 을 0.01로 설정하여 optimizer 객체를 생성\n",
    "optimizer = tf.keras.optimizers.Adam(lr=0.01)"
   ]
  },
  {
   "cell_type": "code",
   "execution_count": 7,
   "metadata": {},
   "outputs": [
    {
     "name": "stdout",
     "output_type": "stream",
     "text": [
      "***** Start Learning!!\n",
      "0000 cost: [ 1.661137 ] W: [[-0.17030667]\n",
      " [-0.9402863 ]] b: [0.23652855]\n",
      "1000 cost: [ 0.17934632 ] W: [[1.3178085 ]\n",
      " [0.19723554]] b: [-4.7614303]\n",
      "2000 cost: [ 0.07253334 ] W: [[2.0121026]\n",
      " [0.8405846]] b: [-8.711953]\n",
      "3000 cost: [ 0.037006143 ] W: [[2.6189137]\n",
      " [1.2299305]] b: [-11.698348]\n",
      "4000 cost: [ 0.020763224 ] W: [[3.170925 ]\n",
      " [1.5396553]] b: [-14.28583]\n",
      "5000 cost: [ 0.012184973 ] W: [[3.6927993]\n",
      " [1.8153362]] b: [-16.680557]\n",
      "6000 cost: [ 0.0073189805 ] W: [[4.1976485]\n",
      " [2.0743663]] b: [-18.97369]\n",
      "7000 cost: [ 0.00445227 ] W: [[4.692671 ]\n",
      " [2.3246496]] b: [-21.210663]\n",
      "8000 cost: [ 0.0027277253 ] W: [[5.1819453]\n",
      " [2.570162 ]] b: [-23.415749]\n",
      "9000 cost: [ 0.0016780436 ] W: [[5.667814]\n",
      " [2.812966]] b: [-25.602295]\n",
      "10000 cost: [ 0.001034755 ] W: [[6.1516347]\n",
      " [3.0542414]] b: [-27.77797]\n",
      "***** Learning Finished\n"
     ]
    }
   ],
   "source": [
    "# 학습 시작\n",
    "print('***** Start Learning!!')\n",
    "for step in range(10001):\n",
    "    # cost를 minimize한다\n",
    "    optimizer.minimize(cost_func,var_list=[W,b])\n",
    "    \n",
    "    if step % 1000 == 0:\n",
    "        print('%04d'%step,'cost: [',cost_func().numpy(),']',\n",
    "             'W:',W.numpy(),'b:',b.numpy())\n",
    "\n",
    "print('***** Learning Finished')"
   ]
  },
  {
   "cell_type": "code",
   "execution_count": 8,
   "metadata": {},
   "outputs": [
    {
     "name": "stdout",
     "output_type": "stream",
     "text": [
      "Weight : [[6.1516347]\n",
      " [3.0542414]]\n",
      "Bias: [-27.77797]\n"
     ]
    }
   ],
   "source": [
    "# 회귀 계수 : weight과 bias출력\n",
    "print('Weight :',W.numpy())\n",
    "print('Bias:',b.numpy())"
   ]
  },
  {
   "cell_type": "code",
   "execution_count": 9,
   "metadata": {},
   "outputs": [
    {
     "name": "stdout",
     "output_type": "stream",
     "text": [
      "Accuracy: 1.0\n",
      "Hypothesis:\n",
      " [[1.8225627e-07]\n",
      " [1.8111591e-03]\n",
      " [1.8908737e-03]\n",
      " [9.9750584e-01]\n",
      " [9.9999464e-01]\n",
      " [9.9999976e-01]]\n",
      "Predict:\n",
      " [[0.]\n",
      " [0.]\n",
      " [0.]\n",
      " [1.]\n",
      " [1.]\n",
      " [1.]]\n"
     ]
    }
   ],
   "source": [
    "# 정확도 측정 : accuracy computation\n",
    "# np.round(hypothesis(x_train).numpy())\n",
    "def predict(X):\n",
    "    return tf.cast(hypothesis(X)>0.5,dtype=tf.float32 ) # 타입 변환함수 사용\n",
    "\n",
    "# 학습데이터를 그대로 검증데이터로 사용하여 예측한 경우\n",
    "x_test = x_train\n",
    "y_test = y_train\n",
    "\n",
    "preds = predict(x_test)  \n",
    "accuarcy = tf.reduce_mean(tf.cast(tf.equal(preds,y_test),dtype=tf.float32))\n",
    "\n",
    "print('Accuracy:',accuarcy.numpy())\n",
    "print('Hypothesis:\\n',hypothesis(x_test).numpy())\n",
    "print('Predict:\\n',preds.numpy())"
   ]
  },
  {
   "cell_type": "code",
   "execution_count": 10,
   "metadata": {},
   "outputs": [
    {
     "name": "stdout",
     "output_type": "stream",
     "text": [
      "***** Predict\n",
      "[[0.]\n",
      " [0.]\n",
      " [0.]\n",
      " [1.]\n",
      " [1.]\n",
      " [1.]]\n"
     ]
    }
   ],
   "source": [
    "# 예측\n",
    "print('***** Predict')\n",
    "# x_data = [[1,2],\n",
    "#           [2,3],\n",
    "#           [3,1],\n",
    "#           [4,3],\n",
    "#           [5,3],\n",
    "#           [6,2]]\n",
    "x_data = [[1,1],\n",
    "          [2,5],\n",
    "          [3,2],\n",
    "          [4,4],\n",
    "          [5,2],\n",
    "          [6,6]]\n",
    "x_test = np.array(x_data,dtype=np.float32)\n",
    "preds = predict(x_test)\n",
    "print(preds.numpy())"
   ]
  },
  {
   "cell_type": "code",
   "execution_count": null,
   "metadata": {},
   "outputs": [],
   "source": []
  }
 ],
 "metadata": {
  "kernelspec": {
   "display_name": "Python 3",
   "language": "python",
   "name": "python3"
  },
  "language_info": {
   "codemirror_mode": {
    "name": "ipython",
    "version": 3
   },
   "file_extension": ".py",
   "mimetype": "text/x-python",
   "name": "python",
   "nbconvert_exporter": "python",
   "pygments_lexer": "ipython3",
   "version": "3.7.6"
  }
 },
 "nbformat": 4,
 "nbformat_minor": 4
}
