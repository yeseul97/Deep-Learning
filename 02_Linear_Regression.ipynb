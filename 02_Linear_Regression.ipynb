{
 "cells": [
  {
   "cell_type": "markdown",
   "metadata": {},
   "source": [
    "### Linear Regression(선형회귀)"
   ]
  },
  {
   "cell_type": "code",
   "execution_count": 1,
   "metadata": {},
   "outputs": [],
   "source": [
    "import tensorflow as tf\n",
    "import numpy as np\n",
    "tf.random.set_seed(5)\n",
    "\n",
    "# 학습 데이터 : X와 Y 데이터\n",
    "x_train = [1.0,2.0,3.0,4.0,5.0]\n",
    "y_train = [1.1,2.2,3.3,4.4,5.5]\n",
    "\n",
    "# x_train = [0.3, -0.78, 1.26, 0.03, 1.11, 0.24, -0.24, -0.47, -0.77, -0.37, -0.85, -0.41, -0.27, 0.02, -0.76, 2.66]\n",
    "# y_train = [12.27, 14.44, 11.87, 18.75, 17.52, 16.37, 19.78, 19.51, 12.65, 14.74, 10.72, 21.94, 12.83, 15.51, 17.14, 14.42]"
   ]
  },
  {
   "cell_type": "code",
   "execution_count": 2,
   "metadata": {},
   "outputs": [],
   "source": [
    "# 변수 초기화 : weight, bias\n",
    "# tf.random.normal([1]) : 난수를 1개 생성\n",
    "W = tf.Variable(tf.random.normal([1]), name ='weight')\n",
    "b = tf.Variable(tf.random.normal([1]), name = 'bias')"
   ]
  },
  {
   "cell_type": "code",
   "execution_count": 3,
   "metadata": {},
   "outputs": [],
   "source": [
    "# hypothesis 예측 함수 : H(x) = W*X + b\n",
    "def hypothesis(X):\n",
    "    return   X*W + b"
   ]
  },
  {
   "cell_type": "code",
   "execution_count": null,
   "metadata": {},
   "outputs": [],
   "source": [
    "# 비용 함수 : (Hx - y)^2 의 평균\n",
    "# tf.square() : 제곱\n",
    "# tf.reduce_mean() : 합의 평균\n",
    "def cost_func():\n",
    "    cost = tf.reduce_mean(tf.square(hypothesis(x_train) - y_train))\n",
    "    return cost"
   ]
  },
  {
   "cell_type": "code",
   "execution_count": 5,
   "metadata": {},
   "outputs": [],
   "source": [
    "# 경사 하강법\n",
    "# learning_rate(학습율) 을 0.01로 설정하여 optimizer 객체를 생성\n",
    "# optimizer = tf.compat.v1.train.GradientDescentOptimizer(learning_rate=0.01)  # v1버젼\n",
    "# optimizer = tf.compat.v1.train.AdamOptimizer(learning_rate=0.01)             # v1버젼\n",
    "optimizer = tf.keras.optimizers.Adam(lr=0.01)"
   ]
  },
  {
   "cell_type": "code",
   "execution_count": 6,
   "metadata": {},
   "outputs": [
    {
     "name": "stdout",
     "output_type": "stream",
     "text": [
      "***** Start Learning!!\n",
      "0000 cost: [ 16.003632 ] W: [-0.17030665] b: [0.23652862]\n",
      "0100 cost: [ 0.8404964 ] W: [0.58833593] b: [0.9720568]\n",
      "0200 cost: [ 0.2133322 ] W: [0.7838434] b: [1.064324]\n",
      "0300 cost: [ 0.16978762 ] W: [0.8245045] b: [0.96062094]\n",
      "0400 cost: [ 0.12961996 ] W: [0.8593207] b: [0.83937037]\n",
      "0500 cost: [ 0.094649084 ] W: [0.8943468] b: [0.71727204]\n",
      "0600 cost: [ 0.06620977 ] W: [0.92800385] b: [0.5999198]\n",
      "0700 cost: [ 0.04439754 ] W: [0.95916116] b: [0.49126557]\n",
      "0800 cost: [ 0.028538307 ] W: [0.9870863] b: [0.39387092]\n",
      "0900 cost: [ 0.017576598 ] W: [1.0113881] b: [0.30910763]\n",
      "1000 cost: [ 0.010364352 ] W: [1.0319557] b: [0.23736389]\n",
      "1100 cost: [ 0.0058450913 ] W: [1.048901] b: [0.17825434]\n",
      "1200 cost: [ 0.0031486396 ] W: [1.0624961] b: [0.13082987]\n",
      "1300 cost: [ 0.0016176623 ] W: [1.0731183] b: [0.09377544]\n",
      "1400 cost: [ 0.00079130696 ] W: [1.0811988] b: [0.06558705]\n",
      "1500 cost: [ 0.00036785388 ] W: [1.0871811] b: [0.04471817]\n",
      "1600 cost: [ 0.00016216631 ] W: [1.0914888] b: [0.02969128]\n",
      "1700 cost: [ 6.764107e-05 ] W: [1.094503] b: [0.01917578]\n",
      "1800 cost: [ 2.66292e-05 ] W: [1.096551] b: [0.01203181]\n",
      "1900 cost: [ 9.868346e-06 ] W: [1.0979004] b: [0.00732429]\n",
      "2000 cost: [ 3.4315083e-06 ] W: [1.0987619] b: [0.00431915]\n",
      "2100 cost: [ 1.1166643e-06 ] W: [1.0992937] b: [0.00246387]\n",
      "2200 cost: [ 3.3895077e-07 ] W: [1.0996109] b: [0.00135724]\n",
      "2300 cost: [ 9.551993e-08 ] W: [1.0997934] b: [0.00072058]\n",
      "2400 cost: [ 2.4910756e-08 ] W: [1.0998944] b: [0.00036806]\n",
      "2500 cost: [ 6.0260503e-09 ] W: [1.0999478] b: [0.00018099]\n",
      "2600 cost: [ 1.372132e-09 ] W: [1.0999752] b: [8.60115e-05]\n",
      "2700 cost: [ 2.924395e-10 ] W: [1.0999888] b: [4.0126695e-05]\n",
      "2800 cost: [ 5.256027e-11 ] W: [1.099995] b: [1.7030508e-05]\n",
      "2900 cost: [ 1.5998581e-11 ] W: [1.0999972] b: [8.932445e-06]\n",
      "3000 cost: [ 8.253664e-12 ] W: [1.099998] b: [6.2817453e-06]\n",
      "***** Learning Finished\n"
     ]
    }
   ],
   "source": [
    "# 학습 시작\n",
    "print('***** Start Learning!!')\n",
    "for step in range(3001):\n",
    "    # cost를 minimize한다\n",
    "    optimizer.minimize(cost_func,var_list=[W,b])\n",
    "    \n",
    "    if step % 100 == 0: # 십진수,네자리,남은거 0 / tensor값을 numpy로 값으로 변경\n",
    "        print('%04d'%step,'cost: [',cost_func().numpy(),']',\n",
    "             'W:',W.numpy(),'b:',b.numpy())\n",
    "\n",
    "print('***** Learning Finished')"
   ]
  },
  {
   "cell_type": "code",
   "execution_count": 7,
   "metadata": {},
   "outputs": [
    {
     "name": "stdout",
     "output_type": "stream",
     "text": [
      "Weight: [1.099998]\n",
      "Bias: [6.2817453e-06]\n"
     ]
    }
   ],
   "source": [
    "# 회귀 계수 : weight과 bias 출력\n",
    "print('Weight:',W.numpy())\n",
    "print('Bias:',b.numpy())"
   ]
  },
  {
   "cell_type": "code",
   "execution_count": 8,
   "metadata": {},
   "outputs": [
    {
     "name": "stdout",
     "output_type": "stream",
     "text": [
      "****** Predict\n",
      "x=6.0, H(x)= [6.599994]\n",
      "x=9.5, H(x)= [10.449987]\n",
      "x=12.3, H(x)= [13.529983]\n"
     ]
    }
   ],
   "source": [
    "# 예측\n",
    "print('****** Predict')\n",
    "print('x=6.0, H(x)=',hypothesis(6.0).numpy())\n",
    "print('x=9.5, H(x)=',hypothesis(9.5).numpy())\n",
    "print('x=12.3, H(x)=',hypothesis(12.3).numpy())"
   ]
  },
  {
   "cell_type": "code",
   "execution_count": null,
   "metadata": {},
   "outputs": [],
   "source": []
  }
 ],
 "metadata": {
  "kernelspec": {
   "display_name": "Python 3",
   "language": "python",
   "name": "python3"
  },
  "language_info": {
   "codemirror_mode": {
    "name": "ipython",
    "version": 3
   },
   "file_extension": ".py",
   "mimetype": "text/x-python",
   "name": "python",
   "nbconvert_exporter": "python",
   "pygments_lexer": "ipython3",
   "version": "3.7.6"
  }
 },
 "nbformat": 4,
 "nbformat_minor": 4
}
