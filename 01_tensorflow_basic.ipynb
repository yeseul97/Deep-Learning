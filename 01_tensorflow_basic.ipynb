{
 "cells": [
  {
   "cell_type": "code",
   "execution_count": 1,
   "metadata": {},
   "outputs": [
    {
     "data": {
      "text/plain": [
       "'2.0.0'"
      ]
     },
     "execution_count": 1,
     "metadata": {},
     "output_type": "execute_result"
    }
   ],
   "source": [
    "import tensorflow as tf\n",
    "tf.__version__\n",
    "\n",
    "# https://www.tensorflow.org/tutorials/customization/basics?hl=ko"
   ]
  },
  {
   "cell_type": "code",
   "execution_count": 2,
   "metadata": {},
   "outputs": [
    {
     "name": "stdout",
     "output_type": "stream",
     "text": [
      "tf.Tensor(b'Hello Tensorflow!!', shape=(), dtype=string)\n",
      "tf.Tensor(\n",
      "[[1. 3.]\n",
      " [3. 7.]], shape=(2, 2), dtype=float32)\n"
     ]
    },
    {
     "data": {
      "text/plain": [
       "tensorflow.python.framework.ops.EagerTensor"
      ]
     },
     "execution_count": 2,
     "metadata": {},
     "output_type": "execute_result"
    }
   ],
   "source": [
    "import tensorflow as tf\n",
    "import numpy as np\n",
    "\n",
    "# 상수  : tf.constant()\n",
    "s = tf.constant('Hello Tensorflow!!')\n",
    "print(s)\n",
    "\n",
    "a = tf.constant([[1.0,2.0],\n",
    "                 [3.0,4.0]])\n",
    "b = tf.constant([[1.0,1.0],\n",
    "                 [0.0,1.0]])\n",
    "c = tf.matmul(a,b)   # 내적 곱셈\n",
    "print(c)\n",
    "type(c)"
   ]
  },
  {
   "cell_type": "code",
   "execution_count": 3,
   "metadata": {},
   "outputs": [
    {
     "name": "stdout",
     "output_type": "stream",
     "text": [
      "tf.Tensor(300, shape=(), dtype=int32)\n"
     ]
    }
   ],
   "source": [
    "# 변수 : tf.Variable()\n",
    "# 초기값이 설정, 주로 텐서플로 내부에서 학습 연산시 변경되는 값을 저장, weight과 bias\n",
    "a = tf.Variable(100)\n",
    "b = tf.Variable(200)\n",
    "c = tf.add(a,b)\n",
    "print(c)"
   ]
  },
  {
   "cell_type": "markdown",
   "metadata": {},
   "source": [
    "### tf.Tensor: 텐서 객체\n",
    "#### 텐서는 다차원 배열로 넘파이(NumPy) ndarray 객체와 비슷하며,\n",
    "#### tf.Tensor 객체는 데이터 타입과 크기를 가지고 있다.\n",
    "#### 또한 tf.Tensor는 GPU 같은 가속기 메모리에 상주할 수 있다.\n",
    "#### 텐서플로는 텐서를 생성하고 이용하는 풍부한 연산 라이브러리(tf.add, tf.matmul, tf.linalg.inv 등.)를 제공하며\n",
    "#### 연산수행 시 자동으로 텐서를 파이썬 네이티브(native) 타입으로 변환하여 연산한다"
   ]
  },
  {
   "cell_type": "code",
   "execution_count": 4,
   "metadata": {},
   "outputs": [
    {
     "name": "stdout",
     "output_type": "stream",
     "text": [
      "tf.Tensor(3.0, shape=(), dtype=float32)\n",
      "tf.Tensor([4 6], shape=(2,), dtype=int32)\n",
      "tf.Tensor(25, shape=(), dtype=int32)\n",
      "tf.Tensor(15, shape=(), dtype=int32)\n"
     ]
    }
   ],
   "source": [
    "# 연산자\n",
    "print(tf.add(1.,2.))  \n",
    "print(tf.add([1,2],[3,4]))\n",
    "print(tf.square(5))  # 제곱\n",
    "print(tf.reduce_sum([1,2,3,4,5])) # 합?\n"
   ]
  },
  {
   "cell_type": "code",
   "execution_count": 5,
   "metadata": {},
   "outputs": [
    {
     "name": "stdout",
     "output_type": "stream",
     "text": [
      "tf.Tensor(\n",
      "[[1. 2.]\n",
      " [3. 4.]], shape=(2, 2), dtype=float32)\n",
      "<class 'tensorflow.python.framework.ops.EagerTensor'>\n",
      "(2, 2)\n",
      "<dtype: 'float32'>\n",
      "[[1. 2.]\n",
      " [3. 4.]] <class 'numpy.ndarray'>\n",
      "10 <class 'int'>\n"
     ]
    }
   ],
   "source": [
    "# 속성과 타입 변환\n",
    "a = tf.constant([[1.0, 2.0],\n",
    "                 [3.0, 4.0]])\n",
    "print(a)\n",
    "print(type(a))\n",
    "print(a.shape)\n",
    "print(a.dtype)  # EagerTensor- 즉시 쓸 수 있는 것\n",
    "\n",
    "# Tensor객체를 numpy ndarray로 변환\n",
    "n = a.numpy()\n",
    "print(n,type(n)) # <class 'numpy.ndarray'>\n",
    "\n",
    "# 파이썬 native 타입으로 변환\n",
    "a = tf.constant(10)\n",
    "b = int(a)\n",
    "print(b,type(b))  # 10 <class 'int'>"
   ]
  },
  {
   "cell_type": "code",
   "execution_count": 6,
   "metadata": {},
   "outputs": [
    {
     "name": "stdout",
     "output_type": "stream",
     "text": [
      "Represents one of the outputs of an `Operation`.\n",
      "\n",
      "  A `Tensor` is a symbolic handle to one of the outputs of an\n",
      "  `Operation`. It does not hold the values of that operation's output,\n",
      "  but instead provides a means of computing those values in a\n",
      "  TensorFlow `tf.compat.v1.Session`.\n",
      "\n",
      "  This class has two primary purposes:\n",
      "\n",
      "  1. A `Tensor` can be passed as an input to another `Operation`.\n",
      "     This builds a dataflow connection between operations, which\n",
      "     enables TensorFlow to execute an entire `Graph` that represents a\n",
      "     large, multi-step computation.\n",
      "\n",
      "  2. After the graph has been launched in a session, the value of the\n",
      "     `Tensor` can be computed by passing it to\n",
      "     `tf.Session.run`.\n",
      "     `t.eval()` is a shortcut for calling\n",
      "     `tf.compat.v1.get_default_session().run(t)`.\n",
      "\n",
      "  In the following example, `c`, `d`, and `e` are symbolic `Tensor`\n",
      "  objects, whereas `result` is a numpy array that stores a concrete\n",
      "  value:\n",
      "\n",
      "  ```python\n",
      "  # Build a dataflow graph.\n",
      "  c = tf.constant([[1.0, 2.0], [3.0, 4.0]])\n",
      "  d = tf.constant([[1.0, 1.0], [0.0, 1.0]])\n",
      "  e = tf.matmul(c, d)\n",
      "\n",
      "  # Construct a `Session` to execute the graph.\n",
      "  sess = tf.compat.v1.Session()\n",
      "\n",
      "  # Execute the graph and store the value that `e` represents in `result`.\n",
      "  result = sess.run(e)\n",
      "  ```\n",
      "  \n"
     ]
    }
   ],
   "source": [
    "# 1.x 구버전용 문서임\n",
    "from tensorflow.python.framework.ops import Tensor, EagerTensor\n",
    "print(Tensor.__doc__) # OK"
   ]
  },
  {
   "cell_type": "code",
   "execution_count": null,
   "metadata": {},
   "outputs": [],
   "source": []
  }
 ],
 "metadata": {
  "kernelspec": {
   "display_name": "Python 3",
   "language": "python",
   "name": "python3"
  },
  "language_info": {
   "codemirror_mode": {
    "name": "ipython",
    "version": 3
   },
   "file_extension": ".py",
   "mimetype": "text/x-python",
   "name": "python",
   "nbconvert_exporter": "python",
   "pygments_lexer": "ipython3",
   "version": "3.7.6"
  }
 },
 "nbformat": 4,
 "nbformat_minor": 4
}
