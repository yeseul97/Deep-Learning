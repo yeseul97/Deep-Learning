{
 "cells": [
  {
   "cell_type": "code",
   "execution_count": 6,
   "metadata": {},
   "outputs": [
    {
     "data": {
      "text/plain": [
       "array([[  4.,   4.,   7.,   7.,   8.,   9.,  10.,  10.,  10.,  11.,  11.,\n",
       "         12.,  12.,  12.,  12.,  13.,  13.,  13.,  13.,  14.,  14.,  14.,\n",
       "         14.,  15.,  15.,  15.,  16.,  16.,  17.,  17.,  17.,  18.,  18.,\n",
       "         18.,  18.,  19.,  19.,  19.,  20.,  20.,  20.,  20.,  20.,  22.,\n",
       "         23.,  24.,  24.,  24.,  24.,  25.],\n",
       "       [  2.,  10.,   4.,  22.,  16.,  10.,  18.,  26.,  34.,  17.,  28.,\n",
       "         14.,  20.,  24.,  28.,  26.,  34.,  34.,  46.,  26.,  36.,  60.,\n",
       "         80.,  20.,  26.,  54.,  32.,  40.,  32.,  40.,  50.,  42.,  56.,\n",
       "         76.,  84.,  36.,  46.,  68.,  32.,  48.,  52.,  56.,  64.,  66.,\n",
       "         54.,  70.,  92.,  93., 120.,  85.]])"
      ]
     },
     "execution_count": 6,
     "metadata": {},
     "output_type": "execute_result"
    }
   ],
   "source": [
    "# 03_cars_linear_regression (속도와 제동거리)(x가 1개인 단항회귀)\n",
    "# X : 'speed'(속도), Y:'dist'(제동거리)\n",
    "\n",
    "import tensorflow as tf\n",
    "import numpy as np\n",
    "import matplotlib.pyplot as plt\n",
    "\n",
    "tf.random.set_seed(5)\n",
    "\n",
    "# 데이터 읽어오기\n",
    "xy = np.loadtxt('data-01-cars.csv',unpack=True,delimiter=',', skiprows=1) \n",
    "# x,y 따로 unpack\n",
    "# 1번째 줄 skip\n",
    "x_train = xy[0]   # X 값\n",
    "y_train = xy[1]   # Y 값\n",
    "xy"
   ]
  },
  {
   "cell_type": "code",
   "execution_count": 7,
   "metadata": {},
   "outputs": [],
   "source": [
    "# 변수 초기화 : weight, bias\n",
    "# tf.random.normal([1]) : 난수를 1개 생성\n",
    "W = tf.Variable(tf.random.normal([1]), name ='weight')\n",
    "b = tf.Variable(tf.random.normal([1]), name = 'bias')"
   ]
  },
  {
   "cell_type": "code",
   "execution_count": 8,
   "metadata": {},
   "outputs": [],
   "source": [
    "# hypothesis 예측 함수 : H(x) = W*X + b\n",
    "def hypothesis(X):\n",
    "    return   X*W + b"
   ]
  },
  {
   "cell_type": "code",
   "execution_count": 9,
   "metadata": {},
   "outputs": [],
   "source": [
    "# 비용 함수 : (Hx - y)^2 의 평균\n",
    "# tf.square() : 제곱\n",
    "# tf.reduce_mean() : 합의 평균\n",
    "def cost_func():\n",
    "    cost = tf.reduce_mean(tf.square(hypothesis(x_train) - y_train))\n",
    "    return cost"
   ]
  },
  {
   "cell_type": "code",
   "execution_count": 10,
   "metadata": {},
   "outputs": [],
   "source": [
    "# 경사 하강법\n",
    "# learning_rate(학습율) 을 0.01로 설정하여 optimizer 객체를 생성\n",
    "# optimizer = tf.compat.v1.train.GradientDescentOptimizer(learning_rate=0.01)  # v1버젼\n",
    "# optimizer = tf.compat.v1.train.AdamOptimizer(learning_rate=0.01)             # v1버젼\n",
    "optimizer = tf.keras.optimizers.Adam(lr=0.01)"
   ]
  },
  {
   "cell_type": "code",
   "execution_count": 13,
   "metadata": {},
   "outputs": [
    {
     "name": "stdout",
     "output_type": "stream",
     "text": [
      "***** Start Learning!!\n",
      "0000 cost: [ 227.18762 ] W: [3.8701832] b: [-16.515429]\n",
      "0100 cost: [ 227.15753 ] W: [3.8787742] b: [-16.66227]\n",
      "0200 cost: [ 227.13412 ] W: [3.8865285] b: [-16.79482]\n",
      "0300 cost: [ 227.11629 ] W: [3.8934755] b: [-16.913574]\n",
      "0400 cost: [ 227.10287 ] W: [3.8996491] b: [-17.019102]\n",
      "0500 cost: [ 227.09299 ] W: [3.9050891] b: [-17.112093]\n",
      "0600 cost: [ 227.08586 ] W: [3.9098394] b: [-17.193293]\n",
      "0700 cost: [ 227.08075 ] W: [3.9139483] b: [-17.263529]\n",
      "0800 cost: [ 227.07716 ] W: [3.9174662] b: [-17.323666]\n",
      "0900 cost: [ 227.07477 ] W: [3.920447] b: [-17.374619]\n",
      "1000 cost: [ 227.07312 ] W: [3.922944] b: [-17.417307]\n",
      "1100 cost: [ 227.07207 ] W: [3.9250116] b: [-17.452644]\n",
      "1200 cost: [ 227.07138 ] W: [3.9267015] b: [-17.481533]\n",
      "1300 cost: [ 227.07095 ] W: [3.9280648] b: [-17.504843]\n",
      "1400 cost: [ 227.07074 ] W: [3.9291503] b: [-17.523394]\n",
      "1500 cost: [ 227.07059 ] W: [3.9300013] b: [-17.537941]\n",
      "1600 cost: [ 227.07051 ] W: [3.9306583] b: [-17.549177]\n",
      "1700 cost: [ 227.0705 ] W: [3.9311574] b: [-17.557705]\n",
      "1800 cost: [ 227.07045 ] W: [3.9315295] b: [-17.564072]\n",
      "1900 cost: [ 227.07039 ] W: [3.9318032] b: [-17.568739]\n",
      "2000 cost: [ 227.0704 ] W: [3.9319992] b: [-17.572096]\n",
      "2100 cost: [ 227.07043 ] W: [3.932138] b: [-17.574461]\n",
      "2200 cost: [ 227.0704 ] W: [3.932233] b: [-17.57609]\n",
      "2300 cost: [ 227.07043 ] W: [3.9322977] b: [-17.577196]\n",
      "2400 cost: [ 227.07043 ] W: [3.9323394] b: [-17.577913]\n",
      "2500 cost: [ 227.07043 ] W: [3.9323666] b: [-17.578375]\n",
      "2600 cost: [ 227.07043 ] W: [3.9323835] b: [-17.578661]\n",
      "2700 cost: [ 227.0704 ] W: [3.9323943] b: [-17.578852]\n",
      "2800 cost: [ 227.07043 ] W: [3.9323997] b: [-17.57894]\n",
      "2900 cost: [ 227.0704 ] W: [3.9323997] b: [-17.578941]\n",
      "3000 cost: [ 227.0704 ] W: [3.9323997] b: [-17.578943]\n",
      "3100 cost: [ 227.07043 ] W: [3.9324002] b: [-17.57895]\n",
      "3200 cost: [ 227.07047 ] W: [3.9324012] b: [-17.578966]\n",
      "3300 cost: [ 227.07047 ] W: [3.9324012] b: [-17.578966]\n",
      "3400 cost: [ 227.0704 ] W: [3.9324028] b: [-17.578995]\n",
      "3500 cost: [ 227.07043 ] W: [3.932403] b: [-17.578997]\n",
      "3600 cost: [ 227.07043 ] W: [3.9324033] b: [-17.579002]\n",
      "3700 cost: [ 227.0704 ] W: [3.9324036] b: [-17.579004]\n",
      "3800 cost: [ 227.07043 ] W: [3.9324036] b: [-17.57901]\n",
      "3900 cost: [ 227.0704 ] W: [3.9324038] b: [-17.579012]\n",
      "4000 cost: [ 227.0704 ] W: [3.9324038] b: [-17.579012]\n",
      "4100 cost: [ 227.0704 ] W: [3.9324038] b: [-17.579012]\n",
      "4200 cost: [ 227.07043 ] W: [3.9324048] b: [-17.57903]\n",
      "4300 cost: [ 227.07043 ] W: [3.9324048] b: [-17.57903]\n",
      "4400 cost: [ 227.07043 ] W: [3.9324052] b: [-17.579033]\n",
      "4500 cost: [ 227.07039 ] W: [3.9324052] b: [-17.579035]\n",
      "4600 cost: [ 227.07039 ] W: [3.9324052] b: [-17.579035]\n",
      "4700 cost: [ 227.07043 ] W: [3.9324055] b: [-17.579039]\n",
      "4800 cost: [ 227.07043 ] W: [3.9324057] b: [-17.579044]\n",
      "4900 cost: [ 227.07045 ] W: [3.9324062] b: [-17.579048]\n",
      "5000 cost: [ 227.0704 ] W: [3.932406] b: [-17.57905]\n",
      "5100 cost: [ 227.07043 ] W: [3.9324062] b: [-17.57905]\n",
      "5200 cost: [ 227.0704 ] W: [3.932406] b: [-17.57905]\n",
      "5300 cost: [ 227.0704 ] W: [3.9324064] b: [-17.579058]\n",
      "5400 cost: [ 227.07043 ] W: [3.9324067] b: [-17.579058]\n",
      "5500 cost: [ 227.0704 ] W: [3.9324064] b: [-17.579058]\n",
      "5600 cost: [ 227.0704 ] W: [3.9324067] b: [-17.57906]\n",
      "5700 cost: [ 227.0704 ] W: [3.9324067] b: [-17.57906]\n",
      "5800 cost: [ 227.0704 ] W: [3.9324067] b: [-17.57906]\n",
      "5900 cost: [ 227.0704 ] W: [3.9324067] b: [-17.57906]\n",
      "6000 cost: [ 227.0704 ] W: [3.9324067] b: [-17.57906]\n",
      "6100 cost: [ 227.0704 ] W: [3.9324076] b: [-17.579077]\n",
      "6200 cost: [ 227.0704 ] W: [3.9324079] b: [-17.579077]\n",
      "6300 cost: [ 227.0704 ] W: [3.9324076] b: [-17.579077]\n",
      "6400 cost: [ 227.0704 ] W: [3.9324079] b: [-17.579079]\n",
      "6500 cost: [ 227.07043 ] W: [3.932408] b: [-17.579079]\n",
      "6600 cost: [ 227.0704 ] W: [3.9324076] b: [-17.579079]\n",
      "6700 cost: [ 227.0704 ] W: [3.9324076] b: [-17.579079]\n",
      "6800 cost: [ 227.0704 ] W: [3.9324079] b: [-17.57908]\n",
      "6900 cost: [ 227.0704 ] W: [3.9324076] b: [-17.57908]\n",
      "7000 cost: [ 227.0704 ] W: [3.9324079] b: [-17.57908]\n",
      "7100 cost: [ 227.07043 ] W: [3.932408] b: [-17.579082]\n",
      "7200 cost: [ 227.07043 ] W: [3.932408] b: [-17.579082]\n",
      "7300 cost: [ 227.07043 ] W: [3.932408] b: [-17.579082]\n",
      "7400 cost: [ 227.07043 ] W: [3.9324079] b: [-17.579082]\n",
      "7500 cost: [ 227.07043 ] W: [3.9324079] b: [-17.579082]\n",
      "7600 cost: [ 227.0704 ] W: [3.932408] b: [-17.579084]\n",
      "7700 cost: [ 227.0704 ] W: [3.9324083] b: [-17.579086]\n",
      "7800 cost: [ 227.0704 ] W: [3.932408] b: [-17.579086]\n",
      "7900 cost: [ 227.0704 ] W: [3.932408] b: [-17.579086]\n",
      "8000 cost: [ 227.07043 ] W: [3.932408] b: [-17.579088]\n",
      "8100 cost: [ 227.07043 ] W: [3.932408] b: [-17.579088]\n",
      "8200 cost: [ 227.07043 ] W: [3.932408] b: [-17.579088]\n",
      "8300 cost: [ 227.0704 ] W: [3.9324083] b: [-17.579088]\n",
      "8400 cost: [ 227.0704 ] W: [3.9324083] b: [-17.579088]\n",
      "8500 cost: [ 227.0704 ] W: [3.9324083] b: [-17.579088]\n",
      "8600 cost: [ 227.07039 ] W: [3.9324086] b: [-17.579094]\n",
      "8700 cost: [ 227.0704 ] W: [3.9324083] b: [-17.579094]\n",
      "8800 cost: [ 227.07045 ] W: [3.9324088] b: [-17.579096]\n",
      "8900 cost: [ 227.07039 ] W: [3.9324086] b: [-17.579096]\n",
      "9000 cost: [ 227.07043 ] W: [3.932409] b: [-17.579096]\n",
      "9100 cost: [ 227.07045 ] W: [3.9324088] b: [-17.579096]\n",
      "9200 cost: [ 227.07039 ] W: [3.9324086] b: [-17.579096]\n",
      "9300 cost: [ 227.07039 ] W: [3.9324086] b: [-17.579096]\n",
      "9400 cost: [ 227.07039 ] W: [3.9324086] b: [-17.579096]\n",
      "9500 cost: [ 227.07039 ] W: [3.9324086] b: [-17.579094]\n",
      "9600 cost: [ 227.07043 ] W: [3.9324079] b: [-17.579094]\n",
      "9700 cost: [ 227.07043 ] W: [3.9324076] b: [-17.579094]\n",
      "9800 cost: [ 227.07043 ] W: [3.9323523] b: [-17.579142]\n",
      "9900 cost: [ 227.07039 ] W: [3.9324076] b: [-17.579098]\n",
      "10000 cost: [ 227.0704 ] W: [3.9324093] b: [-17.579094]\n",
      "***** Learning Finished\n"
     ]
    }
   ],
   "source": [
    "# 학습 시작\n",
    "print('***** Start Learning!!')\n",
    "for step in range(10001):\n",
    "    # cost를 minimize한다\n",
    "    optimizer.minimize(cost_func,var_list=[W,b])\n",
    "    \n",
    "    if step % 100 == 0: # 십진수,네자리,남은거 0 / tensor값을 numpy로 값으로 변경\n",
    "        print('%04d'%step,'cost: [',cost_func().numpy(),']',\n",
    "             'W:',W.numpy(),'b:',b.numpy())\n",
    "\n",
    "print('***** Learning Finished')"
   ]
  },
  {
   "cell_type": "code",
   "execution_count": 14,
   "metadata": {},
   "outputs": [
    {
     "name": "stdout",
     "output_type": "stream",
     "text": [
      "Weight: [3.9324093]\n",
      "Bias: [-17.579094]\n"
     ]
    }
   ],
   "source": [
    "# 회귀 계수 : weight과 bias 출력\n",
    "print('Weight:',W.numpy())\n",
    "print('Bias:',b.numpy())"
   ]
  },
  {
   "cell_type": "code",
   "execution_count": 18,
   "metadata": {},
   "outputs": [
    {
     "name": "stdout",
     "output_type": "stream",
     "text": [
      "****** Predict\n",
      "speed=30, dist= [100.39318]\n",
      "speed=50, dist= [179.04138]\n",
      "speed=[10,11,12,24,25], dist= [21.744999 25.677406 29.609818 76.79873  80.73114 ]\n"
     ]
    }
   ],
   "source": [
    "# 예측\n",
    "print('****** Predict')\n",
    "# 속도가 30과 50일 때 제동거리를 예측해 보세요\n",
    "print('speed=30, dist=',hypothesis(30).numpy())\n",
    "print('speed=50, dist=',hypothesis(50).numpy())\n",
    "\n",
    "# X = [10,11,12,24,25] 일때\n",
    "print('speed=[10,11,12,24,25], dist=',hypothesis([10,11,12,24,25]).numpy())"
   ]
  },
  {
   "cell_type": "code",
   "execution_count": 24,
   "metadata": {},
   "outputs": [
    {
     "data": {
      "text/plain": [
       "[<matplotlib.lines.Line2D at 0x1f8ac92cf48>]"
      ]
     },
     "execution_count": 24,
     "metadata": {},
     "output_type": "execute_result"
    },
    {
     "data": {
      "image/png": "[encoded data removed]",
      "text/plain": [
       "<Figure size 432x288 with 1 Axes>"
      ]
     },
     "metadata": {
      "needs_background": "light"
     },
     "output_type": "display_data"
    }
   ],
   "source": [
    "# 시각화 : matplotlib 사용\n",
    "def prediction(X,W,b):\n",
    "    return X*W + b\n",
    "\n",
    "plt.plot(x_train,y_train,'ro') # r:red, o:scatter\n",
    "plt.plot((0,25),(0,prediction(25,W,b)),'g') # Green / (x,y)\n",
    "plt.plot((0,25),(prediction(0,W,b),prediction(25,W,b)),'b') #Blue, 예측함수의 직선\n",
    "# 실제로는 말이 안됨. 예측함수는 선형이라서 speed가 0일때 음수가 나와버림 "
   ]
  },
  {
   "cell_type": "code",
   "execution_count": null,
   "metadata": {},
   "outputs": [],
   "source": []
  }
 ],
 "metadata": {
  "kernelspec": {
   "display_name": "Python 3",
   "language": "python",
   "name": "python3"
  },
  "language_info": {
   "codemirror_mode": {
    "name": "ipython",
    "version": 3
   },
   "file_extension": ".py",
   "mimetype": "text/x-python",
   "name": "python",
   "nbconvert_exporter": "python",
   "pygments_lexer": "ipython3",
   "version": "3.7.6"
  }
 },
 "nbformat": 4,
 "nbformat_minor": 4
}
