{
 "cells": [
  {
   "cell_type": "code",
   "execution_count": 38,
   "metadata": {},
   "outputs": [],
   "source": [
    "# cnn_basic\n",
    "# conv2d layer\n",
    "# max pooling layer\n",
    "# toy image 사용\n",
    "\n",
    "import tensorflow as tf\n",
    "import numpy as np\n",
    "import matplotlib.pyplot as plt"
   ]
  },
  {
   "cell_type": "code",
   "execution_count": 39,
   "metadata": {},
   "outputs": [
    {
     "name": "stdout",
     "output_type": "stream",
     "text": [
      "[[[[1.]\n",
      "   [2.]\n",
      "   [3.]]\n",
      "\n",
      "  [[4.]\n",
      "   [5.]\n",
      "   [6.]]\n",
      "\n",
      "  [[7.]\n",
      "   [8.]\n",
      "   [9.]]]]\n",
      "(1, 3, 3, 1)\n",
      "[[1. 2. 3.]\n",
      " [4. 5. 6.]\n",
      " [7. 8. 9.]]\n"
     ]
    },
    {
     "data": {
      "image/png": "[encoded data removed]",
      "text/plain": [
       "<Figure size 432x288 with 1 Axes>"
      ]
     },
     "metadata": {
      "needs_background": "light"
     },
     "output_type": "display_data"
    }
   ],
   "source": [
    "image = np.array([[[[1],[2],[3]],\n",
    "                   [[4],[5],[6]],\n",
    "                   [[7],[8],[9]]]] , dtype=np.float32)\n",
    "print(image)\n",
    "print(image.shape)  # (1, 3, 3, 1),Rank=4,(4차원)\n",
    "plt.imshow(image.reshape(3,3),cmap='Greys')\n",
    "print(image.reshape(3,3))\n",
    "plt.show()"
   ]
  },
  {
   "cell_type": "code",
   "execution_count": 40,
   "metadata": {},
   "outputs": [
    {
     "name": "stdout",
     "output_type": "stream",
     "text": [
      "[[[[1.]]\n",
      "\n",
      "  [[1.]]]\n",
      "\n",
      "\n",
      " [[[1.]]\n",
      "\n",
      "  [[1.]]]]\n",
      "[[[[12.]\n",
      "   [16.]]\n",
      "\n",
      "  [[24.]\n",
      "   [28.]]]]\n",
      "(1, 2, 2, 1)\n"
     ]
    },
    {
     "data": {
      "image/png": "[encoded data removed]",
      "text/plain": [
       "<Figure size 432x288 with 1 Axes>"
      ]
     },
     "metadata": {
      "needs_background": "light"
     },
     "output_type": "display_data"
    }
   ],
   "source": [
    "# CNN(Convolutional Neural Network)\n",
    "# conv2d layer,filter : (2,2,1,1), stride : 1\n",
    "\n",
    "# 입력 이미지 : (1,3,3,1)\n",
    "# 1 : 이미지 갯수\n",
    "# 3 : 가로 크기\n",
    "# 3 : 세로 크기\n",
    "# 1 : color,Grey scale ==> 1, RGB ==> 3\n",
    "\n",
    "# filter : (2,2,1,1)\n",
    "# 2 : 가로 크기\n",
    "# 2 : 세로 크기\n",
    "# 1 : color, Grey scale ==> 1, RGB ==>3\n",
    "# 1 : filter의 갯수\n",
    "\n",
    "# (N-F)/strides +1\n",
    "# 출력 이미지 : (3-2)/1 + 1 =2, zero padding을 안 했을 때 (padding='VALID')\n",
    "\n",
    "# filter : (2,2,1,1)\n",
    "weight = tf.constant([[[[1.]],[[1.]]],   \n",
    "                      [[[1.]],[[1.]]]])\n",
    "print(weight.numpy())\n",
    "\n",
    "# conv2d layer\n",
    "conv2d = tf.nn.conv2d(image,weight,strides=[1,1,1,1],padding='VALID')\n",
    "conv2d_image = conv2d.numpy()\n",
    "print(conv2d_image)\n",
    "print(conv2d_image.shape)  # (1, 2, 2, 1)\n",
    "plt.imshow(conv2d_image.reshape(2,2),cmap='Greys')\n",
    "plt.show()"
   ]
  },
  {
   "cell_type": "code",
   "execution_count": 41,
   "metadata": {},
   "outputs": [
    {
     "name": "stdout",
     "output_type": "stream",
     "text": [
      "[[[[12.]\n",
      "   [16.]\n",
      "   [ 9.]]\n",
      "\n",
      "  [[24.]\n",
      "   [28.]\n",
      "   [15.]]\n",
      "\n",
      "  [[15.]\n",
      "   [17.]\n",
      "   [ 9.]]]]\n",
      "(1, 3, 3, 1)\n"
     ]
    },
    {
     "data": {
      "image/png": "[encoded data removed]",
      "text/plain": [
       "<Figure size 432x288 with 1 Axes>"
      ]
     },
     "metadata": {
      "needs_background": "light"
     },
     "output_type": "display_data"
    }
   ],
   "source": [
    "# 출력 이미지 : (3 +1 -2)/1 + 1 =3 ,zero padding을 했을 때 (padding='SAME')\n",
    "# filter : (2,2,1,1)\n",
    "weight = tf.constant([[[[1.]],[[1.]]],   \n",
    "                      [[[1.]],[[1.]]]])\n",
    "# conv2d layer\n",
    "conv2d = tf.nn.conv2d(image,weight,strides=[1,1,1,1],padding='SAME')\n",
    "conv2d_image = conv2d.numpy()\n",
    "print(conv2d_image)\n",
    "print(conv2d_image.shape)  # (1, 3, 3, 1)\n",
    "plt.imshow(conv2d_image.reshape(3,3),cmap='Greys')\n",
    "plt.show()"
   ]
  },
  {
   "cell_type": "code",
   "execution_count": 42,
   "metadata": {},
   "outputs": [],
   "source": [
    "# mnist의 경우\n",
    "# 첫번째 conv2d layer\n",
    "# 원본 이미지 (None,28,28,1)\n",
    "# filter (3,3,1,32) , strides (1,1,1,1)\n",
    "# (28+2 - 3)/1 + 1 = 28\n",
    "# 출력 : (None,28,28,32)\n",
    "\n",
    "# 첫번째 max_pool layer\n",
    "# kernel_size (1,3,3,1) , strides (1,2,2,1)\n",
    "# (28+1 - 3)/2 + 1 = 14\n",
    "# 출력 이미지 : (None,14,14,32)"
   ]
  },
  {
   "cell_type": "code",
   "execution_count": 43,
   "metadata": {},
   "outputs": [
    {
     "name": "stdout",
     "output_type": "stream",
     "text": [
      "[[[[ 1. 10. -1.]]\n",
      "\n",
      "  [[ 1. 10. -1.]]]\n",
      "\n",
      "\n",
      " [[[ 1. 10. -1.]]\n",
      "\n",
      "  [[ 1. 10. -1.]]]]\n",
      "(2, 2, 1, 3)\n",
      "[[[[ 12. 120. -12.]\n",
      "   [ 16. 160. -16.]\n",
      "   [  9.  90.  -9.]]\n",
      "\n",
      "  [[ 24. 240. -24.]\n",
      "   [ 28. 280. -28.]\n",
      "   [ 15. 150. -15.]]\n",
      "\n",
      "  [[ 15. 150. -15.]\n",
      "   [ 17. 170. -17.]\n",
      "   [  9.  90.  -9.]]]]\n",
      "(1, 3, 3, 3)\n",
      "[[[[ 12.]\n",
      "   [ 16.]\n",
      "   [  9.]]\n",
      "\n",
      "  [[ 24.]\n",
      "   [ 28.]\n",
      "   [ 15.]]\n",
      "\n",
      "  [[ 15.]\n",
      "   [ 17.]\n",
      "   [  9.]]]\n",
      "\n",
      "\n",
      " [[[120.]\n",
      "   [160.]\n",
      "   [ 90.]]\n",
      "\n",
      "  [[240.]\n",
      "   [280.]\n",
      "   [150.]]\n",
      "\n",
      "  [[150.]\n",
      "   [170.]\n",
      "   [ 90.]]]\n",
      "\n",
      "\n",
      " [[[-12.]\n",
      "   [-16.]\n",
      "   [ -9.]]\n",
      "\n",
      "  [[-24.]\n",
      "   [-28.]\n",
      "   [-15.]]\n",
      "\n",
      "  [[-15.]\n",
      "   [-17.]\n",
      "   [ -9.]]]]\n",
      "(3, 3, 3, 1)\n",
      "(3, 3, 1)\n",
      "(3, 3, 1)\n",
      "(3, 3, 1)\n"
     ]
    },
    {
     "data": {
      "image/png": "[encoded data removed]",
      "text/plain": [
       "<Figure size 432x288 with 3 Axes>"
      ]
     },
     "metadata": {
      "needs_background": "light"
     },
     "output_type": "display_data"
    }
   ],
   "source": [
    "# conv2d layer, 3 filters, zero padding(padding='SAME')\n",
    "# image : (1, 3, 3, 1) , filters (2,2,1,3), stride: (1,1)\n",
    "# filters 갯수가 3개라서 한 이미지당 3개의 결과가 나옴\n",
    "weight = tf.constant([[[[1.,10.,-1.]],[[1.,10.,-1.]]],      # filters\n",
    "                      [[[1.,10.,-1.]],[[1.,10.,-1.]]]])\n",
    "# (1,1,1,1),(10,10,10,10),(-1,-1,-1,-1) filter 총 3개\n",
    "print(weight.numpy())\n",
    "print(weight.shape) # (2, 2, 1, 3)\n",
    "\n",
    "# conv2d layer\n",
    "conv2d = tf.nn.conv2d(image,weight,strides=[1,1,1,1],padding='SAME')\n",
    "conv2d_image = conv2d.numpy()\n",
    "print(conv2d_image)\n",
    "print(conv2d_image.shape)  # (1, 3, 3, 3)\n",
    "\n",
    "# 시각화\n",
    "conv2d_image = np.swapaxes(conv2d_image,0,3) # 0번 축과 3번 축이 서로 맞바꾸어짐\n",
    "print(conv2d_image)\n",
    "print(conv2d_image.shape)  # (3, 3, 3, 1)\n",
    "\n",
    "for i, one_image in enumerate(conv2d_image):\n",
    "    print(one_image.shape)\n",
    "    plt.subplot(1,3,i+1)\n",
    "    plt.imshow(one_image.reshape(3,3),cmap='Greys')\n",
    "plt.show()"
   ]
  },
  {
   "cell_type": "code",
   "execution_count": 44,
   "metadata": {},
   "outputs": [
    {
     "name": "stdout",
     "output_type": "stream",
     "text": [
      "[[[[4.]\n",
      "   [3.]]\n",
      "\n",
      "  [[2.]\n",
      "   [1.]]]]\n",
      "(1, 2, 2, 1)\n"
     ]
    },
    {
     "data": {
      "image/png": "[encoded data removed]",
      "text/plain": [
       "<Figure size 432x288 with 1 Axes>"
      ]
     },
     "metadata": {
      "needs_background": "light"
     },
     "output_type": "display_data"
    }
   ],
   "source": [
    "# max pooling : (1,2,2,1) ---> (1,2,2,1), zero padding(padding='SAME')\n",
    "image  = np.array([[[[4.],[3.]],\n",
    "                    [[2.],[1.]]]],dtype=np.float32)\n",
    "print(image)\n",
    "print(image.shape) # (1, 2, 2, 1)\n",
    "plt.imshow(image.reshape(2,2),cmap='Greys')\n",
    "plt.show()"
   ]
  },
  {
   "cell_type": "code",
   "execution_count": 45,
   "metadata": {},
   "outputs": [
    {
     "name": "stdout",
     "output_type": "stream",
     "text": [
      "(1, 1, 1, 1)\n",
      "[[[[4.]]]]\n"
     ]
    }
   ],
   "source": [
    "# padding='VALID', zero padding을 하지 않음, (1,2,2,1) --> (1,1,1,1)\n",
    "# (N-F)/strides + 1\n",
    "# (2 - 2)/1 + 1 = 1\n",
    "# ksize : 2, 원본에서 추출할 이미지의 범위\n",
    "pool = tf.nn.max_pool(image,ksize=[1,2,2,1],strides=[1,1,1,1],padding='VALID')\n",
    "print(pool.shape)  # (1, 1, 1, 1)\n",
    "print(pool.numpy()) # [[[[4.]]]]"
   ]
  },
  {
   "cell_type": "code",
   "execution_count": 46,
   "metadata": {},
   "outputs": [
    {
     "name": "stdout",
     "output_type": "stream",
     "text": [
      "(1, 2, 2, 1)\n",
      "[[[[4.]\n",
      "   [3.]]\n",
      "\n",
      "  [[2.]\n",
      "   [1.]]]]\n"
     ]
    }
   ],
   "source": [
    "# padding='SAME', zero padding을 함 , (1,2,2,1) --> (1,2,2,1)\n",
    "# (N-F)/strides + 1, F는 kernal size(ksize)\n",
    "# (2+1 - 2)/1 + 1 = 1\n",
    "# ksize : 2, 원본에서 추출할 이미지의 범위\n",
    "pool = tf.nn.max_pool(image,ksize=[1,2,2,1],strides=[1,1,1,1],padding='SAME')\n",
    "print(pool.shape)  # (1, 2, 2, 1)\n",
    "print(pool.numpy()) "
   ]
  },
  {
   "cell_type": "code",
   "execution_count": 47,
   "metadata": {},
   "outputs": [
    {
     "name": "stdout",
     "output_type": "stream",
     "text": [
      "(60000, 28, 28)\n",
      "(28, 28)\n",
      "2\n"
     ]
    },
    {
     "data": {
      "image/png": "[encoded data removed]",
      "text/plain": [
       "<Figure size 432x288 with 1 Axes>"
      ]
     },
     "metadata": {
      "needs_background": "light"
     },
     "output_type": "display_data"
    }
   ],
   "source": [
    "# mnist 데이터 가져오기\n",
    "mnist = tf.keras.datasets.mnist\n",
    "(x_train,y_train), (x_test,y_test) = mnist.load_data()\n",
    "print(x_train.shape)  # (60000, 28, 28)\n",
    "\n",
    "image = x_train[5]\n",
    "print(image.shape)\n",
    "print(y_train[5])  # 숫자 2\n",
    "\n",
    "plt.imshow(image,cmap='Greys')\n",
    "plt.show()"
   ]
  },
  {
   "cell_type": "code",
   "execution_count": 48,
   "metadata": {},
   "outputs": [
    {
     "name": "stdout",
     "output_type": "stream",
     "text": [
      "(1, 28, 28, 1)\n",
      "(1, 14, 14, 5)\n",
      "(5, 14, 14, 1)\n"
     ]
    },
    {
     "data": {
      "image/png": "[encoded data removed]",
      "text/plain": [
       "<Figure size 1080x1080 with 5 Axes>"
      ]
     },
     "metadata": {
      "needs_background": "light"
     },
     "output_type": "display_data"
    }
   ],
   "source": [
    "# MNIST conv2d layer\n",
    "# image : (1,28,28,1)\n",
    "# filter : (3,3,1,5), 필터 5개\n",
    "# strides : (1,2,2,1),padding='SAME'\n",
    "# 출력 이미지:(28+1 -3)/2 +1 = 14\n",
    "\n",
    "img = image.reshape(-1,28,28,1)\n",
    "print(img.shape)\n",
    "\n",
    "W = tf.Variable(tf.random.normal([3,3,1,5]),name='weight') # filter\n",
    "conv2d = tf.nn.conv2d(img,W,strides=[1,2,2,1],padding='SAME')\n",
    "\n",
    "conv2d_image = conv2d.numpy()\n",
    "print(conv2d_image.shape)  # strides가 2라서 14가 됨\n",
    "\n",
    "# 시각화\n",
    "conv2d_image = np.swapaxes(conv2d_image,0,3) # 0번 축과 3번 축이 서로 맞바꾸어짐\n",
    "# print(conv2d_image)\n",
    "print(conv2d_image.shape)  # (5,14,14,1)\n",
    "\n",
    "plt.figure(figsize=(15,15))\n",
    "for i, one_image in enumerate(conv2d_image):\n",
    "    #print(one_image.shape)\n",
    "    plt.subplot(1,5,i+1)\n",
    "    plt.imshow(one_image.reshape(14,14),cmap='Greys')\n",
    "plt.show()\n"
   ]
  },
  {
   "cell_type": "code",
   "execution_count": 50,
   "metadata": {},
   "outputs": [
    {
     "name": "stdout",
     "output_type": "stream",
     "text": [
      "(1, 7, 7, 5)\n",
      "(5, 7, 7, 1)\n"
     ]
    },
    {
     "data": {
      "image/png": "[encoded data removed]",
      "text/plain": [
       "<Figure size 1080x1080 with 5 Axes>"
      ]
     },
     "metadata": {
      "needs_background": "light"
     },
     "output_type": "display_data"
    }
   ],
   "source": [
    "# MNIST max_pool layer\n",
    "# conv2d image : (1,14,14,5)\n",
    "# kernel size : (1,2,2,1), strides : (1,2,2,1), padding ='SAME'\n",
    "# 출력 이미지 : (14+1 - 2)/2 + 1 = 7\n",
    "\n",
    "pool = tf.nn.max_pool(conv2d,ksize=[1,2,2,1],strides=[1,2,2,1],padding='SAME')\n",
    "\n",
    "pool_img = pool.numpy()\n",
    "print(pool_img.shape)  # (1, 7, 7, 5)\n",
    "\n",
    "# 시각화\n",
    "pool_image = np.swapaxes(pool_img,0,3) # 0번 축과 3번 축이 서로 맞바꾸어짐\n",
    "# print(pool_image)\n",
    "print(pool_image.shape)  # (5,7,7,1)\n",
    "\n",
    "plt.figure(figsize=(15,15))\n",
    "for i, one_image in enumerate(pool_image):\n",
    "    # print(one_image.shape)\n",
    "    plt.subplot(1,5,i+1)\n",
    "    plt.imshow(one_image.reshape(7,7),cmap='Greys')\n",
    "plt.show()"
   ]
  },
  {
   "cell_type": "code",
   "execution_count": null,
   "metadata": {},
   "outputs": [],
   "source": []
  }
 ],
 "metadata": {
  "kernelspec": {
   "display_name": "Python 3",
   "language": "python",
   "name": "python3"
  },
  "language_info": {
   "codemirror_mode": {
    "name": "ipython",
    "version": 3
   },
   "file_extension": ".py",
   "mimetype": "text/x-python",
   "name": "python",
   "nbconvert_exporter": "python",
   "pygments_lexer": "ipython3",
   "version": "3.7.6"
  }
 },
 "nbformat": 4,
 "nbformat_minor": 4
}
