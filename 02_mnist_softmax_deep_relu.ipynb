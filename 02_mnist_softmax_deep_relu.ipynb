{
 "cells": [
  {
   "cell_type": "code",
   "execution_count": 1,
   "metadata": {},
   "outputs": [],
   "source": [
    "# mnist_softmax_deep_relu\n",
    "# 4 Layers DNN(Deep Neural Network)\n",
    "\n",
    "# MNIST(Modified National Institute of Standard Technology) Dataset\n",
    "# label : 0 ~ 9 , 손글씨체 이미지  28*28(784 byte) , gray scale\n",
    "# batch : 큰 데이터를 쪼개어 1회에 작은 단위로 가져다가 학습, next_batch()\n",
    "# epoch : batch를 반복하여 전체 데이터가 모두 소진되었을 때를 1 epoch\n",
    "# Vanishing Gradient  : 신경망이 깊어 질수록 입력신호가 사라진다(줄어든다), sigmoid 사용시\n",
    "# Relu  : Rectified Linear Unit, DNN(deep neural net) 구현시 sigmoid 대신 사용됨\n",
    "# dropout : 전체 신경망의 일부를 사용하지 않고 학습, 예측시는 전체를 사용\n",
    "\n",
    "import tensorflow as tf\n",
    "import numpy as np\n",
    "import matplotlib.pyplot as plt\n",
    "tf.random.set_seed(5)"
   ]
  },
  {
   "cell_type": "code",
   "execution_count": 2,
   "metadata": {},
   "outputs": [
    {
     "data": {
      "text/plain": [
       "(60000, 28, 28)"
      ]
     },
     "execution_count": 2,
     "metadata": {},
     "output_type": "execute_result"
    }
   ],
   "source": [
    "# mnist 데이터 가져오기\n",
    "mnist = tf.keras.datasets.mnist\n",
    "(x_train,y_train), (x_test,y_test) = mnist.load_data()\n",
    "x_train.shape"
   ]
  },
  {
   "cell_type": "code",
   "execution_count": 3,
   "metadata": {},
   "outputs": [
    {
     "name": "stdout",
     "output_type": "stream",
     "text": [
      "<class 'numpy.ndarray'> (60000, 28, 28)\n",
      "<class 'numpy.ndarray'> (10000, 28, 28)\n",
      "<class 'numpy.ndarray'> (60000,)\n",
      "<class 'numpy.ndarray'> (10000,)\n",
      "5\n"
     ]
    },
    {
     "data": {
      "image/png": "[encoded data removed]",
      "text/plain": [
       "<Figure size 432x288 with 1 Axes>"
      ]
     },
     "metadata": {
      "needs_background": "light"
     },
     "output_type": "display_data"
    }
   ],
   "source": [
    "# 이미지로 출력\n",
    "def show_one_image(n):\n",
    "    print(type(x_train),x_train.shape)  # (60000, 28, 28)\n",
    "    print(type(x_test),x_test.shape)    # (10000, 28, 28)\n",
    "    print(type(y_train),y_train.shape)  # (60000,)\n",
    "    print(type(y_test),y_test.shape)    # (10000,)\n",
    "    \n",
    "    image = x_train[n]\n",
    "    print(y_train[n])  # 5\n",
    "    \n",
    "    plt.imshow(image,cmap='Greys')\n",
    "    plt.show()\n",
    "    \n",
    "show_one_image(0)    # 0 ~ 59999 , 6만 개의 손글씨체 이미지(train)    "
   ]
  },
  {
   "cell_type": "code",
   "execution_count": 4,
   "metadata": {},
   "outputs": [
    {
     "name": "stdout",
     "output_type": "stream",
     "text": [
      "(60000, 10)\n",
      "(60000, 784) <dtype: 'float32'>\n",
      "(10000, 784) <dtype: 'float32'>\n"
     ]
    }
   ],
   "source": [
    "# one-hot 인코딩\n",
    "nb_classes = 10     # 분류 class의 갯수(0 ~ 9)\n",
    "Y_one_hot = tf.one_hot(y_train,nb_classes) # (60000, 10)\n",
    "print(Y_one_hot.shape)                     # (60000, 10) , 2차원\n",
    "\n",
    "# X값의 shape을 2차원으로 변환\n",
    "x_train = x_train.reshape(-1,28*28)\n",
    "x_test = x_test.reshape(-1,28*28)\n",
    "\n",
    "# X값의 타입을 float형으로 변환\n",
    "x_train = tf.cast(x_train,dtype=tf.float32)\n",
    "print(x_train.shape,x_train.dtype)  # 'float32'\n",
    "\n",
    "x_test = tf.cast(x_test,dtype=tf.float32)\n",
    "print(x_test.shape,x_test.dtype)  # 'float32'"
   ]
  },
  {
   "cell_type": "code",
   "execution_count": 5,
   "metadata": {},
   "outputs": [],
   "source": [
    "# Layer1  : Hidden Layer\n",
    "# (60000,784) * (784,512)  = (60000,512)\n",
    "W1 = tf.Variable(tf.random.normal([784,512]), name ='weight1')\n",
    "b1 = tf.Variable(tf.random.normal([512]), name = 'bias1')\n",
    "\n",
    "def layer1(X):\n",
    "    # return  tf.sigmoid(tf.matmul(X,W1) + b1 ) \n",
    "    return  tf.nn.relu(tf.matmul(X,W1) + b1 )"
   ]
  },
  {
   "cell_type": "code",
   "execution_count": 6,
   "metadata": {},
   "outputs": [],
   "source": [
    "# Layer 2 : Hidden Layer\n",
    "# (60000,512) * (512,512)  = (60000,512)\n",
    "W2 = tf.Variable(tf.random.normal([512,512]), name ='weight2')\n",
    "b2 = tf.Variable(tf.random.normal([512]), name = 'bias2')\n",
    "\n",
    "def layer2(X):\n",
    "    # return  tf.sigmoid(tf.matmul(layer1(X),W2) + b2 ) \n",
    "    return  tf.nn.relu(tf.matmul(layer1(X),W2) + b2 ) "
   ]
  },
  {
   "cell_type": "code",
   "execution_count": 7,
   "metadata": {},
   "outputs": [],
   "source": [
    "# Layer 3  : Hidden Layer\n",
    "# (60000,512) * (512,512)  = (60000,512)\n",
    "W3 = tf.Variable(tf.random.normal([512,512]), name ='weight3')\n",
    "b3 = tf.Variable(tf.random.normal([512]), name = 'bias3')\n",
    "\n",
    "def layer3(X):\n",
    "    # return  tf.sigmoid(tf.matmul(layer2(X),W3) + b3 ) \n",
    "    return  tf.nn.relu(tf.matmul(layer2(X),W3) + b3 ) "
   ]
  },
  {
   "cell_type": "code",
   "execution_count": 8,
   "metadata": {},
   "outputs": [],
   "source": [
    "# Layer 4 : 출력층 (Output Layer)\n",
    "# (60000,512) * (512,10)  = (60000,10)\n",
    "W4 = tf.Variable(tf.random.normal([512,nb_classes]), name ='weight4')\n",
    "b4 = tf.Variable(tf.random.normal([nb_classes]), name = 'bias4')"
   ]
  },
  {
   "cell_type": "code",
   "execution_count": 9,
   "metadata": {},
   "outputs": [],
   "source": [
    "# hypothesis 예측 함수 : H(X) = softmax(W*X + b)\n",
    "def logits(X):\n",
    "    return tf.matmul(layer3(X),W4) + b4\n",
    "\n",
    "def hypothesis(X):\n",
    "    return   tf.nn.softmax(logits(X))  "
   ]
  },
  {
   "cell_type": "code",
   "execution_count": 10,
   "metadata": {},
   "outputs": [
    {
     "name": "stdout",
     "output_type": "stream",
     "text": [
      "***** Start Learning!!\n",
      "Epoch: 0001 cost: 915109.208906250\n",
      "Epoch: 0002 cost: 83774.785136719\n",
      "Epoch: 0003 cost: 36611.188134766\n",
      "Epoch: 0004 cost: 17804.676831055\n",
      "Epoch: 0005 cost: 8753.345589294\n",
      "Epoch: 0006 cost: 4863.078596649\n",
      "Epoch: 0007 cost: 3709.808272400\n",
      "Epoch: 0008 cost: 2892.177670593\n",
      "Epoch: 0009 cost: 1632.920086460\n",
      "Epoch: 0010 cost: 1020.085963383\n",
      "Epoch: 0011 cost: 641.581244774\n",
      "Epoch: 0012 cost: 646.982123661\n",
      "Epoch: 0013 cost: 561.247258530\n",
      "Epoch: 0014 cost: 279.327331104\n",
      "Epoch: 0015 cost: 480.619861097\n",
      "***** Learning Finished\n"
     ]
    }
   ],
   "source": [
    "# 방법 2. batch 사이즈로 나누어 학습, 효율적 이며 학습 시간 단축\n",
    "# 학습 시작\n",
    "\n",
    "training_epochs = 15\n",
    "batch_size = 600\n",
    "\n",
    "# 경사 하강법\n",
    "# learning_rate(학습율) 을 0.01로 설정하여 optimizer 객체를 생성\n",
    "optimizer = tf.keras.optimizers.Adam(lr=0.01)\n",
    "\n",
    "Y_one_hot = tf.one_hot(y_train,nb_classes)  # (60000,10)\n",
    "\n",
    "print('***** Start Learning!!')\n",
    "for epoch in range(training_epochs):  # 15\n",
    "    \n",
    "    avg_cost = 0\n",
    "    \n",
    "    # 100 = 60000/600\n",
    "    total_batch = int(x_train.shape[0]/batch_size)\n",
    "    for k in range(total_batch):  # 100 \n",
    "        batch_xs = x_train[0+k*batch_size:batch_size + k*batch_size]\n",
    "        batch_ys = Y_one_hot[0+k*batch_size:batch_size + k*batch_size]\n",
    "        \n",
    "        # 비용함수\n",
    "        def cost_func_batch():\n",
    "            cost_i = tf.nn.softmax_cross_entropy_with_logits(logits=logits(batch_xs),\n",
    "                                                     labels=batch_ys) \n",
    "            cost = tf.reduce_mean(cost_i)\n",
    "            return cost    \n",
    "        \n",
    "        # cost를 minimize한다\n",
    "        optimizer.minimize(cost_func_batch,var_list=[W1,b1,W2,b2,W3,b3,W4,b4])\n",
    "        avg_cost += cost_func_batch().numpy()/total_batch\n",
    "    \n",
    "    print('Epoch:','%04d'%(epoch + 1),'cost:','{:.9f}'.format(avg_cost))\n",
    "          \n",
    "print('***** Learning Finished')"
   ]
  },
  {
   "cell_type": "code",
   "execution_count": 11,
   "metadata": {},
   "outputs": [],
   "source": [
    "# 회귀 계수 출력\n",
    "# print('Weight =', W.numpy())\n",
    "# print('Bias =', b.numpy())"
   ]
  },
  {
   "cell_type": "code",
   "execution_count": 12,
   "metadata": {},
   "outputs": [
    {
     "name": "stdout",
     "output_type": "stream",
     "text": [
      "***** Predict\n",
      "[7 2 1 ... 4 5 6] [7 2 1 ... 4 5 6]\n",
      "Accuracy: 0.9534\n"
     ]
    }
   ],
   "source": [
    "# 예측  , accuracy computation\n",
    "\n",
    "def predict(X):\n",
    "    return tf.argmax(hypothesis(X),1) \n",
    "\n",
    "Y_one_hot = tf.one_hot(y_test,nb_classes)  # (10000, 10)\n",
    "# print(Y_one_hot.shape)\n",
    "\n",
    "# print(x_test.dtype,x_test.shape)\n",
    "\n",
    "correct_predict = tf.equal(predict(x_test),tf.argmax(Y_one_hot,1))\n",
    "accuracy = tf.reduce_mean(tf.cast(correct_predict, dtype = tf.float32))\n",
    "\n",
    "print('***** Predict')\n",
    "\n",
    "pred = predict(x_test).numpy()\n",
    "print(pred,y_test)\n",
    "print(\"Accuracy:\",accuracy.numpy()) "
   ]
  },
  {
   "cell_type": "code",
   "execution_count": 13,
   "metadata": {},
   "outputs": [],
   "source": [
    "# 정확도 비교\n",
    "# 1 layers              -------> Accuracy  : 0.8871\n",
    "# 4 layers  sigmoid     -------> Accuracy  : 0.9033\n",
    "# 4 layers  relu        -------> Accuracy  : 0.9534   , 정확도 향상"
   ]
  },
  {
   "cell_type": "code",
   "execution_count": 14,
   "metadata": {},
   "outputs": [
    {
     "name": "stdout",
     "output_type": "stream",
     "text": [
      "random = 3374  Label: 8\n",
      "Prediction : [8]\n"
     ]
    },
    {
     "data": {
      "image/png": "[encoded data removed]",
      "text/plain": [
       "<Figure size 432x288 with 1 Axes>"
      ]
     },
     "metadata": {
      "needs_background": "light"
     },
     "output_type": "display_data"
    }
   ],
   "source": [
    "# 임의의 test 데이터로 예측한 값 시각화하기\n",
    "r = np.random.randint(0,x_test.shape[0] - 1) # 0 to 9999 random int number\n",
    "Y_one_hot = tf.one_hot(y_test,nb_classes)\n",
    "print(\"random =\",r,\" Label:\", y_test[r])\n",
    "print(\"Prediction :\", predict(x_test[r:r+1]).numpy())\n",
    "\n",
    "image = tf.reshape(x_test[r],(28,28))\n",
    "plt.imshow(image,cmap='Greys')  \n",
    "plt.show()"
   ]
  }
 ],
 "metadata": {
  "kernelspec": {
   "display_name": "Python 3",
   "language": "python",
   "name": "python3"
  },
  "language_info": {
   "codemirror_mode": {
    "name": "ipython",
    "version": 3
   },
   "file_extension": ".py",
   "mimetype": "text/x-python",
   "name": "python",
   "nbconvert_exporter": "python",
   "pygments_lexer": "ipython3",
   "version": "3.7.6"
  }
 },
 "nbformat": 4,
 "nbformat_minor": 4
}
